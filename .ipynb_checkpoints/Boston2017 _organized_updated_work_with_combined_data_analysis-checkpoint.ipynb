{
 "cells": [
  {
   "cell_type": "code",
   "execution_count": 1,
   "metadata": {},
   "outputs": [
    {
     "data": {
      "application/javascript": [
       "IPython.notebook.set_autosave_interval(0)"
      ]
     },
     "metadata": {},
     "output_type": "display_data"
    },
    {
     "name": "stdout",
     "output_type": "stream",
     "text": [
      "Autosave disabled\n"
     ]
    }
   ],
   "source": [
    "%autosave 0"
   ]
  },
  {
   "cell_type": "code",
   "execution_count": 2,
   "metadata": {},
   "outputs": [
    {
     "ename": "ModuleNotFoundError",
     "evalue": "No module named 'pandas'",
     "output_type": "error",
     "traceback": [
      "\u001b[0;31m---------------------------------------------------------------------------\u001b[0m",
      "\u001b[0;31mModuleNotFoundError\u001b[0m                       Traceback (most recent call last)",
      "\u001b[0;32m<ipython-input-2-c3a16dfdc90e>\u001b[0m in \u001b[0;36m<module>\u001b[0;34m\u001b[0m\n\u001b[1;32m      4\u001b[0m \u001b[0;34m\u001b[0m\u001b[0m\n\u001b[1;32m      5\u001b[0m \u001b[0;32mfrom\u001b[0m \u001b[0mdatetime\u001b[0m \u001b[0;32mimport\u001b[0m \u001b[0mdatetime\u001b[0m\u001b[0;34m\u001b[0m\u001b[0;34m\u001b[0m\u001b[0m\n\u001b[0;32m----> 6\u001b[0;31m \u001b[0;32mimport\u001b[0m \u001b[0mpandas\u001b[0m \u001b[0;32mas\u001b[0m \u001b[0mpd\u001b[0m\u001b[0;34m\u001b[0m\u001b[0;34m\u001b[0m\u001b[0m\n\u001b[0m\u001b[1;32m      7\u001b[0m \u001b[0;32mimport\u001b[0m \u001b[0mnumpy\u001b[0m \u001b[0;32mas\u001b[0m \u001b[0mnp\u001b[0m\u001b[0;34m\u001b[0m\u001b[0;34m\u001b[0m\u001b[0m\n\u001b[1;32m      8\u001b[0m \u001b[0;32mimport\u001b[0m \u001b[0mseaborn\u001b[0m \u001b[0;32mas\u001b[0m \u001b[0msns\u001b[0m\u001b[0;34m\u001b[0m\u001b[0;34m\u001b[0m\u001b[0m\n",
      "\u001b[0;31mModuleNotFoundError\u001b[0m: No module named 'pandas'"
     ]
    }
   ],
   "source": [
    "# print all the outputs in a cell\n",
    "from IPython.core.interactiveshell import InteractiveShell\n",
    "InteractiveShell.ast_node_interactivity = \"all\"\n",
    "\n",
    "from datetime import datetime\n",
    "import numpy as np\n",
    "import pandas as pd\n",
    "import seaborn as sns\n",
    "import pandas as pd\n",
    "%pylab inline\n",
    "\n",
    "import sklearn as sk\n",
    "import sklearn.tree as tree\n",
    "from IPython.display import Image  \n",
    "import pydotplus"
   ]
  },
  {
   "cell_type": "code",
   "execution_count": 76,
   "metadata": {},
   "outputs": [],
   "source": [
    "import warnings\n",
    "#suppress all future warning\n",
    "warnings.filterwarnings('ignore')\n",
    "#see only one time warning\n",
    "#warnings.filterwarnings(action='once')"
   ]
  },
  {
   "cell_type": "markdown",
   "metadata": {},
   "source": [
    "# <u> 1. Data Set Description <u>"
   ]
  },
  {
   "cell_type": "markdown",
   "metadata": {},
   "source": [
    "<ul>\n",
    "<li> <b> df_boston </b>is a dataset of all athelets in boston marathon. Each row is represent attribute of an individual athelete. </li>\n",
    "<li> <b> df_moscow </b>is a dataset of all athelets in Moscow marathon. Each row is represent attribute of an individual athelete. </li>\n",
    "</ul>"
   ]
  },
  {
   "cell_type": "markdown",
   "metadata": {},
   "source": [
    "Important columns in <b> df_boston </b> and <b> df_moscow </b> are:\n",
    "<ol>\n",
    "<li> BibNo: Unique Number given to each athelet in marathon. </li>\n",
    "<li> Age: Age of each Athelet. </li>\n",
    "<li> Gender: Gender of each Athelet. </li>\n",
    "<li> Country: The Country which each athelet belongs to </li>\n",
    "<li> Finish_Time: Time taken in seconds by each athelet to complete the race </li>\n",
    "<li> Final_10k_sec: Time taken in seconds by each athelet to complete 10k distance of the race </li>\n",
    "<li> Final_Half_sec: Time taken in seconds by each athelet to complete half of the race </li>\n",
    "<li> Final_40k_sec: Time taken in seconds by each athelet to complete 40k distance of the race </li>\n",
    "<li> Overall_Ranking: Ranking with respect to Finishing time of each athelet </li>\n",
    "<li> Gender_Ranking: Ranking with respect to Gender of Athelet. </li>\n",
    "<li> Division_Ranking: Ranking with repect to Age group of Athelet. </li>\n",
    "</ol>"
   ]
  },
  {
   "cell_type": "code",
   "execution_count": 77,
   "metadata": {},
   "outputs": [],
   "source": [
    "df_boston_raw = pd.read_csv('marathon_results_2017.csv')"
   ]
  },
  {
   "cell_type": "code",
   "execution_count": 78,
   "metadata": {},
   "outputs": [],
   "source": [
    "df_moscow_full_results  = pd.read_csv('1_full_results_mm_2018.csv')"
   ]
  },
  {
   "cell_type": "code",
   "execution_count": 79,
   "metadata": {},
   "outputs": [],
   "source": [
    "df_moscow_split_results = pd.read_csv('1_split_results_mm_2018.csv')"
   ]
  },
  {
   "cell_type": "code",
   "execution_count": 80,
   "metadata": {},
   "outputs": [],
   "source": [
    "pd.set_option('display.max_columns',30)"
   ]
  },
  {
   "cell_type": "code",
   "execution_count": 81,
   "metadata": {},
   "outputs": [
    {
     "data": {
      "text/html": [
       "<div>\n",
       "<style scoped>\n",
       "    .dataframe tbody tr th:only-of-type {\n",
       "        vertical-align: middle;\n",
       "    }\n",
       "\n",
       "    .dataframe tbody tr th {\n",
       "        vertical-align: top;\n",
       "    }\n",
       "\n",
       "    .dataframe thead th {\n",
       "        text-align: right;\n",
       "    }\n",
       "</style>\n",
       "<table border=\"1\" class=\"dataframe\">\n",
       "  <thead>\n",
       "    <tr style=\"text-align: right;\">\n",
       "      <th></th>\n",
       "      <th>Unnamed: 0</th>\n",
       "      <th>Bib</th>\n",
       "      <th>Name</th>\n",
       "      <th>Age</th>\n",
       "      <th>M/F</th>\n",
       "      <th>City</th>\n",
       "      <th>State</th>\n",
       "      <th>Country</th>\n",
       "      <th>Citizen</th>\n",
       "      <th>Unnamed: 9</th>\n",
       "      <th>5K</th>\n",
       "      <th>10K</th>\n",
       "      <th>15K</th>\n",
       "      <th>20K</th>\n",
       "      <th>Half</th>\n",
       "      <th>25K</th>\n",
       "      <th>30K</th>\n",
       "      <th>35K</th>\n",
       "      <th>40K</th>\n",
       "      <th>Pace</th>\n",
       "      <th>Proj Time</th>\n",
       "      <th>Official Time</th>\n",
       "      <th>Overall</th>\n",
       "      <th>Gender</th>\n",
       "      <th>Division</th>\n",
       "    </tr>\n",
       "  </thead>\n",
       "  <tbody>\n",
       "    <tr>\n",
       "      <th>0</th>\n",
       "      <td>0</td>\n",
       "      <td>11</td>\n",
       "      <td>Kirui, Geoffrey</td>\n",
       "      <td>24</td>\n",
       "      <td>M</td>\n",
       "      <td>Keringet</td>\n",
       "      <td>NaN</td>\n",
       "      <td>KEN</td>\n",
       "      <td>NaN</td>\n",
       "      <td>NaN</td>\n",
       "      <td>0:15:25</td>\n",
       "      <td>0:30:28</td>\n",
       "      <td>0:45:44</td>\n",
       "      <td>1:01:15</td>\n",
       "      <td>1:04:35</td>\n",
       "      <td>1:16:59</td>\n",
       "      <td>1:33:01</td>\n",
       "      <td>1:48:19</td>\n",
       "      <td>2:02:53</td>\n",
       "      <td>0:04:57</td>\n",
       "      <td>-</td>\n",
       "      <td>2:09:37</td>\n",
       "      <td>1</td>\n",
       "      <td>1</td>\n",
       "      <td>1</td>\n",
       "    </tr>\n",
       "    <tr>\n",
       "      <th>1</th>\n",
       "      <td>1</td>\n",
       "      <td>17</td>\n",
       "      <td>Rupp, Galen</td>\n",
       "      <td>30</td>\n",
       "      <td>M</td>\n",
       "      <td>Portland</td>\n",
       "      <td>OR</td>\n",
       "      <td>USA</td>\n",
       "      <td>NaN</td>\n",
       "      <td>NaN</td>\n",
       "      <td>0:15:24</td>\n",
       "      <td>0:30:27</td>\n",
       "      <td>0:45:44</td>\n",
       "      <td>1:01:15</td>\n",
       "      <td>1:04:35</td>\n",
       "      <td>1:16:59</td>\n",
       "      <td>1:33:01</td>\n",
       "      <td>1:48:19</td>\n",
       "      <td>2:03:14</td>\n",
       "      <td>0:04:58</td>\n",
       "      <td>-</td>\n",
       "      <td>2:09:58</td>\n",
       "      <td>2</td>\n",
       "      <td>2</td>\n",
       "      <td>2</td>\n",
       "    </tr>\n",
       "    <tr>\n",
       "      <th>2</th>\n",
       "      <td>2</td>\n",
       "      <td>23</td>\n",
       "      <td>Osako, Suguru</td>\n",
       "      <td>25</td>\n",
       "      <td>M</td>\n",
       "      <td>Machida-City</td>\n",
       "      <td>NaN</td>\n",
       "      <td>JPN</td>\n",
       "      <td>NaN</td>\n",
       "      <td>NaN</td>\n",
       "      <td>0:15:25</td>\n",
       "      <td>0:30:29</td>\n",
       "      <td>0:45:44</td>\n",
       "      <td>1:01:16</td>\n",
       "      <td>1:04:36</td>\n",
       "      <td>1:17:00</td>\n",
       "      <td>1:33:01</td>\n",
       "      <td>1:48:31</td>\n",
       "      <td>2:03:38</td>\n",
       "      <td>0:04:59</td>\n",
       "      <td>-</td>\n",
       "      <td>2:10:28</td>\n",
       "      <td>3</td>\n",
       "      <td>3</td>\n",
       "      <td>3</td>\n",
       "    </tr>\n",
       "    <tr>\n",
       "      <th>3</th>\n",
       "      <td>3</td>\n",
       "      <td>21</td>\n",
       "      <td>Biwott, Shadrack</td>\n",
       "      <td>32</td>\n",
       "      <td>M</td>\n",
       "      <td>Mammoth Lakes</td>\n",
       "      <td>CA</td>\n",
       "      <td>USA</td>\n",
       "      <td>NaN</td>\n",
       "      <td>NaN</td>\n",
       "      <td>0:15:25</td>\n",
       "      <td>0:30:29</td>\n",
       "      <td>0:45:44</td>\n",
       "      <td>1:01:19</td>\n",
       "      <td>1:04:45</td>\n",
       "      <td>1:17:00</td>\n",
       "      <td>1:33:01</td>\n",
       "      <td>1:48:58</td>\n",
       "      <td>2:04:35</td>\n",
       "      <td>0:05:03</td>\n",
       "      <td>-</td>\n",
       "      <td>2:12:08</td>\n",
       "      <td>4</td>\n",
       "      <td>4</td>\n",
       "      <td>4</td>\n",
       "    </tr>\n",
       "    <tr>\n",
       "      <th>4</th>\n",
       "      <td>4</td>\n",
       "      <td>9</td>\n",
       "      <td>Chebet, Wilson</td>\n",
       "      <td>31</td>\n",
       "      <td>M</td>\n",
       "      <td>Marakwet</td>\n",
       "      <td>NaN</td>\n",
       "      <td>KEN</td>\n",
       "      <td>NaN</td>\n",
       "      <td>NaN</td>\n",
       "      <td>0:15:25</td>\n",
       "      <td>0:30:28</td>\n",
       "      <td>0:45:44</td>\n",
       "      <td>1:01:15</td>\n",
       "      <td>1:04:35</td>\n",
       "      <td>1:16:59</td>\n",
       "      <td>1:33:01</td>\n",
       "      <td>1:48:41</td>\n",
       "      <td>2:05:00</td>\n",
       "      <td>0:05:04</td>\n",
       "      <td>-</td>\n",
       "      <td>2:12:35</td>\n",
       "      <td>5</td>\n",
       "      <td>5</td>\n",
       "      <td>5</td>\n",
       "    </tr>\n",
       "  </tbody>\n",
       "</table>\n",
       "</div>"
      ],
      "text/plain": [
       "   Unnamed: 0 Bib              Name  Age M/F           City State Country  \\\n",
       "0           0  11   Kirui, Geoffrey   24   M       Keringet   NaN     KEN   \n",
       "1           1  17       Rupp, Galen   30   M       Portland    OR     USA   \n",
       "2           2  23     Osako, Suguru   25   M   Machida-City   NaN     JPN   \n",
       "3           3  21  Biwott, Shadrack   32   M  Mammoth Lakes    CA     USA   \n",
       "4           4   9    Chebet, Wilson   31   M       Marakwet   NaN     KEN   \n",
       "\n",
       "  Citizen Unnamed: 9       5K      10K      15K      20K     Half      25K  \\\n",
       "0     NaN        NaN  0:15:25  0:30:28  0:45:44  1:01:15  1:04:35  1:16:59   \n",
       "1     NaN        NaN  0:15:24  0:30:27  0:45:44  1:01:15  1:04:35  1:16:59   \n",
       "2     NaN        NaN  0:15:25  0:30:29  0:45:44  1:01:16  1:04:36  1:17:00   \n",
       "3     NaN        NaN  0:15:25  0:30:29  0:45:44  1:01:19  1:04:45  1:17:00   \n",
       "4     NaN        NaN  0:15:25  0:30:28  0:45:44  1:01:15  1:04:35  1:16:59   \n",
       "\n",
       "       30K      35K      40K     Pace Proj Time Official Time  Overall  \\\n",
       "0  1:33:01  1:48:19  2:02:53  0:04:57         -       2:09:37        1   \n",
       "1  1:33:01  1:48:19  2:03:14  0:04:58         -       2:09:58        2   \n",
       "2  1:33:01  1:48:31  2:03:38  0:04:59         -       2:10:28        3   \n",
       "3  1:33:01  1:48:58  2:04:35  0:05:03         -       2:12:08        4   \n",
       "4  1:33:01  1:48:41  2:05:00  0:05:04         -       2:12:35        5   \n",
       "\n",
       "   Gender  Division  \n",
       "0       1         1  \n",
       "1       2         2  \n",
       "2       3         3  \n",
       "3       4         4  \n",
       "4       5         5  "
      ]
     },
     "execution_count": 81,
     "metadata": {},
     "output_type": "execute_result"
    }
   ],
   "source": [
    "df_boston_raw.head()"
   ]
  },
  {
   "cell_type": "code",
   "execution_count": 82,
   "metadata": {},
   "outputs": [
    {
     "data": {
      "text/html": [
       "<div>\n",
       "<style scoped>\n",
       "    .dataframe tbody tr th:only-of-type {\n",
       "        vertical-align: middle;\n",
       "    }\n",
       "\n",
       "    .dataframe tbody tr th {\n",
       "        vertical-align: top;\n",
       "    }\n",
       "\n",
       "    .dataframe thead th {\n",
       "        text-align: right;\n",
       "    }\n",
       "</style>\n",
       "<table border=\"1\" class=\"dataframe\">\n",
       "  <thead>\n",
       "    <tr style=\"text-align: right;\">\n",
       "      <th></th>\n",
       "      <th>bib</th>\n",
       "      <th>finish_time_sec</th>\n",
       "      <th>finish_time_result</th>\n",
       "      <th>race</th>\n",
       "      <th>pace_sec</th>\n",
       "      <th>pace(minpkm)</th>\n",
       "      <th>pace(kmph)</th>\n",
       "      <th>half_pace_sec</th>\n",
       "      <th>half_pace(minpkm)</th>\n",
       "      <th>half_pace(kmph)</th>\n",
       "      <th>gender_en</th>\n",
       "      <th>age</th>\n",
       "      <th>name_en</th>\n",
       "      <th>location_city_ru</th>\n",
       "      <th>location_city_en</th>\n",
       "      <th>country_code_alpha_3</th>\n",
       "      <th>flag_DNF</th>\n",
       "      <th>flag_all_split_exist</th>\n",
       "      <th>race_uniform_index</th>\n",
       "    </tr>\n",
       "  </thead>\n",
       "  <tbody>\n",
       "    <tr>\n",
       "      <th>0</th>\n",
       "      <td>1</td>\n",
       "      <td>8911.0</td>\n",
       "      <td>2h 28min 31sec</td>\n",
       "      <td>42.195 km</td>\n",
       "      <td>211.186160</td>\n",
       "      <td>3:31 min/km</td>\n",
       "      <td>17.0 km/h</td>\n",
       "      <td>208.318521</td>\n",
       "      <td>3:28 min/km</td>\n",
       "      <td>17.3 km/h</td>\n",
       "      <td>Female</td>\n",
       "      <td>30</td>\n",
       "      <td>Sardana Trofimova</td>\n",
       "      <td>Якутск</td>\n",
       "      <td>Yakutsk</td>\n",
       "      <td>RUS</td>\n",
       "      <td>0</td>\n",
       "      <td>1</td>\n",
       "      <td>0.000133</td>\n",
       "    </tr>\n",
       "    <tr>\n",
       "      <th>1</th>\n",
       "      <td>2</td>\n",
       "      <td>9308.0</td>\n",
       "      <td>2h 35min 08sec</td>\n",
       "      <td>42.195 km</td>\n",
       "      <td>220.594857</td>\n",
       "      <td>3:40 min/km</td>\n",
       "      <td>16.3 km/h</td>\n",
       "      <td>212.157839</td>\n",
       "      <td>3:32 min/km</td>\n",
       "      <td>17.0 km/h</td>\n",
       "      <td>Female</td>\n",
       "      <td>35</td>\n",
       "      <td>Tat'yana Arkhipova</td>\n",
       "      <td>Чебоксары</td>\n",
       "      <td>Cheboksary</td>\n",
       "      <td>RUS</td>\n",
       "      <td>0</td>\n",
       "      <td>1</td>\n",
       "      <td>0.002556</td>\n",
       "    </tr>\n",
       "    <tr>\n",
       "      <th>2</th>\n",
       "      <td>3</td>\n",
       "      <td>8122.0</td>\n",
       "      <td>2h 15min 22sec</td>\n",
       "      <td>42.195 km</td>\n",
       "      <td>192.487261</td>\n",
       "      <td>3:12 min/km</td>\n",
       "      <td>18.7 km/h</td>\n",
       "      <td>189.880318</td>\n",
       "      <td>3:09 min/km</td>\n",
       "      <td>19.0 km/h</td>\n",
       "      <td>Male</td>\n",
       "      <td>31</td>\n",
       "      <td>Stepan Kiselev</td>\n",
       "      <td>Казань</td>\n",
       "      <td>Kazan'</td>\n",
       "      <td>RUS</td>\n",
       "      <td>0</td>\n",
       "      <td>1</td>\n",
       "      <td>0.000397</td>\n",
       "    </tr>\n",
       "    <tr>\n",
       "      <th>3</th>\n",
       "      <td>4</td>\n",
       "      <td>8467.0</td>\n",
       "      <td>2h 21min 07sec</td>\n",
       "      <td>42.195 km</td>\n",
       "      <td>200.663586</td>\n",
       "      <td>3:20 min/km</td>\n",
       "      <td>17.9 km/h</td>\n",
       "      <td>186.894182</td>\n",
       "      <td>3:06 min/km</td>\n",
       "      <td>19.3 km/h</td>\n",
       "      <td>Male</td>\n",
       "      <td>36</td>\n",
       "      <td>Dmitriy Safronov</td>\n",
       "      <td>Москва</td>\n",
       "      <td>Moskva</td>\n",
       "      <td>RUS</td>\n",
       "      <td>0</td>\n",
       "      <td>1</td>\n",
       "      <td>0.009003</td>\n",
       "    </tr>\n",
       "    <tr>\n",
       "      <th>4</th>\n",
       "      <td>5</td>\n",
       "      <td>8738.0</td>\n",
       "      <td>2h 25min 38sec</td>\n",
       "      <td>42.195 km</td>\n",
       "      <td>207.086148</td>\n",
       "      <td>3:27 min/km</td>\n",
       "      <td>17.4 km/h</td>\n",
       "      <td>194.904610</td>\n",
       "      <td>3:14 min/km</td>\n",
       "      <td>18.5 km/h</td>\n",
       "      <td>Male</td>\n",
       "      <td>42</td>\n",
       "      <td>Grigoriy Andreev</td>\n",
       "      <td>Уфа</td>\n",
       "      <td>Ufa</td>\n",
       "      <td>RUS</td>\n",
       "      <td>0</td>\n",
       "      <td>1</td>\n",
       "      <td>0.006439</td>\n",
       "    </tr>\n",
       "  </tbody>\n",
       "</table>\n",
       "</div>"
      ],
      "text/plain": [
       "   bib  finish_time_sec finish_time_result       race    pace_sec  \\\n",
       "0    1           8911.0     2h 28min 31sec  42.195 km  211.186160   \n",
       "1    2           9308.0     2h 35min 08sec  42.195 km  220.594857   \n",
       "2    3           8122.0     2h 15min 22sec  42.195 km  192.487261   \n",
       "3    4           8467.0     2h 21min 07sec  42.195 km  200.663586   \n",
       "4    5           8738.0     2h 25min 38sec  42.195 km  207.086148   \n",
       "\n",
       "  pace(minpkm) pace(kmph)  half_pace_sec half_pace(minpkm) half_pace(kmph)  \\\n",
       "0  3:31 min/km  17.0 km/h     208.318521       3:28 min/km       17.3 km/h   \n",
       "1  3:40 min/km  16.3 km/h     212.157839       3:32 min/km       17.0 km/h   \n",
       "2  3:12 min/km  18.7 km/h     189.880318       3:09 min/km       19.0 km/h   \n",
       "3  3:20 min/km  17.9 km/h     186.894182       3:06 min/km       19.3 km/h   \n",
       "4  3:27 min/km  17.4 km/h     194.904610       3:14 min/km       18.5 km/h   \n",
       "\n",
       "  gender_en  age             name_en location_city_ru location_city_en  \\\n",
       "0    Female   30   Sardana Trofimova           Якутск          Yakutsk   \n",
       "1    Female   35  Tat'yana Arkhipova        Чебоксары       Cheboksary   \n",
       "2      Male   31      Stepan Kiselev           Казань           Kazan'   \n",
       "3      Male   36    Dmitriy Safronov           Москва           Moskva   \n",
       "4      Male   42    Grigoriy Andreev              Уфа              Ufa   \n",
       "\n",
       "  country_code_alpha_3  flag_DNF  flag_all_split_exist  race_uniform_index  \n",
       "0                  RUS         0                     1            0.000133  \n",
       "1                  RUS         0                     1            0.002556  \n",
       "2                  RUS         0                     1            0.000397  \n",
       "3                  RUS         0                     1            0.009003  \n",
       "4                  RUS         0                     1            0.006439  "
      ]
     },
     "execution_count": 82,
     "metadata": {},
     "output_type": "execute_result"
    }
   ],
   "source": [
    "df_moscow_full_results.head()"
   ]
  },
  {
   "cell_type": "code",
   "execution_count": 83,
   "metadata": {},
   "outputs": [
    {
     "data": {
      "text/plain": [
       "(26410, 25)"
      ]
     },
     "execution_count": 83,
     "metadata": {},
     "output_type": "execute_result"
    }
   ],
   "source": [
    "df_boston_raw.shape"
   ]
  },
  {
   "cell_type": "code",
   "execution_count": 84,
   "metadata": {},
   "outputs": [
    {
     "name": "stdout",
     "output_type": "stream",
     "text": [
      "<class 'pandas.core.frame.DataFrame'>\n",
      "RangeIndex: 26410 entries, 0 to 26409\n",
      "Data columns (total 25 columns):\n",
      "Unnamed: 0       26410 non-null int64\n",
      "Bib              26410 non-null object\n",
      "Name             26410 non-null object\n",
      "Age              26410 non-null int64\n",
      "M/F              26410 non-null object\n",
      "City             26410 non-null object\n",
      "State            22815 non-null object\n",
      "Country          26410 non-null object\n",
      "Citizen          1254 non-null object\n",
      "Unnamed: 9       91 non-null object\n",
      "5K               26410 non-null object\n",
      "10K              26410 non-null object\n",
      "15K              26410 non-null object\n",
      "20K              26410 non-null object\n",
      "Half             26410 non-null object\n",
      "25K              26410 non-null object\n",
      "30K              26410 non-null object\n",
      "35K              26410 non-null object\n",
      "40K              26410 non-null object\n",
      "Pace             26410 non-null object\n",
      "Proj Time        26410 non-null object\n",
      "Official Time    26410 non-null object\n",
      "Overall          26410 non-null int64\n",
      "Gender           26410 non-null int64\n",
      "Division         26410 non-null int64\n",
      "dtypes: int64(5), object(20)\n",
      "memory usage: 5.0+ MB\n"
     ]
    }
   ],
   "source": [
    "df_boston_raw.info()"
   ]
  },
  {
   "cell_type": "code",
   "execution_count": 85,
   "metadata": {},
   "outputs": [
    {
     "data": {
      "text/plain": [
       "Unnamed: 0           0\n",
       "Bib                  0\n",
       "Name                 0\n",
       "Age                  0\n",
       "M/F                  0\n",
       "City                 0\n",
       "State             3595\n",
       "Country              0\n",
       "Citizen          25156\n",
       "Unnamed: 9       26319\n",
       "5K                   0\n",
       "10K                  0\n",
       "15K                  0\n",
       "20K                  0\n",
       "Half                 0\n",
       "25K                  0\n",
       "30K                  0\n",
       "35K                  0\n",
       "40K                  0\n",
       "Pace                 0\n",
       "Proj Time            0\n",
       "Official Time        0\n",
       "Overall              0\n",
       "Gender               0\n",
       "Division             0\n",
       "dtype: int64"
      ]
     },
     "execution_count": 85,
     "metadata": {},
     "output_type": "execute_result"
    }
   ],
   "source": [
    "df_boston_raw.isna().sum()"
   ]
  },
  {
   "cell_type": "code",
   "execution_count": 86,
   "metadata": {},
   "outputs": [
    {
     "data": {
      "text/plain": [
       "(21662, 19)"
      ]
     },
     "execution_count": 86,
     "metadata": {},
     "output_type": "execute_result"
    }
   ],
   "source": [
    "df_moscow_full_results.shape"
   ]
  },
  {
   "cell_type": "code",
   "execution_count": 87,
   "metadata": {},
   "outputs": [
    {
     "data": {
      "text/plain": [
       "(104438, 9)"
      ]
     },
     "execution_count": 87,
     "metadata": {},
     "output_type": "execute_result"
    }
   ],
   "source": [
    "df_moscow_split_results.shape"
   ]
  },
  {
   "cell_type": "code",
   "execution_count": 88,
   "metadata": {},
   "outputs": [
    {
     "name": "stdout",
     "output_type": "stream",
     "text": [
      "<class 'pandas.core.frame.DataFrame'>\n",
      "RangeIndex: 21662 entries, 0 to 21661\n",
      "Data columns (total 19 columns):\n",
      "bib                     21662 non-null int64\n",
      "finish_time_sec         21385 non-null float64\n",
      "finish_time_result      21385 non-null object\n",
      "race                    21662 non-null object\n",
      "pace_sec                21385 non-null float64\n",
      "pace(minpkm)            21385 non-null object\n",
      "pace(kmph)              21385 non-null object\n",
      "half_pace_sec           21380 non-null float64\n",
      "half_pace(minpkm)       21380 non-null object\n",
      "half_pace(kmph)         21385 non-null object\n",
      "gender_en               21662 non-null object\n",
      "age                     21662 non-null int64\n",
      "name_en                 21662 non-null object\n",
      "location_city_ru        21662 non-null object\n",
      "location_city_en        21662 non-null object\n",
      "country_code_alpha_3    21662 non-null object\n",
      "flag_DNF                21662 non-null int64\n",
      "flag_all_split_exist    21662 non-null int64\n",
      "race_uniform_index      21289 non-null float64\n",
      "dtypes: float64(4), int64(4), object(11)\n",
      "memory usage: 3.1+ MB\n"
     ]
    }
   ],
   "source": [
    "df_moscow_full_results.info()"
   ]
  },
  {
   "cell_type": "code",
   "execution_count": 89,
   "metadata": {},
   "outputs": [
    {
     "data": {
      "text/plain": [
       "bib                       0\n",
       "finish_time_sec         277\n",
       "finish_time_result      277\n",
       "race                      0\n",
       "pace_sec                277\n",
       "pace(minpkm)            277\n",
       "pace(kmph)              277\n",
       "half_pace_sec           282\n",
       "half_pace(minpkm)       282\n",
       "half_pace(kmph)         277\n",
       "gender_en                 0\n",
       "age                       0\n",
       "name_en                   0\n",
       "location_city_ru          0\n",
       "location_city_en          0\n",
       "country_code_alpha_3      0\n",
       "flag_DNF                  0\n",
       "flag_all_split_exist      0\n",
       "race_uniform_index      373\n",
       "dtype: int64"
      ]
     },
     "execution_count": 89,
     "metadata": {},
     "output_type": "execute_result"
    }
   ],
   "source": [
    "df_moscow_full_results.isna().sum()"
   ]
  },
  {
   "cell_type": "markdown",
   "metadata": {},
   "source": [
    "#### Drop the unused columns and standardised the column names by renaming as per the both datasets in Boston Dataframe"
   ]
  },
  {
   "cell_type": "code",
   "execution_count": 90,
   "metadata": {},
   "outputs": [],
   "source": [
    "df_boston_raw.drop(columns=['Unnamed: 0','Citizen','Unnamed: 9','Proj Time'],axis=1,inplace=True)"
   ]
  },
  {
   "cell_type": "code",
   "execution_count": 91,
   "metadata": {},
   "outputs": [],
   "source": [
    "df_boston_raw.rename(columns={'Bib':'BibNo','M/F':'Gender','Pace':'Pace_minpermile','Official Time':'Finish_Time',\\\n",
    "                   'Overall':'Overall_ranking','Gender':'Gender_ranking','Division':'Division_ranking'},inplace=True)"
   ]
  },
  {
   "cell_type": "markdown",
   "metadata": {},
   "source": [
    "#### Replaced Male and Female with values 0 and 1 in Boston Dataframe"
   ]
  },
  {
   "cell_type": "code",
   "execution_count": 92,
   "metadata": {},
   "outputs": [],
   "source": [
    "df_boston_raw.replace(to_replace='M', value=1.0, inplace=True)"
   ]
  },
  {
   "cell_type": "code",
   "execution_count": 93,
   "metadata": {},
   "outputs": [],
   "source": [
    "df_boston_raw.replace(to_replace='F', value=0.0, inplace=True)"
   ]
  },
  {
   "cell_type": "code",
   "execution_count": 94,
   "metadata": {},
   "outputs": [
    {
     "data": {
      "text/html": [
       "<div>\n",
       "<style scoped>\n",
       "    .dataframe tbody tr th:only-of-type {\n",
       "        vertical-align: middle;\n",
       "    }\n",
       "\n",
       "    .dataframe tbody tr th {\n",
       "        vertical-align: top;\n",
       "    }\n",
       "\n",
       "    .dataframe thead th {\n",
       "        text-align: right;\n",
       "    }\n",
       "</style>\n",
       "<table border=\"1\" class=\"dataframe\">\n",
       "  <thead>\n",
       "    <tr style=\"text-align: right;\">\n",
       "      <th></th>\n",
       "      <th>BibNo</th>\n",
       "      <th>Name</th>\n",
       "      <th>Age</th>\n",
       "      <th>Gender</th>\n",
       "      <th>City</th>\n",
       "      <th>State</th>\n",
       "      <th>Country</th>\n",
       "      <th>5K</th>\n",
       "      <th>10K</th>\n",
       "      <th>15K</th>\n",
       "      <th>20K</th>\n",
       "      <th>Half</th>\n",
       "      <th>25K</th>\n",
       "      <th>30K</th>\n",
       "      <th>35K</th>\n",
       "      <th>40K</th>\n",
       "      <th>Pace_minpermile</th>\n",
       "      <th>Finish_Time</th>\n",
       "      <th>Overall_ranking</th>\n",
       "      <th>Gender_ranking</th>\n",
       "      <th>Division_ranking</th>\n",
       "    </tr>\n",
       "  </thead>\n",
       "  <tbody>\n",
       "    <tr>\n",
       "      <th>0</th>\n",
       "      <td>11</td>\n",
       "      <td>Kirui, Geoffrey</td>\n",
       "      <td>24</td>\n",
       "      <td>1.0</td>\n",
       "      <td>Keringet</td>\n",
       "      <td>NaN</td>\n",
       "      <td>KEN</td>\n",
       "      <td>0:15:25</td>\n",
       "      <td>0:30:28</td>\n",
       "      <td>0:45:44</td>\n",
       "      <td>1:01:15</td>\n",
       "      <td>1:04:35</td>\n",
       "      <td>1:16:59</td>\n",
       "      <td>1:33:01</td>\n",
       "      <td>1:48:19</td>\n",
       "      <td>2:02:53</td>\n",
       "      <td>0:04:57</td>\n",
       "      <td>2:09:37</td>\n",
       "      <td>1</td>\n",
       "      <td>1</td>\n",
       "      <td>1</td>\n",
       "    </tr>\n",
       "    <tr>\n",
       "      <th>1</th>\n",
       "      <td>17</td>\n",
       "      <td>Rupp, Galen</td>\n",
       "      <td>30</td>\n",
       "      <td>1.0</td>\n",
       "      <td>Portland</td>\n",
       "      <td>OR</td>\n",
       "      <td>USA</td>\n",
       "      <td>0:15:24</td>\n",
       "      <td>0:30:27</td>\n",
       "      <td>0:45:44</td>\n",
       "      <td>1:01:15</td>\n",
       "      <td>1:04:35</td>\n",
       "      <td>1:16:59</td>\n",
       "      <td>1:33:01</td>\n",
       "      <td>1:48:19</td>\n",
       "      <td>2:03:14</td>\n",
       "      <td>0:04:58</td>\n",
       "      <td>2:09:58</td>\n",
       "      <td>2</td>\n",
       "      <td>2</td>\n",
       "      <td>2</td>\n",
       "    </tr>\n",
       "    <tr>\n",
       "      <th>2</th>\n",
       "      <td>23</td>\n",
       "      <td>Osako, Suguru</td>\n",
       "      <td>25</td>\n",
       "      <td>1.0</td>\n",
       "      <td>Machida-City</td>\n",
       "      <td>NaN</td>\n",
       "      <td>JPN</td>\n",
       "      <td>0:15:25</td>\n",
       "      <td>0:30:29</td>\n",
       "      <td>0:45:44</td>\n",
       "      <td>1:01:16</td>\n",
       "      <td>1:04:36</td>\n",
       "      <td>1:17:00</td>\n",
       "      <td>1:33:01</td>\n",
       "      <td>1:48:31</td>\n",
       "      <td>2:03:38</td>\n",
       "      <td>0:04:59</td>\n",
       "      <td>2:10:28</td>\n",
       "      <td>3</td>\n",
       "      <td>3</td>\n",
       "      <td>3</td>\n",
       "    </tr>\n",
       "    <tr>\n",
       "      <th>3</th>\n",
       "      <td>21</td>\n",
       "      <td>Biwott, Shadrack</td>\n",
       "      <td>32</td>\n",
       "      <td>1.0</td>\n",
       "      <td>Mammoth Lakes</td>\n",
       "      <td>CA</td>\n",
       "      <td>USA</td>\n",
       "      <td>0:15:25</td>\n",
       "      <td>0:30:29</td>\n",
       "      <td>0:45:44</td>\n",
       "      <td>1:01:19</td>\n",
       "      <td>1:04:45</td>\n",
       "      <td>1:17:00</td>\n",
       "      <td>1:33:01</td>\n",
       "      <td>1:48:58</td>\n",
       "      <td>2:04:35</td>\n",
       "      <td>0:05:03</td>\n",
       "      <td>2:12:08</td>\n",
       "      <td>4</td>\n",
       "      <td>4</td>\n",
       "      <td>4</td>\n",
       "    </tr>\n",
       "    <tr>\n",
       "      <th>4</th>\n",
       "      <td>9</td>\n",
       "      <td>Chebet, Wilson</td>\n",
       "      <td>31</td>\n",
       "      <td>1.0</td>\n",
       "      <td>Marakwet</td>\n",
       "      <td>NaN</td>\n",
       "      <td>KEN</td>\n",
       "      <td>0:15:25</td>\n",
       "      <td>0:30:28</td>\n",
       "      <td>0:45:44</td>\n",
       "      <td>1:01:15</td>\n",
       "      <td>1:04:35</td>\n",
       "      <td>1:16:59</td>\n",
       "      <td>1:33:01</td>\n",
       "      <td>1:48:41</td>\n",
       "      <td>2:05:00</td>\n",
       "      <td>0:05:04</td>\n",
       "      <td>2:12:35</td>\n",
       "      <td>5</td>\n",
       "      <td>5</td>\n",
       "      <td>5</td>\n",
       "    </tr>\n",
       "  </tbody>\n",
       "</table>\n",
       "</div>"
      ],
      "text/plain": [
       "  BibNo              Name  Age  Gender           City State Country       5K  \\\n",
       "0    11   Kirui, Geoffrey   24     1.0       Keringet   NaN     KEN  0:15:25   \n",
       "1    17       Rupp, Galen   30     1.0       Portland    OR     USA  0:15:24   \n",
       "2    23     Osako, Suguru   25     1.0   Machida-City   NaN     JPN  0:15:25   \n",
       "3    21  Biwott, Shadrack   32     1.0  Mammoth Lakes    CA     USA  0:15:25   \n",
       "4     9    Chebet, Wilson   31     1.0       Marakwet   NaN     KEN  0:15:25   \n",
       "\n",
       "       10K      15K      20K     Half      25K      30K      35K      40K  \\\n",
       "0  0:30:28  0:45:44  1:01:15  1:04:35  1:16:59  1:33:01  1:48:19  2:02:53   \n",
       "1  0:30:27  0:45:44  1:01:15  1:04:35  1:16:59  1:33:01  1:48:19  2:03:14   \n",
       "2  0:30:29  0:45:44  1:01:16  1:04:36  1:17:00  1:33:01  1:48:31  2:03:38   \n",
       "3  0:30:29  0:45:44  1:01:19  1:04:45  1:17:00  1:33:01  1:48:58  2:04:35   \n",
       "4  0:30:28  0:45:44  1:01:15  1:04:35  1:16:59  1:33:01  1:48:41  2:05:00   \n",
       "\n",
       "  Pace_minpermile Finish_Time  Overall_ranking  Gender_ranking  \\\n",
       "0         0:04:57     2:09:37                1               1   \n",
       "1         0:04:58     2:09:58                2               2   \n",
       "2         0:04:59     2:10:28                3               3   \n",
       "3         0:05:03     2:12:08                4               4   \n",
       "4         0:05:04     2:12:35                5               5   \n",
       "\n",
       "   Division_ranking  \n",
       "0                 1  \n",
       "1                 2  \n",
       "2                 3  \n",
       "3                 4  \n",
       "4                 5  "
      ]
     },
     "execution_count": 94,
     "metadata": {},
     "output_type": "execute_result"
    }
   ],
   "source": [
    "df_boston_raw.head()"
   ]
  },
  {
   "cell_type": "markdown",
   "metadata": {},
   "source": [
    "#### Drop the unused columns and standardised the column names by renaming as per the both datasets in Moscow Dataframe"
   ]
  },
  {
   "cell_type": "code",
   "execution_count": 95,
   "metadata": {},
   "outputs": [],
   "source": [
    "df_moscow_full_results.drop(['finish_time_result','location_city_ru','flag_all_split_exist',\\\n",
    "                      'race','pace(kmph)','half_pace(kmph)','location_city_ru','flag_DNF',\\\n",
    "                      'flag_all_split_exist','race_uniform_index'],axis=1,inplace=True)"
   ]
  },
  {
   "cell_type": "code",
   "execution_count": 96,
   "metadata": {},
   "outputs": [],
   "source": [
    "df_moscow_full_results.rename(columns ={'bib':'BibNo','pace_sec':'Pace_Sec','finish_time_sec':'Finish_Time_Sec',\\\n",
    "                    'pace(minpkm)':'Pace_Minpkm','half_pace_sec':'Half_Pace_Sec',\\\n",
    "                    'half_pace(minpkm)':'Half_Pace_Minpkm','gender_en':'Gender',\\\n",
    "                    'age':'Age','name_en':'Name','location_city_en':'City','country_code_alpha_3':'Country'},inplace=True)"
   ]
  },
  {
   "cell_type": "code",
   "execution_count": 97,
   "metadata": {},
   "outputs": [],
   "source": [
    "df_moscow_split_results.drop(['split_pace(minpkm)','split_pace(kmph)','split_uniform_index','split'],axis=1,inplace=True)"
   ]
  },
  {
   "cell_type": "code",
   "execution_count": 98,
   "metadata": {},
   "outputs": [
    {
     "data": {
      "text/html": [
       "<div>\n",
       "<style scoped>\n",
       "    .dataframe tbody tr th:only-of-type {\n",
       "        vertical-align: middle;\n",
       "    }\n",
       "\n",
       "    .dataframe tbody tr th {\n",
       "        vertical-align: top;\n",
       "    }\n",
       "\n",
       "    .dataframe thead th {\n",
       "        text-align: right;\n",
       "    }\n",
       "</style>\n",
       "<table border=\"1\" class=\"dataframe\">\n",
       "  <thead>\n",
       "    <tr style=\"text-align: right;\">\n",
       "      <th></th>\n",
       "      <th>bib</th>\n",
       "      <th>split_name</th>\n",
       "      <th>split_time_sec</th>\n",
       "      <th>split_time_result</th>\n",
       "      <th>split_pace_sec</th>\n",
       "    </tr>\n",
       "  </thead>\n",
       "  <tbody>\n",
       "    <tr>\n",
       "      <th>0</th>\n",
       "      <td>1</td>\n",
       "      <td>5 km</td>\n",
       "      <td>1057</td>\n",
       "      <td>17min 37sec</td>\n",
       "      <td>211.400000</td>\n",
       "    </tr>\n",
       "    <tr>\n",
       "      <th>1</th>\n",
       "      <td>1</td>\n",
       "      <td>10 km</td>\n",
       "      <td>2112</td>\n",
       "      <td>35min 12sec</td>\n",
       "      <td>211.000000</td>\n",
       "    </tr>\n",
       "    <tr>\n",
       "      <th>2</th>\n",
       "      <td>1</td>\n",
       "      <td>15 km</td>\n",
       "      <td>3149</td>\n",
       "      <td>52min 29sec</td>\n",
       "      <td>207.400000</td>\n",
       "    </tr>\n",
       "    <tr>\n",
       "      <th>3</th>\n",
       "      <td>1</td>\n",
       "      <td>Half marathon</td>\n",
       "      <td>4395</td>\n",
       "      <td>1h 13min 15sec</td>\n",
       "      <td>204.346043</td>\n",
       "    </tr>\n",
       "    <tr>\n",
       "      <th>4</th>\n",
       "      <td>1</td>\n",
       "      <td>25 km</td>\n",
       "      <td>5258</td>\n",
       "      <td>1h 27min 38sec</td>\n",
       "      <td>221.140295</td>\n",
       "    </tr>\n",
       "  </tbody>\n",
       "</table>\n",
       "</div>"
      ],
      "text/plain": [
       "   bib     split_name  split_time_sec split_time_result  split_pace_sec\n",
       "0    1           5 km            1057       17min 37sec      211.400000\n",
       "1    1          10 km            2112       35min 12sec      211.000000\n",
       "2    1          15 km            3149       52min 29sec      207.400000\n",
       "3    1  Half marathon            4395    1h 13min 15sec      204.346043\n",
       "4    1          25 km            5258    1h 27min 38sec      221.140295"
      ]
     },
     "execution_count": 98,
     "metadata": {},
     "output_type": "execute_result"
    }
   ],
   "source": [
    "df_moscow_split_results.head()"
   ]
  },
  {
   "cell_type": "code",
   "execution_count": 99,
   "metadata": {},
   "outputs": [],
   "source": [
    "df_moscow_split_results.rename (columns={'bib':'BibNo','split_name':'Split_Name','split_time_sec':'Split_Time_Sec',\\\n",
    "                    'split_time_result':'Split_Time_Result','split_pace_sec':'Split_Pace_Sec'},inplace=True)"
   ]
  },
  {
   "cell_type": "markdown",
   "metadata": {},
   "source": [
    "#### By using pivot table to make split_name values as column in Moscow_Split_Results and Moscow_Full_Results Dataframe"
   ]
  },
  {
   "cell_type": "code",
   "execution_count": 100,
   "metadata": {},
   "outputs": [],
   "source": [
    "df_moscow_split_results['Marathon_Split'] = ((df_moscow_split_results.Split_Name == ('10 km'))\\\n",
    "                                             |(df_moscow_split_results.Split_Name == ('Half marathon'))\\\n",
    "                                             |(df_moscow_split_results.Split_Name == ('Marathon')))"
   ]
  },
  {
   "cell_type": "code",
   "execution_count": 101,
   "metadata": {},
   "outputs": [],
   "source": [
    "df_temp_pivot = df_moscow_split_results.pivot_table(index='BibNo', columns='Split_Name', values='Split_Time_Sec')"
   ]
  },
  {
   "cell_type": "code",
   "execution_count": 102,
   "metadata": {},
   "outputs": [
    {
     "data": {
      "text/html": [
       "<div>\n",
       "<style scoped>\n",
       "    .dataframe tbody tr th:only-of-type {\n",
       "        vertical-align: middle;\n",
       "    }\n",
       "\n",
       "    .dataframe tbody tr th {\n",
       "        vertical-align: top;\n",
       "    }\n",
       "\n",
       "    .dataframe thead th {\n",
       "        text-align: right;\n",
       "    }\n",
       "</style>\n",
       "<table border=\"1\" class=\"dataframe\">\n",
       "  <thead>\n",
       "    <tr style=\"text-align: right;\">\n",
       "      <th>Split_Name</th>\n",
       "      <th>10 km</th>\n",
       "      <th>15 km</th>\n",
       "      <th>25 km</th>\n",
       "      <th>30 km</th>\n",
       "      <th>35 km</th>\n",
       "      <th>40 km</th>\n",
       "      <th>5 km</th>\n",
       "      <th>Half marathon</th>\n",
       "      <th>Marathon</th>\n",
       "    </tr>\n",
       "    <tr>\n",
       "      <th>BibNo</th>\n",
       "      <th></th>\n",
       "      <th></th>\n",
       "      <th></th>\n",
       "      <th></th>\n",
       "      <th></th>\n",
       "      <th></th>\n",
       "      <th></th>\n",
       "      <th></th>\n",
       "      <th></th>\n",
       "    </tr>\n",
       "  </thead>\n",
       "  <tbody>\n",
       "    <tr>\n",
       "      <th>1</th>\n",
       "      <td>2112.0</td>\n",
       "      <td>3149.0</td>\n",
       "      <td>5258.0</td>\n",
       "      <td>6321.0</td>\n",
       "      <td>7362.0</td>\n",
       "      <td>8442.0</td>\n",
       "      <td>1057.0</td>\n",
       "      <td>4395.0</td>\n",
       "      <td>8911.0</td>\n",
       "    </tr>\n",
       "    <tr>\n",
       "      <th>2</th>\n",
       "      <td>2115.0</td>\n",
       "      <td>3188.0</td>\n",
       "      <td>5386.0</td>\n",
       "      <td>6508.0</td>\n",
       "      <td>7608.0</td>\n",
       "      <td>8784.0</td>\n",
       "      <td>1059.0</td>\n",
       "      <td>4476.0</td>\n",
       "      <td>9308.0</td>\n",
       "    </tr>\n",
       "    <tr>\n",
       "      <th>3</th>\n",
       "      <td>1899.0</td>\n",
       "      <td>2867.0</td>\n",
       "      <td>4796.0</td>\n",
       "      <td>5786.0</td>\n",
       "      <td>6632.0</td>\n",
       "      <td>7703.0</td>\n",
       "      <td>947.0</td>\n",
       "      <td>4006.0</td>\n",
       "      <td>8122.0</td>\n",
       "    </tr>\n",
       "    <tr>\n",
       "      <th>4</th>\n",
       "      <td>1876.0</td>\n",
       "      <td>2814.0</td>\n",
       "      <td>4752.0</td>\n",
       "      <td>5780.0</td>\n",
       "      <td>6827.0</td>\n",
       "      <td>7967.0</td>\n",
       "      <td>945.0</td>\n",
       "      <td>3943.0</td>\n",
       "      <td>8467.0</td>\n",
       "    </tr>\n",
       "    <tr>\n",
       "      <th>5</th>\n",
       "      <td>1958.0</td>\n",
       "      <td>2933.0</td>\n",
       "      <td>4949.0</td>\n",
       "      <td>6015.0</td>\n",
       "      <td>7080.0</td>\n",
       "      <td>8235.0</td>\n",
       "      <td>976.0</td>\n",
       "      <td>4112.0</td>\n",
       "      <td>8738.0</td>\n",
       "    </tr>\n",
       "  </tbody>\n",
       "</table>\n",
       "</div>"
      ],
      "text/plain": [
       "Split_Name   10 km   15 km   25 km   30 km   35 km   40 km    5 km  \\\n",
       "BibNo                                                                \n",
       "1           2112.0  3149.0  5258.0  6321.0  7362.0  8442.0  1057.0   \n",
       "2           2115.0  3188.0  5386.0  6508.0  7608.0  8784.0  1059.0   \n",
       "3           1899.0  2867.0  4796.0  5786.0  6632.0  7703.0   947.0   \n",
       "4           1876.0  2814.0  4752.0  5780.0  6827.0  7967.0   945.0   \n",
       "5           1958.0  2933.0  4949.0  6015.0  7080.0  8235.0   976.0   \n",
       "\n",
       "Split_Name  Half marathon  Marathon  \n",
       "BibNo                                \n",
       "1                  4395.0    8911.0  \n",
       "2                  4476.0    9308.0  \n",
       "3                  4006.0    8122.0  \n",
       "4                  3943.0    8467.0  \n",
       "5                  4112.0    8738.0  "
      ]
     },
     "execution_count": 102,
     "metadata": {},
     "output_type": "execute_result"
    }
   ],
   "source": [
    "df_temp_pivot.head()"
   ]
  },
  {
   "cell_type": "code",
   "execution_count": 103,
   "metadata": {},
   "outputs": [],
   "source": [
    "df_temp_pivot.drop(['15 km','25 km','30 km','35 km','40 km','5 km'],axis=1,inplace=True)"
   ]
  },
  {
   "cell_type": "code",
   "execution_count": 104,
   "metadata": {},
   "outputs": [],
   "source": [
    "df_temp_pivot.set_index='BibNo'"
   ]
  },
  {
   "cell_type": "markdown",
   "metadata": {},
   "source": [
    "#### Used the Outer Merge on Pivot table and Moscow_Full_Result to to get the split name values as column in Moscow_full_result"
   ]
  },
  {
   "cell_type": "code",
   "execution_count": 105,
   "metadata": {},
   "outputs": [],
   "source": [
    "df_Moscow = df_moscow_full_results.merge(df_temp_pivot,how='outer',right_index=True,left_on='BibNo')"
   ]
  },
  {
   "cell_type": "code",
   "execution_count": 106,
   "metadata": {},
   "outputs": [],
   "source": [
    "df_Moscow = df_moscow_full_results.merge(df_temp_pivot,how='outer',right_index=True,left_on='BibNo')"
   ]
  },
  {
   "cell_type": "code",
   "execution_count": 107,
   "metadata": {
    "scrolled": true
   },
   "outputs": [
    {
     "data": {
      "text/html": [
       "<div>\n",
       "<style scoped>\n",
       "    .dataframe tbody tr th:only-of-type {\n",
       "        vertical-align: middle;\n",
       "    }\n",
       "\n",
       "    .dataframe tbody tr th {\n",
       "        vertical-align: top;\n",
       "    }\n",
       "\n",
       "    .dataframe thead th {\n",
       "        text-align: right;\n",
       "    }\n",
       "</style>\n",
       "<table border=\"1\" class=\"dataframe\">\n",
       "  <thead>\n",
       "    <tr style=\"text-align: right;\">\n",
       "      <th></th>\n",
       "      <th>BibNo</th>\n",
       "      <th>Finish_Time_Sec</th>\n",
       "      <th>Pace_Sec</th>\n",
       "      <th>Pace_Minpkm</th>\n",
       "      <th>Half_Pace_Sec</th>\n",
       "      <th>Half_Pace_Minpkm</th>\n",
       "      <th>Gender</th>\n",
       "      <th>Age</th>\n",
       "      <th>Name</th>\n",
       "      <th>City</th>\n",
       "      <th>Country</th>\n",
       "      <th>10 km</th>\n",
       "      <th>Half marathon</th>\n",
       "      <th>Marathon</th>\n",
       "    </tr>\n",
       "  </thead>\n",
       "  <tbody>\n",
       "    <tr>\n",
       "      <th>0</th>\n",
       "      <td>1</td>\n",
       "      <td>8911.0</td>\n",
       "      <td>211.186160</td>\n",
       "      <td>3:31 min/km</td>\n",
       "      <td>208.318521</td>\n",
       "      <td>3:28 min/km</td>\n",
       "      <td>Female</td>\n",
       "      <td>30</td>\n",
       "      <td>Sardana Trofimova</td>\n",
       "      <td>Yakutsk</td>\n",
       "      <td>RUS</td>\n",
       "      <td>2112.0</td>\n",
       "      <td>4395.0</td>\n",
       "      <td>8911.0</td>\n",
       "    </tr>\n",
       "    <tr>\n",
       "      <th>1</th>\n",
       "      <td>2</td>\n",
       "      <td>9308.0</td>\n",
       "      <td>220.594857</td>\n",
       "      <td>3:40 min/km</td>\n",
       "      <td>212.157839</td>\n",
       "      <td>3:32 min/km</td>\n",
       "      <td>Female</td>\n",
       "      <td>35</td>\n",
       "      <td>Tat'yana Arkhipova</td>\n",
       "      <td>Cheboksary</td>\n",
       "      <td>RUS</td>\n",
       "      <td>2115.0</td>\n",
       "      <td>4476.0</td>\n",
       "      <td>9308.0</td>\n",
       "    </tr>\n",
       "    <tr>\n",
       "      <th>2</th>\n",
       "      <td>3</td>\n",
       "      <td>8122.0</td>\n",
       "      <td>192.487261</td>\n",
       "      <td>3:12 min/km</td>\n",
       "      <td>189.880318</td>\n",
       "      <td>3:09 min/km</td>\n",
       "      <td>Male</td>\n",
       "      <td>31</td>\n",
       "      <td>Stepan Kiselev</td>\n",
       "      <td>Kazan'</td>\n",
       "      <td>RUS</td>\n",
       "      <td>1899.0</td>\n",
       "      <td>4006.0</td>\n",
       "      <td>8122.0</td>\n",
       "    </tr>\n",
       "    <tr>\n",
       "      <th>3</th>\n",
       "      <td>4</td>\n",
       "      <td>8467.0</td>\n",
       "      <td>200.663586</td>\n",
       "      <td>3:20 min/km</td>\n",
       "      <td>186.894182</td>\n",
       "      <td>3:06 min/km</td>\n",
       "      <td>Male</td>\n",
       "      <td>36</td>\n",
       "      <td>Dmitriy Safronov</td>\n",
       "      <td>Moskva</td>\n",
       "      <td>RUS</td>\n",
       "      <td>1876.0</td>\n",
       "      <td>3943.0</td>\n",
       "      <td>8467.0</td>\n",
       "    </tr>\n",
       "    <tr>\n",
       "      <th>4</th>\n",
       "      <td>5</td>\n",
       "      <td>8738.0</td>\n",
       "      <td>207.086148</td>\n",
       "      <td>3:27 min/km</td>\n",
       "      <td>194.904610</td>\n",
       "      <td>3:14 min/km</td>\n",
       "      <td>Male</td>\n",
       "      <td>42</td>\n",
       "      <td>Grigoriy Andreev</td>\n",
       "      <td>Ufa</td>\n",
       "      <td>RUS</td>\n",
       "      <td>1958.0</td>\n",
       "      <td>4112.0</td>\n",
       "      <td>8738.0</td>\n",
       "    </tr>\n",
       "  </tbody>\n",
       "</table>\n",
       "</div>"
      ],
      "text/plain": [
       "   BibNo  Finish_Time_Sec    Pace_Sec  Pace_Minpkm  Half_Pace_Sec  \\\n",
       "0      1           8911.0  211.186160  3:31 min/km     208.318521   \n",
       "1      2           9308.0  220.594857  3:40 min/km     212.157839   \n",
       "2      3           8122.0  192.487261  3:12 min/km     189.880318   \n",
       "3      4           8467.0  200.663586  3:20 min/km     186.894182   \n",
       "4      5           8738.0  207.086148  3:27 min/km     194.904610   \n",
       "\n",
       "  Half_Pace_Minpkm  Gender  Age                Name        City Country  \\\n",
       "0      3:28 min/km  Female   30   Sardana Trofimova     Yakutsk     RUS   \n",
       "1      3:32 min/km  Female   35  Tat'yana Arkhipova  Cheboksary     RUS   \n",
       "2      3:09 min/km    Male   31      Stepan Kiselev      Kazan'     RUS   \n",
       "3      3:06 min/km    Male   36    Dmitriy Safronov      Moskva     RUS   \n",
       "4      3:14 min/km    Male   42    Grigoriy Andreev         Ufa     RUS   \n",
       "\n",
       "    10 km  Half marathon  Marathon  \n",
       "0  2112.0         4395.0    8911.0  \n",
       "1  2115.0         4476.0    9308.0  \n",
       "2  1899.0         4006.0    8122.0  \n",
       "3  1876.0         3943.0    8467.0  \n",
       "4  1958.0         4112.0    8738.0  "
      ]
     },
     "execution_count": 107,
     "metadata": {},
     "output_type": "execute_result"
    }
   ],
   "source": [
    "df_Moscow.head()"
   ]
  },
  {
   "cell_type": "markdown",
   "metadata": {},
   "source": [
    "#### Sorted the values based on Finish time seconds for overall ranking of athletes in Moscow dataframe"
   ]
  },
  {
   "cell_type": "code",
   "execution_count": 108,
   "metadata": {},
   "outputs": [
    {
     "data": {
      "text/html": [
       "<div>\n",
       "<style scoped>\n",
       "    .dataframe tbody tr th:only-of-type {\n",
       "        vertical-align: middle;\n",
       "    }\n",
       "\n",
       "    .dataframe tbody tr th {\n",
       "        vertical-align: top;\n",
       "    }\n",
       "\n",
       "    .dataframe thead th {\n",
       "        text-align: right;\n",
       "    }\n",
       "</style>\n",
       "<table border=\"1\" class=\"dataframe\">\n",
       "  <thead>\n",
       "    <tr style=\"text-align: right;\">\n",
       "      <th></th>\n",
       "      <th>BibNo</th>\n",
       "      <th>Finish_Time_Sec</th>\n",
       "      <th>Pace_Sec</th>\n",
       "      <th>Pace_Minpkm</th>\n",
       "      <th>Half_Pace_Sec</th>\n",
       "      <th>Half_Pace_Minpkm</th>\n",
       "      <th>Gender</th>\n",
       "      <th>Age</th>\n",
       "      <th>Name</th>\n",
       "      <th>City</th>\n",
       "      <th>Country</th>\n",
       "      <th>10 km</th>\n",
       "      <th>Half marathon</th>\n",
       "      <th>Marathon</th>\n",
       "    </tr>\n",
       "  </thead>\n",
       "  <tbody>\n",
       "    <tr>\n",
       "      <th>8982</th>\n",
       "      <td>17006</td>\n",
       "      <td>1728.0</td>\n",
       "      <td>172.8</td>\n",
       "      <td>2:52 min/km</td>\n",
       "      <td>175.8</td>\n",
       "      <td>2:55 min/km</td>\n",
       "      <td>Male</td>\n",
       "      <td>26</td>\n",
       "      <td>Vladimir Nikitin</td>\n",
       "      <td>Perm'</td>\n",
       "      <td>RUS</td>\n",
       "      <td>1728.0</td>\n",
       "      <td>NaN</td>\n",
       "      <td>NaN</td>\n",
       "    </tr>\n",
       "    <tr>\n",
       "      <th>8991</th>\n",
       "      <td>17018</td>\n",
       "      <td>1826.0</td>\n",
       "      <td>182.6</td>\n",
       "      <td>3:02 min/km</td>\n",
       "      <td>183.6</td>\n",
       "      <td>3:03 min/km</td>\n",
       "      <td>Male</td>\n",
       "      <td>29</td>\n",
       "      <td>Denis Vasil'ev</td>\n",
       "      <td>Sankt-Peterburg</td>\n",
       "      <td>RUS</td>\n",
       "      <td>1826.0</td>\n",
       "      <td>NaN</td>\n",
       "      <td>NaN</td>\n",
       "    </tr>\n",
       "    <tr>\n",
       "      <th>21362</th>\n",
       "      <td>32745</td>\n",
       "      <td>1834.0</td>\n",
       "      <td>183.4</td>\n",
       "      <td>3:03 min/km</td>\n",
       "      <td>185.6</td>\n",
       "      <td>3:05 min/km</td>\n",
       "      <td>Male</td>\n",
       "      <td>30</td>\n",
       "      <td>Artur Burtsev</td>\n",
       "      <td>Sankt-Peterburg</td>\n",
       "      <td>RUS</td>\n",
       "      <td>1834.0</td>\n",
       "      <td>NaN</td>\n",
       "      <td>NaN</td>\n",
       "    </tr>\n",
       "    <tr>\n",
       "      <th>8988</th>\n",
       "      <td>17013</td>\n",
       "      <td>1869.0</td>\n",
       "      <td>186.9</td>\n",
       "      <td>3:06 min/km</td>\n",
       "      <td>186.6</td>\n",
       "      <td>3:06 min/km</td>\n",
       "      <td>Male</td>\n",
       "      <td>24</td>\n",
       "      <td>Ivan Panferov</td>\n",
       "      <td>Moskva</td>\n",
       "      <td>RUS</td>\n",
       "      <td>1869.0</td>\n",
       "      <td>NaN</td>\n",
       "      <td>NaN</td>\n",
       "    </tr>\n",
       "    <tr>\n",
       "      <th>21114</th>\n",
       "      <td>32472</td>\n",
       "      <td>1869.0</td>\n",
       "      <td>186.9</td>\n",
       "      <td>3:06 min/km</td>\n",
       "      <td>188.2</td>\n",
       "      <td>3:08 min/km</td>\n",
       "      <td>Male</td>\n",
       "      <td>22</td>\n",
       "      <td>Nikita Kotenev</td>\n",
       "      <td>Minsk</td>\n",
       "      <td>BLR</td>\n",
       "      <td>1869.0</td>\n",
       "      <td>NaN</td>\n",
       "      <td>NaN</td>\n",
       "    </tr>\n",
       "    <tr>\n",
       "      <th>21337</th>\n",
       "      <td>32719</td>\n",
       "      <td>1877.0</td>\n",
       "      <td>187.7</td>\n",
       "      <td>3:07 min/km</td>\n",
       "      <td>186.4</td>\n",
       "      <td>3:06 min/km</td>\n",
       "      <td>Male</td>\n",
       "      <td>30</td>\n",
       "      <td>Pavel Adyshkin</td>\n",
       "      <td>Petrovo</td>\n",
       "      <td>RUS</td>\n",
       "      <td>1877.0</td>\n",
       "      <td>NaN</td>\n",
       "      <td>NaN</td>\n",
       "    </tr>\n",
       "    <tr>\n",
       "      <th>8989</th>\n",
       "      <td>17015</td>\n",
       "      <td>1882.0</td>\n",
       "      <td>188.2</td>\n",
       "      <td>3:08 min/km</td>\n",
       "      <td>188.8</td>\n",
       "      <td>3:08 min/km</td>\n",
       "      <td>Male</td>\n",
       "      <td>33</td>\n",
       "      <td>Vyacheslav Sokolov</td>\n",
       "      <td>Snezhinsk</td>\n",
       "      <td>RUS</td>\n",
       "      <td>1882.0</td>\n",
       "      <td>NaN</td>\n",
       "      <td>NaN</td>\n",
       "    </tr>\n",
       "    <tr>\n",
       "      <th>20850</th>\n",
       "      <td>32173</td>\n",
       "      <td>1911.0</td>\n",
       "      <td>191.1</td>\n",
       "      <td>3:11 min/km</td>\n",
       "      <td>188.6</td>\n",
       "      <td>3:08 min/km</td>\n",
       "      <td>Male</td>\n",
       "      <td>27</td>\n",
       "      <td>Vasiliy Permitin</td>\n",
       "      <td>Moskva</td>\n",
       "      <td>RUS</td>\n",
       "      <td>1911.0</td>\n",
       "      <td>NaN</td>\n",
       "      <td>NaN</td>\n",
       "    </tr>\n",
       "    <tr>\n",
       "      <th>14131</th>\n",
       "      <td>23848</td>\n",
       "      <td>1915.0</td>\n",
       "      <td>191.5</td>\n",
       "      <td>3:11 min/km</td>\n",
       "      <td>193.0</td>\n",
       "      <td>3:13 min/km</td>\n",
       "      <td>Male</td>\n",
       "      <td>36</td>\n",
       "      <td>Vadim Kunin</td>\n",
       "      <td>Moskva</td>\n",
       "      <td>RUS</td>\n",
       "      <td>1915.0</td>\n",
       "      <td>NaN</td>\n",
       "      <td>NaN</td>\n",
       "    </tr>\n",
       "    <tr>\n",
       "      <th>8983</th>\n",
       "      <td>17007</td>\n",
       "      <td>1921.0</td>\n",
       "      <td>192.1</td>\n",
       "      <td>3:12 min/km</td>\n",
       "      <td>190.4</td>\n",
       "      <td>3:10 min/km</td>\n",
       "      <td>Male</td>\n",
       "      <td>27</td>\n",
       "      <td>Pavel Kuprin</td>\n",
       "      <td>Dzerzhinsk</td>\n",
       "      <td>RUS</td>\n",
       "      <td>1921.0</td>\n",
       "      <td>NaN</td>\n",
       "      <td>NaN</td>\n",
       "    </tr>\n",
       "    <tr>\n",
       "      <th>21149</th>\n",
       "      <td>32514</td>\n",
       "      <td>1941.0</td>\n",
       "      <td>194.1</td>\n",
       "      <td>3:14 min/km</td>\n",
       "      <td>191.6</td>\n",
       "      <td>3:11 min/km</td>\n",
       "      <td>Male</td>\n",
       "      <td>34</td>\n",
       "      <td>Aleksandr Babarika</td>\n",
       "      <td>Dnipro</td>\n",
       "      <td>UKR</td>\n",
       "      <td>1941.0</td>\n",
       "      <td>NaN</td>\n",
       "      <td>NaN</td>\n",
       "    </tr>\n",
       "    <tr>\n",
       "      <th>10164</th>\n",
       "      <td>18669</td>\n",
       "      <td>1948.0</td>\n",
       "      <td>194.8</td>\n",
       "      <td>3:14 min/km</td>\n",
       "      <td>195.2</td>\n",
       "      <td>3:15 min/km</td>\n",
       "      <td>Male</td>\n",
       "      <td>30</td>\n",
       "      <td>Viktor Nikolaev</td>\n",
       "      <td>Moskva</td>\n",
       "      <td>RUS</td>\n",
       "      <td>1948.0</td>\n",
       "      <td>NaN</td>\n",
       "      <td>NaN</td>\n",
       "    </tr>\n",
       "    <tr>\n",
       "      <th>9866</th>\n",
       "      <td>18273</td>\n",
       "      <td>1952.0</td>\n",
       "      <td>195.2</td>\n",
       "      <td>3:15 min/km</td>\n",
       "      <td>195.6</td>\n",
       "      <td>3:15 min/km</td>\n",
       "      <td>Male</td>\n",
       "      <td>22</td>\n",
       "      <td>Dmitriy Pimenov</td>\n",
       "      <td>Penza</td>\n",
       "      <td>RUS</td>\n",
       "      <td>1952.0</td>\n",
       "      <td>NaN</td>\n",
       "      <td>NaN</td>\n",
       "    </tr>\n",
       "    <tr>\n",
       "      <th>11059</th>\n",
       "      <td>19895</td>\n",
       "      <td>1964.0</td>\n",
       "      <td>196.4</td>\n",
       "      <td>3:16 min/km</td>\n",
       "      <td>192.2</td>\n",
       "      <td>3:12 min/km</td>\n",
       "      <td>Male</td>\n",
       "      <td>27</td>\n",
       "      <td>Lukasz Wozniak</td>\n",
       "      <td>Moskva</td>\n",
       "      <td>RUS</td>\n",
       "      <td>1964.0</td>\n",
       "      <td>NaN</td>\n",
       "      <td>NaN</td>\n",
       "    </tr>\n",
       "    <tr>\n",
       "      <th>13232</th>\n",
       "      <td>22683</td>\n",
       "      <td>1970.0</td>\n",
       "      <td>197.0</td>\n",
       "      <td>3:16 min/km</td>\n",
       "      <td>196.2</td>\n",
       "      <td>3:16 min/km</td>\n",
       "      <td>Male</td>\n",
       "      <td>29</td>\n",
       "      <td>Andrey Fedorichev</td>\n",
       "      <td>Astrakhan'</td>\n",
       "      <td>RUS</td>\n",
       "      <td>1970.0</td>\n",
       "      <td>NaN</td>\n",
       "      <td>NaN</td>\n",
       "    </tr>\n",
       "    <tr>\n",
       "      <th>19489</th>\n",
       "      <td>30471</td>\n",
       "      <td>1972.0</td>\n",
       "      <td>197.2</td>\n",
       "      <td>3:17 min/km</td>\n",
       "      <td>196.0</td>\n",
       "      <td>3:15 min/km</td>\n",
       "      <td>Male</td>\n",
       "      <td>33</td>\n",
       "      <td>Artem Tikhonov</td>\n",
       "      <td>Moskva</td>\n",
       "      <td>RUS</td>\n",
       "      <td>1972.0</td>\n",
       "      <td>NaN</td>\n",
       "      <td>NaN</td>\n",
       "    </tr>\n",
       "    <tr>\n",
       "      <th>21012</th>\n",
       "      <td>32359</td>\n",
       "      <td>1984.0</td>\n",
       "      <td>198.4</td>\n",
       "      <td>3:18 min/km</td>\n",
       "      <td>199.0</td>\n",
       "      <td>3:19 min/km</td>\n",
       "      <td>Male</td>\n",
       "      <td>33</td>\n",
       "      <td>Konstantin Kostin</td>\n",
       "      <td>Ekaterinburg</td>\n",
       "      <td>RUS</td>\n",
       "      <td>1984.0</td>\n",
       "      <td>NaN</td>\n",
       "      <td>NaN</td>\n",
       "    </tr>\n",
       "    <tr>\n",
       "      <th>12580</th>\n",
       "      <td>21838</td>\n",
       "      <td>1986.0</td>\n",
       "      <td>198.6</td>\n",
       "      <td>3:18 min/km</td>\n",
       "      <td>198.6</td>\n",
       "      <td>3:18 min/km</td>\n",
       "      <td>Male</td>\n",
       "      <td>21</td>\n",
       "      <td>Mikhail Semenenko</td>\n",
       "      <td>Sankt-Peterburg</td>\n",
       "      <td>RUS</td>\n",
       "      <td>1986.0</td>\n",
       "      <td>NaN</td>\n",
       "      <td>NaN</td>\n",
       "    </tr>\n",
       "    <tr>\n",
       "      <th>12842</th>\n",
       "      <td>22181</td>\n",
       "      <td>1993.0</td>\n",
       "      <td>199.3</td>\n",
       "      <td>3:19 min/km</td>\n",
       "      <td>198.0</td>\n",
       "      <td>3:17 min/km</td>\n",
       "      <td>Male</td>\n",
       "      <td>22</td>\n",
       "      <td>Aleksandr Semjonkin</td>\n",
       "      <td>Khabarovsk</td>\n",
       "      <td>RUS</td>\n",
       "      <td>1993.0</td>\n",
       "      <td>NaN</td>\n",
       "      <td>NaN</td>\n",
       "    </tr>\n",
       "    <tr>\n",
       "      <th>18660</th>\n",
       "      <td>29408</td>\n",
       "      <td>1995.0</td>\n",
       "      <td>199.5</td>\n",
       "      <td>3:19 min/km</td>\n",
       "      <td>198.6</td>\n",
       "      <td>3:18 min/km</td>\n",
       "      <td>Male</td>\n",
       "      <td>25</td>\n",
       "      <td>Roman Demchenko</td>\n",
       "      <td>Moskva</td>\n",
       "      <td>RUS</td>\n",
       "      <td>1995.0</td>\n",
       "      <td>NaN</td>\n",
       "      <td>NaN</td>\n",
       "    </tr>\n",
       "    <tr>\n",
       "      <th>21065</th>\n",
       "      <td>32417</td>\n",
       "      <td>1995.0</td>\n",
       "      <td>199.5</td>\n",
       "      <td>3:19 min/km</td>\n",
       "      <td>202.0</td>\n",
       "      <td>3:22 min/km</td>\n",
       "      <td>Male</td>\n",
       "      <td>30</td>\n",
       "      <td>Egor Belousov</td>\n",
       "      <td>Moskva</td>\n",
       "      <td>RUS</td>\n",
       "      <td>1995.0</td>\n",
       "      <td>NaN</td>\n",
       "      <td>NaN</td>\n",
       "    </tr>\n",
       "    <tr>\n",
       "      <th>8979</th>\n",
       "      <td>17002</td>\n",
       "      <td>2003.0</td>\n",
       "      <td>200.3</td>\n",
       "      <td>3:20 min/km</td>\n",
       "      <td>199.2</td>\n",
       "      <td>3:19 min/km</td>\n",
       "      <td>Female</td>\n",
       "      <td>28</td>\n",
       "      <td>Elena Sedova</td>\n",
       "      <td>Novosibirsk</td>\n",
       "      <td>RUS</td>\n",
       "      <td>2003.0</td>\n",
       "      <td>NaN</td>\n",
       "      <td>NaN</td>\n",
       "    </tr>\n",
       "    <tr>\n",
       "      <th>8984</th>\n",
       "      <td>17008</td>\n",
       "      <td>2004.0</td>\n",
       "      <td>200.4</td>\n",
       "      <td>3:20 min/km</td>\n",
       "      <td>199.2</td>\n",
       "      <td>3:19 min/km</td>\n",
       "      <td>Female</td>\n",
       "      <td>31</td>\n",
       "      <td>Svetlana Simakova</td>\n",
       "      <td>Moskva</td>\n",
       "      <td>RUS</td>\n",
       "      <td>2004.0</td>\n",
       "      <td>NaN</td>\n",
       "      <td>NaN</td>\n",
       "    </tr>\n",
       "    <tr>\n",
       "      <th>8981</th>\n",
       "      <td>17004</td>\n",
       "      <td>2008.0</td>\n",
       "      <td>200.8</td>\n",
       "      <td>3:20 min/km</td>\n",
       "      <td>199.2</td>\n",
       "      <td>3:19 min/km</td>\n",
       "      <td>Female</td>\n",
       "      <td>30</td>\n",
       "      <td>Irina Sergeeva</td>\n",
       "      <td>Kursk</td>\n",
       "      <td>RUS</td>\n",
       "      <td>2008.0</td>\n",
       "      <td>NaN</td>\n",
       "      <td>NaN</td>\n",
       "    </tr>\n",
       "    <tr>\n",
       "      <th>8986</th>\n",
       "      <td>17010</td>\n",
       "      <td>2033.0</td>\n",
       "      <td>203.3</td>\n",
       "      <td>3:23 min/km</td>\n",
       "      <td>203.6</td>\n",
       "      <td>3:23 min/km</td>\n",
       "      <td>Female</td>\n",
       "      <td>25</td>\n",
       "      <td>Svetlana Aplachkina</td>\n",
       "      <td>Voronezh</td>\n",
       "      <td>RUS</td>\n",
       "      <td>2033.0</td>\n",
       "      <td>NaN</td>\n",
       "      <td>NaN</td>\n",
       "    </tr>\n",
       "    <tr>\n",
       "      <th>11281</th>\n",
       "      <td>20187</td>\n",
       "      <td>2036.0</td>\n",
       "      <td>203.6</td>\n",
       "      <td>3:23 min/km</td>\n",
       "      <td>205.2</td>\n",
       "      <td>3:25 min/km</td>\n",
       "      <td>Male</td>\n",
       "      <td>35</td>\n",
       "      <td>Sergey Kurin</td>\n",
       "      <td>Saransk</td>\n",
       "      <td>RUS</td>\n",
       "      <td>2036.0</td>\n",
       "      <td>NaN</td>\n",
       "      <td>NaN</td>\n",
       "    </tr>\n",
       "    <tr>\n",
       "      <th>14418</th>\n",
       "      <td>24206</td>\n",
       "      <td>2042.0</td>\n",
       "      <td>204.2</td>\n",
       "      <td>3:24 min/km</td>\n",
       "      <td>205.2</td>\n",
       "      <td>3:25 min/km</td>\n",
       "      <td>Male</td>\n",
       "      <td>20</td>\n",
       "      <td>Pavel Sushkov</td>\n",
       "      <td>Moskva</td>\n",
       "      <td>RUS</td>\n",
       "      <td>2042.0</td>\n",
       "      <td>NaN</td>\n",
       "      <td>NaN</td>\n",
       "    </tr>\n",
       "    <tr>\n",
       "      <th>8990</th>\n",
       "      <td>17016</td>\n",
       "      <td>2042.0</td>\n",
       "      <td>204.2</td>\n",
       "      <td>3:24 min/km</td>\n",
       "      <td>203.4</td>\n",
       "      <td>3:23 min/km</td>\n",
       "      <td>Female</td>\n",
       "      <td>35</td>\n",
       "      <td>Elena Nagovitsyna</td>\n",
       "      <td>Izhevsk</td>\n",
       "      <td>RUS</td>\n",
       "      <td>2042.0</td>\n",
       "      <td>NaN</td>\n",
       "      <td>NaN</td>\n",
       "    </tr>\n",
       "    <tr>\n",
       "      <th>10752</th>\n",
       "      <td>19468</td>\n",
       "      <td>2046.0</td>\n",
       "      <td>204.6</td>\n",
       "      <td>3:24 min/km</td>\n",
       "      <td>205.0</td>\n",
       "      <td>3:24 min/km</td>\n",
       "      <td>Male</td>\n",
       "      <td>42</td>\n",
       "      <td>Maksim Zotov</td>\n",
       "      <td>Moskva</td>\n",
       "      <td>RUS</td>\n",
       "      <td>2046.0</td>\n",
       "      <td>NaN</td>\n",
       "      <td>NaN</td>\n",
       "    </tr>\n",
       "    <tr>\n",
       "      <th>18326</th>\n",
       "      <td>28984</td>\n",
       "      <td>2048.0</td>\n",
       "      <td>204.8</td>\n",
       "      <td>3:24 min/km</td>\n",
       "      <td>208.2</td>\n",
       "      <td>3:28 min/km</td>\n",
       "      <td>Male</td>\n",
       "      <td>34</td>\n",
       "      <td>Ivan Lisichenko</td>\n",
       "      <td>Moskva</td>\n",
       "      <td>RUS</td>\n",
       "      <td>2048.0</td>\n",
       "      <td>NaN</td>\n",
       "      <td>NaN</td>\n",
       "    </tr>\n",
       "    <tr>\n",
       "      <th>...</th>\n",
       "      <td>...</td>\n",
       "      <td>...</td>\n",
       "      <td>...</td>\n",
       "      <td>...</td>\n",
       "      <td>...</td>\n",
       "      <td>...</td>\n",
       "      <td>...</td>\n",
       "      <td>...</td>\n",
       "      <td>...</td>\n",
       "      <td>...</td>\n",
       "      <td>...</td>\n",
       "      <td>...</td>\n",
       "      <td>...</td>\n",
       "      <td>...</td>\n",
       "    </tr>\n",
       "    <tr>\n",
       "      <th>8700</th>\n",
       "      <td>10905</td>\n",
       "      <td>NaN</td>\n",
       "      <td>NaN</td>\n",
       "      <td>NaN</td>\n",
       "      <td>NaN</td>\n",
       "      <td>NaN</td>\n",
       "      <td>Male</td>\n",
       "      <td>35</td>\n",
       "      <td>Denis Egorov</td>\n",
       "      <td>Moskva</td>\n",
       "      <td>RUS</td>\n",
       "      <td>3593.0</td>\n",
       "      <td>7507.0</td>\n",
       "      <td>NaN</td>\n",
       "    </tr>\n",
       "    <tr>\n",
       "      <th>8701</th>\n",
       "      <td>10906</td>\n",
       "      <td>NaN</td>\n",
       "      <td>NaN</td>\n",
       "      <td>NaN</td>\n",
       "      <td>NaN</td>\n",
       "      <td>NaN</td>\n",
       "      <td>Female</td>\n",
       "      <td>36</td>\n",
       "      <td>Branka Srpsko</td>\n",
       "      <td>Sombor</td>\n",
       "      <td>SRB</td>\n",
       "      <td>NaN</td>\n",
       "      <td>NaN</td>\n",
       "      <td>NaN</td>\n",
       "    </tr>\n",
       "    <tr>\n",
       "      <th>8761</th>\n",
       "      <td>10973</td>\n",
       "      <td>NaN</td>\n",
       "      <td>NaN</td>\n",
       "      <td>NaN</td>\n",
       "      <td>NaN</td>\n",
       "      <td>NaN</td>\n",
       "      <td>Female</td>\n",
       "      <td>25</td>\n",
       "      <td>Anna Solov'jova</td>\n",
       "      <td>Moskva</td>\n",
       "      <td>RUS</td>\n",
       "      <td>3270.0</td>\n",
       "      <td>7889.0</td>\n",
       "      <td>NaN</td>\n",
       "    </tr>\n",
       "    <tr>\n",
       "      <th>8780</th>\n",
       "      <td>10994</td>\n",
       "      <td>NaN</td>\n",
       "      <td>NaN</td>\n",
       "      <td>NaN</td>\n",
       "      <td>NaN</td>\n",
       "      <td>NaN</td>\n",
       "      <td>Female</td>\n",
       "      <td>39</td>\n",
       "      <td>Ekaterina Balaganskaya</td>\n",
       "      <td>Moskva</td>\n",
       "      <td>RUS</td>\n",
       "      <td>NaN</td>\n",
       "      <td>NaN</td>\n",
       "      <td>NaN</td>\n",
       "    </tr>\n",
       "    <tr>\n",
       "      <th>8788</th>\n",
       "      <td>11002</td>\n",
       "      <td>NaN</td>\n",
       "      <td>NaN</td>\n",
       "      <td>NaN</td>\n",
       "      <td>NaN</td>\n",
       "      <td>NaN</td>\n",
       "      <td>Female</td>\n",
       "      <td>25</td>\n",
       "      <td>Julia Beznischenko</td>\n",
       "      <td>Moskva</td>\n",
       "      <td>RUS</td>\n",
       "      <td>NaN</td>\n",
       "      <td>NaN</td>\n",
       "      <td>NaN</td>\n",
       "    </tr>\n",
       "    <tr>\n",
       "      <th>8818</th>\n",
       "      <td>11035</td>\n",
       "      <td>NaN</td>\n",
       "      <td>NaN</td>\n",
       "      <td>NaN</td>\n",
       "      <td>NaN</td>\n",
       "      <td>NaN</td>\n",
       "      <td>Male</td>\n",
       "      <td>55</td>\n",
       "      <td>Aleksandr Sivolapov</td>\n",
       "      <td>Moskva</td>\n",
       "      <td>RUS</td>\n",
       "      <td>3924.0</td>\n",
       "      <td>8529.0</td>\n",
       "      <td>NaN</td>\n",
       "    </tr>\n",
       "    <tr>\n",
       "      <th>8829</th>\n",
       "      <td>11048</td>\n",
       "      <td>NaN</td>\n",
       "      <td>NaN</td>\n",
       "      <td>NaN</td>\n",
       "      <td>NaN</td>\n",
       "      <td>NaN</td>\n",
       "      <td>Male</td>\n",
       "      <td>30</td>\n",
       "      <td>Jesus Nieto</td>\n",
       "      <td>Chihuahua</td>\n",
       "      <td>MEX</td>\n",
       "      <td>NaN</td>\n",
       "      <td>NaN</td>\n",
       "      <td>NaN</td>\n",
       "    </tr>\n",
       "    <tr>\n",
       "      <th>8832</th>\n",
       "      <td>11051</td>\n",
       "      <td>NaN</td>\n",
       "      <td>NaN</td>\n",
       "      <td>NaN</td>\n",
       "      <td>NaN</td>\n",
       "      <td>NaN</td>\n",
       "      <td>Male</td>\n",
       "      <td>31</td>\n",
       "      <td>Sergey Derevtsov</td>\n",
       "      <td>Moskva</td>\n",
       "      <td>RUS</td>\n",
       "      <td>NaN</td>\n",
       "      <td>NaN</td>\n",
       "      <td>NaN</td>\n",
       "    </tr>\n",
       "    <tr>\n",
       "      <th>8844</th>\n",
       "      <td>11066</td>\n",
       "      <td>NaN</td>\n",
       "      <td>NaN</td>\n",
       "      <td>NaN</td>\n",
       "      <td>NaN</td>\n",
       "      <td>NaN</td>\n",
       "      <td>Male</td>\n",
       "      <td>40</td>\n",
       "      <td>Vladimir Nikitin</td>\n",
       "      <td>Sankt-Peterburg</td>\n",
       "      <td>RUS</td>\n",
       "      <td>3224.0</td>\n",
       "      <td>6704.0</td>\n",
       "      <td>NaN</td>\n",
       "    </tr>\n",
       "    <tr>\n",
       "      <th>8846</th>\n",
       "      <td>11068</td>\n",
       "      <td>NaN</td>\n",
       "      <td>NaN</td>\n",
       "      <td>NaN</td>\n",
       "      <td>NaN</td>\n",
       "      <td>NaN</td>\n",
       "      <td>Male</td>\n",
       "      <td>36</td>\n",
       "      <td>Kirill Kazakov</td>\n",
       "      <td>Moskva</td>\n",
       "      <td>RUS</td>\n",
       "      <td>NaN</td>\n",
       "      <td>NaN</td>\n",
       "      <td>NaN</td>\n",
       "    </tr>\n",
       "    <tr>\n",
       "      <th>8848</th>\n",
       "      <td>11071</td>\n",
       "      <td>NaN</td>\n",
       "      <td>NaN</td>\n",
       "      <td>NaN</td>\n",
       "      <td>NaN</td>\n",
       "      <td>NaN</td>\n",
       "      <td>Male</td>\n",
       "      <td>52</td>\n",
       "      <td>Milius Vitoldas</td>\n",
       "      <td>Vilkaviskis</td>\n",
       "      <td>LTU</td>\n",
       "      <td>NaN</td>\n",
       "      <td>NaN</td>\n",
       "      <td>NaN</td>\n",
       "    </tr>\n",
       "    <tr>\n",
       "      <th>8849</th>\n",
       "      <td>11072</td>\n",
       "      <td>NaN</td>\n",
       "      <td>NaN</td>\n",
       "      <td>NaN</td>\n",
       "      <td>NaN</td>\n",
       "      <td>NaN</td>\n",
       "      <td>Male</td>\n",
       "      <td>35</td>\n",
       "      <td>Andrey Ul'yanov</td>\n",
       "      <td>Moskva</td>\n",
       "      <td>RUS</td>\n",
       "      <td>NaN</td>\n",
       "      <td>NaN</td>\n",
       "      <td>NaN</td>\n",
       "    </tr>\n",
       "    <tr>\n",
       "      <th>8859</th>\n",
       "      <td>11087</td>\n",
       "      <td>NaN</td>\n",
       "      <td>NaN</td>\n",
       "      <td>NaN</td>\n",
       "      <td>NaN</td>\n",
       "      <td>NaN</td>\n",
       "      <td>Male</td>\n",
       "      <td>29</td>\n",
       "      <td>Anton Vostokov</td>\n",
       "      <td>Moskva</td>\n",
       "      <td>RUS</td>\n",
       "      <td>NaN</td>\n",
       "      <td>NaN</td>\n",
       "      <td>NaN</td>\n",
       "    </tr>\n",
       "    <tr>\n",
       "      <th>8860</th>\n",
       "      <td>11089</td>\n",
       "      <td>NaN</td>\n",
       "      <td>NaN</td>\n",
       "      <td>NaN</td>\n",
       "      <td>NaN</td>\n",
       "      <td>NaN</td>\n",
       "      <td>Female</td>\n",
       "      <td>22</td>\n",
       "      <td>Yana Dmitrenko</td>\n",
       "      <td>Moskva</td>\n",
       "      <td>RUS</td>\n",
       "      <td>NaN</td>\n",
       "      <td>NaN</td>\n",
       "      <td>NaN</td>\n",
       "    </tr>\n",
       "    <tr>\n",
       "      <th>8862</th>\n",
       "      <td>11091</td>\n",
       "      <td>NaN</td>\n",
       "      <td>NaN</td>\n",
       "      <td>NaN</td>\n",
       "      <td>NaN</td>\n",
       "      <td>NaN</td>\n",
       "      <td>Male</td>\n",
       "      <td>29</td>\n",
       "      <td>Viktor Shishov</td>\n",
       "      <td>Moskva</td>\n",
       "      <td>RUS</td>\n",
       "      <td>NaN</td>\n",
       "      <td>NaN</td>\n",
       "      <td>NaN</td>\n",
       "    </tr>\n",
       "    <tr>\n",
       "      <th>8880</th>\n",
       "      <td>11111</td>\n",
       "      <td>NaN</td>\n",
       "      <td>NaN</td>\n",
       "      <td>NaN</td>\n",
       "      <td>NaN</td>\n",
       "      <td>NaN</td>\n",
       "      <td>Male</td>\n",
       "      <td>36</td>\n",
       "      <td>Fedor Osipov</td>\n",
       "      <td>Moskva</td>\n",
       "      <td>RUS</td>\n",
       "      <td>2478.0</td>\n",
       "      <td>5187.0</td>\n",
       "      <td>NaN</td>\n",
       "    </tr>\n",
       "    <tr>\n",
       "      <th>8887</th>\n",
       "      <td>11119</td>\n",
       "      <td>NaN</td>\n",
       "      <td>NaN</td>\n",
       "      <td>NaN</td>\n",
       "      <td>NaN</td>\n",
       "      <td>NaN</td>\n",
       "      <td>Male</td>\n",
       "      <td>32</td>\n",
       "      <td>Ivan Ovcharenko</td>\n",
       "      <td>Moskva</td>\n",
       "      <td>RUS</td>\n",
       "      <td>NaN</td>\n",
       "      <td>NaN</td>\n",
       "      <td>NaN</td>\n",
       "    </tr>\n",
       "    <tr>\n",
       "      <th>8890</th>\n",
       "      <td>11122</td>\n",
       "      <td>NaN</td>\n",
       "      <td>NaN</td>\n",
       "      <td>NaN</td>\n",
       "      <td>NaN</td>\n",
       "      <td>NaN</td>\n",
       "      <td>Female</td>\n",
       "      <td>24</td>\n",
       "      <td>Mariya Ostanina</td>\n",
       "      <td>Moskva</td>\n",
       "      <td>RUS</td>\n",
       "      <td>2849.0</td>\n",
       "      <td>5926.0</td>\n",
       "      <td>NaN</td>\n",
       "    </tr>\n",
       "    <tr>\n",
       "      <th>8892</th>\n",
       "      <td>11124</td>\n",
       "      <td>NaN</td>\n",
       "      <td>NaN</td>\n",
       "      <td>NaN</td>\n",
       "      <td>NaN</td>\n",
       "      <td>NaN</td>\n",
       "      <td>Male</td>\n",
       "      <td>29</td>\n",
       "      <td>Aleksey Gogozhin</td>\n",
       "      <td>Moskva</td>\n",
       "      <td>RUS</td>\n",
       "      <td>3285.0</td>\n",
       "      <td>NaN</td>\n",
       "      <td>NaN</td>\n",
       "    </tr>\n",
       "    <tr>\n",
       "      <th>8916</th>\n",
       "      <td>11150</td>\n",
       "      <td>NaN</td>\n",
       "      <td>NaN</td>\n",
       "      <td>NaN</td>\n",
       "      <td>NaN</td>\n",
       "      <td>NaN</td>\n",
       "      <td>Male</td>\n",
       "      <td>41</td>\n",
       "      <td>Walter Kaspirowitsch</td>\n",
       "      <td>Bonn</td>\n",
       "      <td>DEU</td>\n",
       "      <td>NaN</td>\n",
       "      <td>NaN</td>\n",
       "      <td>NaN</td>\n",
       "    </tr>\n",
       "    <tr>\n",
       "      <th>8917</th>\n",
       "      <td>11151</td>\n",
       "      <td>NaN</td>\n",
       "      <td>NaN</td>\n",
       "      <td>NaN</td>\n",
       "      <td>NaN</td>\n",
       "      <td>NaN</td>\n",
       "      <td>Male</td>\n",
       "      <td>33</td>\n",
       "      <td>Nikolay Mikhaylov</td>\n",
       "      <td>Moskva</td>\n",
       "      <td>RUS</td>\n",
       "      <td>NaN</td>\n",
       "      <td>NaN</td>\n",
       "      <td>NaN</td>\n",
       "    </tr>\n",
       "    <tr>\n",
       "      <th>8927</th>\n",
       "      <td>11163</td>\n",
       "      <td>NaN</td>\n",
       "      <td>NaN</td>\n",
       "      <td>NaN</td>\n",
       "      <td>NaN</td>\n",
       "      <td>NaN</td>\n",
       "      <td>Male</td>\n",
       "      <td>42</td>\n",
       "      <td>Oleg Kukushkin</td>\n",
       "      <td>Miass</td>\n",
       "      <td>RUS</td>\n",
       "      <td>3577.0</td>\n",
       "      <td>8136.0</td>\n",
       "      <td>NaN</td>\n",
       "    </tr>\n",
       "    <tr>\n",
       "      <th>8933</th>\n",
       "      <td>11174</td>\n",
       "      <td>NaN</td>\n",
       "      <td>NaN</td>\n",
       "      <td>NaN</td>\n",
       "      <td>NaN</td>\n",
       "      <td>NaN</td>\n",
       "      <td>Male</td>\n",
       "      <td>37</td>\n",
       "      <td>Artjom Glaznev</td>\n",
       "      <td>Moskva</td>\n",
       "      <td>RUS</td>\n",
       "      <td>4113.0</td>\n",
       "      <td>NaN</td>\n",
       "      <td>NaN</td>\n",
       "    </tr>\n",
       "    <tr>\n",
       "      <th>8948</th>\n",
       "      <td>11193</td>\n",
       "      <td>NaN</td>\n",
       "      <td>NaN</td>\n",
       "      <td>NaN</td>\n",
       "      <td>NaN</td>\n",
       "      <td>NaN</td>\n",
       "      <td>Male</td>\n",
       "      <td>67</td>\n",
       "      <td>Vadim Oreshin</td>\n",
       "      <td>Nizhniy Novgorod</td>\n",
       "      <td>RUS</td>\n",
       "      <td>NaN</td>\n",
       "      <td>NaN</td>\n",
       "      <td>NaN</td>\n",
       "    </tr>\n",
       "    <tr>\n",
       "      <th>8949</th>\n",
       "      <td>11194</td>\n",
       "      <td>NaN</td>\n",
       "      <td>NaN</td>\n",
       "      <td>NaN</td>\n",
       "      <td>NaN</td>\n",
       "      <td>NaN</td>\n",
       "      <td>Female</td>\n",
       "      <td>33</td>\n",
       "      <td>Polina Syrovatskaya</td>\n",
       "      <td>Moskva</td>\n",
       "      <td>RUS</td>\n",
       "      <td>3828.0</td>\n",
       "      <td>NaN</td>\n",
       "      <td>NaN</td>\n",
       "    </tr>\n",
       "    <tr>\n",
       "      <th>8954</th>\n",
       "      <td>11201</td>\n",
       "      <td>NaN</td>\n",
       "      <td>NaN</td>\n",
       "      <td>NaN</td>\n",
       "      <td>NaN</td>\n",
       "      <td>NaN</td>\n",
       "      <td>Male</td>\n",
       "      <td>30</td>\n",
       "      <td>Murtuz Ramazanov</td>\n",
       "      <td>Moskva</td>\n",
       "      <td>RUS</td>\n",
       "      <td>4493.0</td>\n",
       "      <td>10282.0</td>\n",
       "      <td>NaN</td>\n",
       "    </tr>\n",
       "    <tr>\n",
       "      <th>8960</th>\n",
       "      <td>11209</td>\n",
       "      <td>NaN</td>\n",
       "      <td>NaN</td>\n",
       "      <td>NaN</td>\n",
       "      <td>NaN</td>\n",
       "      <td>NaN</td>\n",
       "      <td>Female</td>\n",
       "      <td>37</td>\n",
       "      <td>Ekaterina Andreeva</td>\n",
       "      <td>Moskva</td>\n",
       "      <td>RUS</td>\n",
       "      <td>NaN</td>\n",
       "      <td>NaN</td>\n",
       "      <td>NaN</td>\n",
       "    </tr>\n",
       "    <tr>\n",
       "      <th>8961</th>\n",
       "      <td>11210</td>\n",
       "      <td>NaN</td>\n",
       "      <td>NaN</td>\n",
       "      <td>NaN</td>\n",
       "      <td>NaN</td>\n",
       "      <td>NaN</td>\n",
       "      <td>Male</td>\n",
       "      <td>28</td>\n",
       "      <td>Sergey Nikitin</td>\n",
       "      <td>Moskva</td>\n",
       "      <td>RUS</td>\n",
       "      <td>NaN</td>\n",
       "      <td>NaN</td>\n",
       "      <td>NaN</td>\n",
       "    </tr>\n",
       "    <tr>\n",
       "      <th>8973</th>\n",
       "      <td>15013</td>\n",
       "      <td>NaN</td>\n",
       "      <td>NaN</td>\n",
       "      <td>NaN</td>\n",
       "      <td>NaN</td>\n",
       "      <td>NaN</td>\n",
       "      <td>Male</td>\n",
       "      <td>32</td>\n",
       "      <td>Mikhail Maksimov</td>\n",
       "      <td>Sankt-Peterburg</td>\n",
       "      <td>RUS</td>\n",
       "      <td>1957.0</td>\n",
       "      <td>4086.0</td>\n",
       "      <td>NaN</td>\n",
       "    </tr>\n",
       "    <tr>\n",
       "      <th>16208</th>\n",
       "      <td>26352</td>\n",
       "      <td>NaN</td>\n",
       "      <td>NaN</td>\n",
       "      <td>NaN</td>\n",
       "      <td>NaN</td>\n",
       "      <td>NaN</td>\n",
       "      <td>Female</td>\n",
       "      <td>29</td>\n",
       "      <td>Lyudmila Tret'yakova</td>\n",
       "      <td>Moskva</td>\n",
       "      <td>RUS</td>\n",
       "      <td>NaN</td>\n",
       "      <td>NaN</td>\n",
       "      <td>NaN</td>\n",
       "    </tr>\n",
       "  </tbody>\n",
       "</table>\n",
       "<p>21662 rows × 14 columns</p>\n",
       "</div>"
      ],
      "text/plain": [
       "       BibNo  Finish_Time_Sec  Pace_Sec  Pace_Minpkm  Half_Pace_Sec  \\\n",
       "8982   17006           1728.0     172.8  2:52 min/km          175.8   \n",
       "8991   17018           1826.0     182.6  3:02 min/km          183.6   \n",
       "21362  32745           1834.0     183.4  3:03 min/km          185.6   \n",
       "8988   17013           1869.0     186.9  3:06 min/km          186.6   \n",
       "21114  32472           1869.0     186.9  3:06 min/km          188.2   \n",
       "21337  32719           1877.0     187.7  3:07 min/km          186.4   \n",
       "8989   17015           1882.0     188.2  3:08 min/km          188.8   \n",
       "20850  32173           1911.0     191.1  3:11 min/km          188.6   \n",
       "14131  23848           1915.0     191.5  3:11 min/km          193.0   \n",
       "8983   17007           1921.0     192.1  3:12 min/km          190.4   \n",
       "21149  32514           1941.0     194.1  3:14 min/km          191.6   \n",
       "10164  18669           1948.0     194.8  3:14 min/km          195.2   \n",
       "9866   18273           1952.0     195.2  3:15 min/km          195.6   \n",
       "11059  19895           1964.0     196.4  3:16 min/km          192.2   \n",
       "13232  22683           1970.0     197.0  3:16 min/km          196.2   \n",
       "19489  30471           1972.0     197.2  3:17 min/km          196.0   \n",
       "21012  32359           1984.0     198.4  3:18 min/km          199.0   \n",
       "12580  21838           1986.0     198.6  3:18 min/km          198.6   \n",
       "12842  22181           1993.0     199.3  3:19 min/km          198.0   \n",
       "18660  29408           1995.0     199.5  3:19 min/km          198.6   \n",
       "21065  32417           1995.0     199.5  3:19 min/km          202.0   \n",
       "8979   17002           2003.0     200.3  3:20 min/km          199.2   \n",
       "8984   17008           2004.0     200.4  3:20 min/km          199.2   \n",
       "8981   17004           2008.0     200.8  3:20 min/km          199.2   \n",
       "8986   17010           2033.0     203.3  3:23 min/km          203.6   \n",
       "11281  20187           2036.0     203.6  3:23 min/km          205.2   \n",
       "14418  24206           2042.0     204.2  3:24 min/km          205.2   \n",
       "8990   17016           2042.0     204.2  3:24 min/km          203.4   \n",
       "10752  19468           2046.0     204.6  3:24 min/km          205.0   \n",
       "18326  28984           2048.0     204.8  3:24 min/km          208.2   \n",
       "...      ...              ...       ...          ...            ...   \n",
       "8700   10905              NaN       NaN          NaN            NaN   \n",
       "8701   10906              NaN       NaN          NaN            NaN   \n",
       "8761   10973              NaN       NaN          NaN            NaN   \n",
       "8780   10994              NaN       NaN          NaN            NaN   \n",
       "8788   11002              NaN       NaN          NaN            NaN   \n",
       "8818   11035              NaN       NaN          NaN            NaN   \n",
       "8829   11048              NaN       NaN          NaN            NaN   \n",
       "8832   11051              NaN       NaN          NaN            NaN   \n",
       "8844   11066              NaN       NaN          NaN            NaN   \n",
       "8846   11068              NaN       NaN          NaN            NaN   \n",
       "8848   11071              NaN       NaN          NaN            NaN   \n",
       "8849   11072              NaN       NaN          NaN            NaN   \n",
       "8859   11087              NaN       NaN          NaN            NaN   \n",
       "8860   11089              NaN       NaN          NaN            NaN   \n",
       "8862   11091              NaN       NaN          NaN            NaN   \n",
       "8880   11111              NaN       NaN          NaN            NaN   \n",
       "8887   11119              NaN       NaN          NaN            NaN   \n",
       "8890   11122              NaN       NaN          NaN            NaN   \n",
       "8892   11124              NaN       NaN          NaN            NaN   \n",
       "8916   11150              NaN       NaN          NaN            NaN   \n",
       "8917   11151              NaN       NaN          NaN            NaN   \n",
       "8927   11163              NaN       NaN          NaN            NaN   \n",
       "8933   11174              NaN       NaN          NaN            NaN   \n",
       "8948   11193              NaN       NaN          NaN            NaN   \n",
       "8949   11194              NaN       NaN          NaN            NaN   \n",
       "8954   11201              NaN       NaN          NaN            NaN   \n",
       "8960   11209              NaN       NaN          NaN            NaN   \n",
       "8961   11210              NaN       NaN          NaN            NaN   \n",
       "8973   15013              NaN       NaN          NaN            NaN   \n",
       "16208  26352              NaN       NaN          NaN            NaN   \n",
       "\n",
       "      Half_Pace_Minpkm  Gender  Age                    Name              City  \\\n",
       "8982       2:55 min/km    Male   26        Vladimir Nikitin             Perm'   \n",
       "8991       3:03 min/km    Male   29          Denis Vasil'ev   Sankt-Peterburg   \n",
       "21362      3:05 min/km    Male   30           Artur Burtsev   Sankt-Peterburg   \n",
       "8988       3:06 min/km    Male   24           Ivan Panferov            Moskva   \n",
       "21114      3:08 min/km    Male   22          Nikita Kotenev             Minsk   \n",
       "21337      3:06 min/km    Male   30          Pavel Adyshkin           Petrovo   \n",
       "8989       3:08 min/km    Male   33      Vyacheslav Sokolov         Snezhinsk   \n",
       "20850      3:08 min/km    Male   27        Vasiliy Permitin            Moskva   \n",
       "14131      3:13 min/km    Male   36             Vadim Kunin            Moskva   \n",
       "8983       3:10 min/km    Male   27            Pavel Kuprin        Dzerzhinsk   \n",
       "21149      3:11 min/km    Male   34      Aleksandr Babarika            Dnipro   \n",
       "10164      3:15 min/km    Male   30         Viktor Nikolaev            Moskva   \n",
       "9866       3:15 min/km    Male   22         Dmitriy Pimenov             Penza   \n",
       "11059      3:12 min/km    Male   27          Lukasz Wozniak            Moskva   \n",
       "13232      3:16 min/km    Male   29       Andrey Fedorichev        Astrakhan'   \n",
       "19489      3:15 min/km    Male   33          Artem Tikhonov            Moskva   \n",
       "21012      3:19 min/km    Male   33       Konstantin Kostin      Ekaterinburg   \n",
       "12580      3:18 min/km    Male   21       Mikhail Semenenko   Sankt-Peterburg   \n",
       "12842      3:17 min/km    Male   22     Aleksandr Semjonkin        Khabarovsk   \n",
       "18660      3:18 min/km    Male   25         Roman Demchenko            Moskva   \n",
       "21065      3:22 min/km    Male   30           Egor Belousov            Moskva   \n",
       "8979       3:19 min/km  Female   28            Elena Sedova       Novosibirsk   \n",
       "8984       3:19 min/km  Female   31       Svetlana Simakova            Moskva   \n",
       "8981       3:19 min/km  Female   30          Irina Sergeeva             Kursk   \n",
       "8986       3:23 min/km  Female   25     Svetlana Aplachkina          Voronezh   \n",
       "11281      3:25 min/km    Male   35            Sergey Kurin           Saransk   \n",
       "14418      3:25 min/km    Male   20           Pavel Sushkov            Moskva   \n",
       "8990       3:23 min/km  Female   35       Elena Nagovitsyna           Izhevsk   \n",
       "10752      3:24 min/km    Male   42            Maksim Zotov            Moskva   \n",
       "18326      3:28 min/km    Male   34         Ivan Lisichenko            Moskva   \n",
       "...                ...     ...  ...                     ...               ...   \n",
       "8700               NaN    Male   35            Denis Egorov            Moskva   \n",
       "8701               NaN  Female   36           Branka Srpsko            Sombor   \n",
       "8761               NaN  Female   25         Anna Solov'jova            Moskva   \n",
       "8780               NaN  Female   39  Ekaterina Balaganskaya            Moskva   \n",
       "8788               NaN  Female   25      Julia Beznischenko            Moskva   \n",
       "8818               NaN    Male   55     Aleksandr Sivolapov            Moskva   \n",
       "8829               NaN    Male   30             Jesus Nieto         Chihuahua   \n",
       "8832               NaN    Male   31        Sergey Derevtsov            Moskva   \n",
       "8844               NaN    Male   40        Vladimir Nikitin   Sankt-Peterburg   \n",
       "8846               NaN    Male   36          Kirill Kazakov            Moskva   \n",
       "8848               NaN    Male   52         Milius Vitoldas       Vilkaviskis   \n",
       "8849               NaN    Male   35         Andrey Ul'yanov            Moskva   \n",
       "8859               NaN    Male   29          Anton Vostokov            Moskva   \n",
       "8860               NaN  Female   22          Yana Dmitrenko            Moskva   \n",
       "8862               NaN    Male   29          Viktor Shishov            Moskva   \n",
       "8880               NaN    Male   36            Fedor Osipov            Moskva   \n",
       "8887               NaN    Male   32         Ivan Ovcharenko            Moskva   \n",
       "8890               NaN  Female   24         Mariya Ostanina            Moskva   \n",
       "8892               NaN    Male   29        Aleksey Gogozhin            Moskva   \n",
       "8916               NaN    Male   41    Walter Kaspirowitsch              Bonn   \n",
       "8917               NaN    Male   33       Nikolay Mikhaylov            Moskva   \n",
       "8927               NaN    Male   42          Oleg Kukushkin             Miass   \n",
       "8933               NaN    Male   37          Artjom Glaznev            Moskva   \n",
       "8948               NaN    Male   67           Vadim Oreshin  Nizhniy Novgorod   \n",
       "8949               NaN  Female   33     Polina Syrovatskaya            Moskva   \n",
       "8954               NaN    Male   30        Murtuz Ramazanov            Moskva   \n",
       "8960               NaN  Female   37      Ekaterina Andreeva            Moskva   \n",
       "8961               NaN    Male   28          Sergey Nikitin            Moskva   \n",
       "8973               NaN    Male   32        Mikhail Maksimov   Sankt-Peterburg   \n",
       "16208              NaN  Female   29    Lyudmila Tret'yakova            Moskva   \n",
       "\n",
       "      Country   10 km  Half marathon  Marathon  \n",
       "8982      RUS  1728.0            NaN       NaN  \n",
       "8991      RUS  1826.0            NaN       NaN  \n",
       "21362     RUS  1834.0            NaN       NaN  \n",
       "8988      RUS  1869.0            NaN       NaN  \n",
       "21114     BLR  1869.0            NaN       NaN  \n",
       "21337     RUS  1877.0            NaN       NaN  \n",
       "8989      RUS  1882.0            NaN       NaN  \n",
       "20850     RUS  1911.0            NaN       NaN  \n",
       "14131     RUS  1915.0            NaN       NaN  \n",
       "8983      RUS  1921.0            NaN       NaN  \n",
       "21149     UKR  1941.0            NaN       NaN  \n",
       "10164     RUS  1948.0            NaN       NaN  \n",
       "9866      RUS  1952.0            NaN       NaN  \n",
       "11059     RUS  1964.0            NaN       NaN  \n",
       "13232     RUS  1970.0            NaN       NaN  \n",
       "19489     RUS  1972.0            NaN       NaN  \n",
       "21012     RUS  1984.0            NaN       NaN  \n",
       "12580     RUS  1986.0            NaN       NaN  \n",
       "12842     RUS  1993.0            NaN       NaN  \n",
       "18660     RUS  1995.0            NaN       NaN  \n",
       "21065     RUS  1995.0            NaN       NaN  \n",
       "8979      RUS  2003.0            NaN       NaN  \n",
       "8984      RUS  2004.0            NaN       NaN  \n",
       "8981      RUS  2008.0            NaN       NaN  \n",
       "8986      RUS  2033.0            NaN       NaN  \n",
       "11281     RUS  2036.0            NaN       NaN  \n",
       "14418     RUS  2042.0            NaN       NaN  \n",
       "8990      RUS  2042.0            NaN       NaN  \n",
       "10752     RUS  2046.0            NaN       NaN  \n",
       "18326     RUS  2048.0            NaN       NaN  \n",
       "...       ...     ...            ...       ...  \n",
       "8700      RUS  3593.0         7507.0       NaN  \n",
       "8701      SRB     NaN            NaN       NaN  \n",
       "8761      RUS  3270.0         7889.0       NaN  \n",
       "8780      RUS     NaN            NaN       NaN  \n",
       "8788      RUS     NaN            NaN       NaN  \n",
       "8818      RUS  3924.0         8529.0       NaN  \n",
       "8829      MEX     NaN            NaN       NaN  \n",
       "8832      RUS     NaN            NaN       NaN  \n",
       "8844      RUS  3224.0         6704.0       NaN  \n",
       "8846      RUS     NaN            NaN       NaN  \n",
       "8848      LTU     NaN            NaN       NaN  \n",
       "8849      RUS     NaN            NaN       NaN  \n",
       "8859      RUS     NaN            NaN       NaN  \n",
       "8860      RUS     NaN            NaN       NaN  \n",
       "8862      RUS     NaN            NaN       NaN  \n",
       "8880      RUS  2478.0         5187.0       NaN  \n",
       "8887      RUS     NaN            NaN       NaN  \n",
       "8890      RUS  2849.0         5926.0       NaN  \n",
       "8892      RUS  3285.0            NaN       NaN  \n",
       "8916      DEU     NaN            NaN       NaN  \n",
       "8917      RUS     NaN            NaN       NaN  \n",
       "8927      RUS  3577.0         8136.0       NaN  \n",
       "8933      RUS  4113.0            NaN       NaN  \n",
       "8948      RUS     NaN            NaN       NaN  \n",
       "8949      RUS  3828.0            NaN       NaN  \n",
       "8954      RUS  4493.0        10282.0       NaN  \n",
       "8960      RUS     NaN            NaN       NaN  \n",
       "8961      RUS     NaN            NaN       NaN  \n",
       "8973      RUS  1957.0         4086.0       NaN  \n",
       "16208     RUS     NaN            NaN       NaN  \n",
       "\n",
       "[21662 rows x 14 columns]"
      ]
     },
     "execution_count": 108,
     "metadata": {},
     "output_type": "execute_result"
    }
   ],
   "source": [
    "df_Moscow.sort_values(by='Finish_Time_Sec')"
   ]
  },
  {
   "cell_type": "code",
   "execution_count": 109,
   "metadata": {},
   "outputs": [
    {
     "data": {
      "text/plain": [
       "12960"
      ]
     },
     "execution_count": 109,
     "metadata": {},
     "output_type": "execute_result"
    }
   ],
   "source": [
    "df_Moscow['Marathon'].isna().sum()"
   ]
  },
  {
   "cell_type": "markdown",
   "metadata": {},
   "source": [
    "#### Drop the NAN values Moscow Dataframe from Marathon column which shows that person has not completed the marathon "
   ]
  },
  {
   "cell_type": "code",
   "execution_count": 110,
   "metadata": {},
   "outputs": [],
   "source": [
    "df_Moscow.dropna(how='any',subset=['Marathon'],inplace=True)"
   ]
  },
  {
   "cell_type": "code",
   "execution_count": 111,
   "metadata": {},
   "outputs": [],
   "source": [
    "df_new_Moscow= df_Moscow.sort_values(by='Finish_Time_Sec')"
   ]
  },
  {
   "cell_type": "code",
   "execution_count": 112,
   "metadata": {
    "scrolled": true
   },
   "outputs": [
    {
     "data": {
      "text/html": [
       "<div>\n",
       "<style scoped>\n",
       "    .dataframe tbody tr th:only-of-type {\n",
       "        vertical-align: middle;\n",
       "    }\n",
       "\n",
       "    .dataframe tbody tr th {\n",
       "        vertical-align: top;\n",
       "    }\n",
       "\n",
       "    .dataframe thead th {\n",
       "        text-align: right;\n",
       "    }\n",
       "</style>\n",
       "<table border=\"1\" class=\"dataframe\">\n",
       "  <thead>\n",
       "    <tr style=\"text-align: right;\">\n",
       "      <th></th>\n",
       "      <th>BibNo</th>\n",
       "      <th>Finish_Time_Sec</th>\n",
       "      <th>Pace_Sec</th>\n",
       "      <th>Pace_Minpkm</th>\n",
       "      <th>Half_Pace_Sec</th>\n",
       "      <th>Half_Pace_Minpkm</th>\n",
       "      <th>Gender</th>\n",
       "      <th>Age</th>\n",
       "      <th>Name</th>\n",
       "      <th>City</th>\n",
       "      <th>Country</th>\n",
       "      <th>10 km</th>\n",
       "      <th>Half marathon</th>\n",
       "      <th>Marathon</th>\n",
       "    </tr>\n",
       "  </thead>\n",
       "  <tbody>\n",
       "    <tr>\n",
       "      <th>2</th>\n",
       "      <td>3</td>\n",
       "      <td>8122.0</td>\n",
       "      <td>192.487261</td>\n",
       "      <td>3:12 min/km</td>\n",
       "      <td>189.880318</td>\n",
       "      <td>3:09 min/km</td>\n",
       "      <td>Male</td>\n",
       "      <td>31</td>\n",
       "      <td>Stepan Kiselev</td>\n",
       "      <td>Kazan'</td>\n",
       "      <td>RUS</td>\n",
       "      <td>1899.0</td>\n",
       "      <td>4006.0</td>\n",
       "      <td>8122.0</td>\n",
       "    </tr>\n",
       "    <tr>\n",
       "      <th>10</th>\n",
       "      <td>12</td>\n",
       "      <td>8161.0</td>\n",
       "      <td>193.411542</td>\n",
       "      <td>3:13 min/km</td>\n",
       "      <td>189.738121</td>\n",
       "      <td>3:09 min/km</td>\n",
       "      <td>Male</td>\n",
       "      <td>32</td>\n",
       "      <td>Aleksey Troshkin</td>\n",
       "      <td>Saransk</td>\n",
       "      <td>RUS</td>\n",
       "      <td>1905.0</td>\n",
       "      <td>4003.0</td>\n",
       "      <td>8161.0</td>\n",
       "    </tr>\n",
       "    <tr>\n",
       "      <th>8</th>\n",
       "      <td>10</td>\n",
       "      <td>8394.0</td>\n",
       "      <td>198.933523</td>\n",
       "      <td>3:18 min/km</td>\n",
       "      <td>188.268752</td>\n",
       "      <td>3:08 min/km</td>\n",
       "      <td>Male</td>\n",
       "      <td>27</td>\n",
       "      <td>Artem Aplachkin</td>\n",
       "      <td>Barnaul</td>\n",
       "      <td>RUS</td>\n",
       "      <td>1879.0</td>\n",
       "      <td>3972.0</td>\n",
       "      <td>8394.0</td>\n",
       "    </tr>\n",
       "    <tr>\n",
       "      <th>8968</th>\n",
       "      <td>15008</td>\n",
       "      <td>8416.0</td>\n",
       "      <td>199.454912</td>\n",
       "      <td>3:19 min/km</td>\n",
       "      <td>195.094205</td>\n",
       "      <td>3:15 min/km</td>\n",
       "      <td>Male</td>\n",
       "      <td>29</td>\n",
       "      <td>Sergey Popov</td>\n",
       "      <td>Voronezh</td>\n",
       "      <td>RUS</td>\n",
       "      <td>1960.0</td>\n",
       "      <td>4116.0</td>\n",
       "      <td>8416.0</td>\n",
       "    </tr>\n",
       "    <tr>\n",
       "      <th>3</th>\n",
       "      <td>4</td>\n",
       "      <td>8467.0</td>\n",
       "      <td>200.663586</td>\n",
       "      <td>3:20 min/km</td>\n",
       "      <td>186.894182</td>\n",
       "      <td>3:06 min/km</td>\n",
       "      <td>Male</td>\n",
       "      <td>36</td>\n",
       "      <td>Dmitriy Safronov</td>\n",
       "      <td>Moskva</td>\n",
       "      <td>RUS</td>\n",
       "      <td>1876.0</td>\n",
       "      <td>3943.0</td>\n",
       "      <td>8467.0</td>\n",
       "    </tr>\n",
       "  </tbody>\n",
       "</table>\n",
       "</div>"
      ],
      "text/plain": [
       "      BibNo  Finish_Time_Sec    Pace_Sec  Pace_Minpkm  Half_Pace_Sec  \\\n",
       "2         3           8122.0  192.487261  3:12 min/km     189.880318   \n",
       "10       12           8161.0  193.411542  3:13 min/km     189.738121   \n",
       "8        10           8394.0  198.933523  3:18 min/km     188.268752   \n",
       "8968  15008           8416.0  199.454912  3:19 min/km     195.094205   \n",
       "3         4           8467.0  200.663586  3:20 min/km     186.894182   \n",
       "\n",
       "     Half_Pace_Minpkm Gender  Age              Name      City Country   10 km  \\\n",
       "2         3:09 min/km   Male   31    Stepan Kiselev    Kazan'     RUS  1899.0   \n",
       "10        3:09 min/km   Male   32  Aleksey Troshkin   Saransk     RUS  1905.0   \n",
       "8         3:08 min/km   Male   27   Artem Aplachkin   Barnaul     RUS  1879.0   \n",
       "8968      3:15 min/km   Male   29      Sergey Popov  Voronezh     RUS  1960.0   \n",
       "3         3:06 min/km   Male   36  Dmitriy Safronov    Moskva     RUS  1876.0   \n",
       "\n",
       "      Half marathon  Marathon  \n",
       "2            4006.0    8122.0  \n",
       "10           4003.0    8161.0  \n",
       "8            3972.0    8394.0  \n",
       "8968         4116.0    8416.0  \n",
       "3            3943.0    8467.0  "
      ]
     },
     "execution_count": 112,
     "metadata": {},
     "output_type": "execute_result"
    }
   ],
   "source": [
    "df_new_Moscow.head()"
   ]
  },
  {
   "cell_type": "markdown",
   "metadata": {},
   "source": [
    "#### Added the new column overall ranking calculated based on Finish time seconds in Moscow dataframe"
   ]
  },
  {
   "cell_type": "code",
   "execution_count": 254,
   "metadata": {},
   "outputs": [],
   "source": [
    "df_new_Moscow = df_new_Moscow.reset_index()\n",
    "df_new_Moscow['Overall_Ranking'] = df_new_Moscow.index + 1"
   ]
  },
  {
   "cell_type": "code",
   "execution_count": 114,
   "metadata": {},
   "outputs": [
    {
     "data": {
      "text/html": [
       "<div>\n",
       "<style scoped>\n",
       "    .dataframe tbody tr th:only-of-type {\n",
       "        vertical-align: middle;\n",
       "    }\n",
       "\n",
       "    .dataframe tbody tr th {\n",
       "        vertical-align: top;\n",
       "    }\n",
       "\n",
       "    .dataframe thead th {\n",
       "        text-align: right;\n",
       "    }\n",
       "</style>\n",
       "<table border=\"1\" class=\"dataframe\">\n",
       "  <thead>\n",
       "    <tr style=\"text-align: right;\">\n",
       "      <th></th>\n",
       "      <th>index</th>\n",
       "      <th>BibNo</th>\n",
       "      <th>Finish_Time_Sec</th>\n",
       "      <th>Pace_Sec</th>\n",
       "      <th>Pace_Minpkm</th>\n",
       "      <th>Half_Pace_Sec</th>\n",
       "      <th>Half_Pace_Minpkm</th>\n",
       "      <th>Gender</th>\n",
       "      <th>Age</th>\n",
       "      <th>Name</th>\n",
       "      <th>City</th>\n",
       "      <th>Country</th>\n",
       "      <th>10 km</th>\n",
       "      <th>Half marathon</th>\n",
       "      <th>Marathon</th>\n",
       "      <th>Overall_Ranking</th>\n",
       "    </tr>\n",
       "  </thead>\n",
       "  <tbody>\n",
       "    <tr>\n",
       "      <th>0</th>\n",
       "      <td>2</td>\n",
       "      <td>3</td>\n",
       "      <td>8122.0</td>\n",
       "      <td>192.487261</td>\n",
       "      <td>3:12 min/km</td>\n",
       "      <td>189.880318</td>\n",
       "      <td>3:09 min/km</td>\n",
       "      <td>Male</td>\n",
       "      <td>31</td>\n",
       "      <td>Stepan Kiselev</td>\n",
       "      <td>Kazan'</td>\n",
       "      <td>RUS</td>\n",
       "      <td>1899.0</td>\n",
       "      <td>4006.0</td>\n",
       "      <td>8122.0</td>\n",
       "      <td>1</td>\n",
       "    </tr>\n",
       "    <tr>\n",
       "      <th>1</th>\n",
       "      <td>10</td>\n",
       "      <td>12</td>\n",
       "      <td>8161.0</td>\n",
       "      <td>193.411542</td>\n",
       "      <td>3:13 min/km</td>\n",
       "      <td>189.738121</td>\n",
       "      <td>3:09 min/km</td>\n",
       "      <td>Male</td>\n",
       "      <td>32</td>\n",
       "      <td>Aleksey Troshkin</td>\n",
       "      <td>Saransk</td>\n",
       "      <td>RUS</td>\n",
       "      <td>1905.0</td>\n",
       "      <td>4003.0</td>\n",
       "      <td>8161.0</td>\n",
       "      <td>2</td>\n",
       "    </tr>\n",
       "    <tr>\n",
       "      <th>2</th>\n",
       "      <td>8</td>\n",
       "      <td>10</td>\n",
       "      <td>8394.0</td>\n",
       "      <td>198.933523</td>\n",
       "      <td>3:18 min/km</td>\n",
       "      <td>188.268752</td>\n",
       "      <td>3:08 min/km</td>\n",
       "      <td>Male</td>\n",
       "      <td>27</td>\n",
       "      <td>Artem Aplachkin</td>\n",
       "      <td>Barnaul</td>\n",
       "      <td>RUS</td>\n",
       "      <td>1879.0</td>\n",
       "      <td>3972.0</td>\n",
       "      <td>8394.0</td>\n",
       "      <td>3</td>\n",
       "    </tr>\n",
       "    <tr>\n",
       "      <th>3</th>\n",
       "      <td>8968</td>\n",
       "      <td>15008</td>\n",
       "      <td>8416.0</td>\n",
       "      <td>199.454912</td>\n",
       "      <td>3:19 min/km</td>\n",
       "      <td>195.094205</td>\n",
       "      <td>3:15 min/km</td>\n",
       "      <td>Male</td>\n",
       "      <td>29</td>\n",
       "      <td>Sergey Popov</td>\n",
       "      <td>Voronezh</td>\n",
       "      <td>RUS</td>\n",
       "      <td>1960.0</td>\n",
       "      <td>4116.0</td>\n",
       "      <td>8416.0</td>\n",
       "      <td>4</td>\n",
       "    </tr>\n",
       "    <tr>\n",
       "      <th>4</th>\n",
       "      <td>3</td>\n",
       "      <td>4</td>\n",
       "      <td>8467.0</td>\n",
       "      <td>200.663586</td>\n",
       "      <td>3:20 min/km</td>\n",
       "      <td>186.894182</td>\n",
       "      <td>3:06 min/km</td>\n",
       "      <td>Male</td>\n",
       "      <td>36</td>\n",
       "      <td>Dmitriy Safronov</td>\n",
       "      <td>Moskva</td>\n",
       "      <td>RUS</td>\n",
       "      <td>1876.0</td>\n",
       "      <td>3943.0</td>\n",
       "      <td>8467.0</td>\n",
       "      <td>5</td>\n",
       "    </tr>\n",
       "    <tr>\n",
       "      <th>5</th>\n",
       "      <td>5</td>\n",
       "      <td>7</td>\n",
       "      <td>8513.0</td>\n",
       "      <td>201.753762</td>\n",
       "      <td>3:21 min/km</td>\n",
       "      <td>194.478019</td>\n",
       "      <td>3:14 min/km</td>\n",
       "      <td>Male</td>\n",
       "      <td>33</td>\n",
       "      <td>Mikhail Kul'kov</td>\n",
       "      <td>Khanty-Mansiysk</td>\n",
       "      <td>RUS</td>\n",
       "      <td>1959.0</td>\n",
       "      <td>4103.0</td>\n",
       "      <td>8513.0</td>\n",
       "      <td>6</td>\n",
       "    </tr>\n",
       "    <tr>\n",
       "      <th>6</th>\n",
       "      <td>12</td>\n",
       "      <td>14</td>\n",
       "      <td>8601.0</td>\n",
       "      <td>203.839317</td>\n",
       "      <td>3:23 min/km</td>\n",
       "      <td>197.416755</td>\n",
       "      <td>3:17 min/km</td>\n",
       "      <td>Male</td>\n",
       "      <td>31</td>\n",
       "      <td>Viktor Ugarov</td>\n",
       "      <td>Moskva</td>\n",
       "      <td>RUS</td>\n",
       "      <td>1976.0</td>\n",
       "      <td>4165.0</td>\n",
       "      <td>8601.0</td>\n",
       "      <td>7</td>\n",
       "    </tr>\n",
       "    <tr>\n",
       "      <th>7</th>\n",
       "      <td>6</td>\n",
       "      <td>8</td>\n",
       "      <td>8670.0</td>\n",
       "      <td>205.474582</td>\n",
       "      <td>3:25 min/km</td>\n",
       "      <td>195.094205</td>\n",
       "      <td>3:15 min/km</td>\n",
       "      <td>Male</td>\n",
       "      <td>30</td>\n",
       "      <td>Oleg Grigor'ev</td>\n",
       "      <td>Moskva</td>\n",
       "      <td>RUS</td>\n",
       "      <td>1958.0</td>\n",
       "      <td>4116.0</td>\n",
       "      <td>8670.0</td>\n",
       "      <td>8</td>\n",
       "    </tr>\n",
       "    <tr>\n",
       "      <th>8</th>\n",
       "      <td>8361</td>\n",
       "      <td>10522</td>\n",
       "      <td>8690.0</td>\n",
       "      <td>205.948572</td>\n",
       "      <td>3:25 min/km</td>\n",
       "      <td>201.493068</td>\n",
       "      <td>3:21 min/km</td>\n",
       "      <td>Male</td>\n",
       "      <td>26</td>\n",
       "      <td>Aleksey Shirshov</td>\n",
       "      <td>Chkalov</td>\n",
       "      <td>RUS</td>\n",
       "      <td>1978.0</td>\n",
       "      <td>4251.0</td>\n",
       "      <td>8690.0</td>\n",
       "      <td>9</td>\n",
       "    </tr>\n",
       "    <tr>\n",
       "      <th>9</th>\n",
       "      <td>4</td>\n",
       "      <td>5</td>\n",
       "      <td>8738.0</td>\n",
       "      <td>207.086148</td>\n",
       "      <td>3:27 min/km</td>\n",
       "      <td>194.904610</td>\n",
       "      <td>3:14 min/km</td>\n",
       "      <td>Male</td>\n",
       "      <td>42</td>\n",
       "      <td>Grigoriy Andreev</td>\n",
       "      <td>Ufa</td>\n",
       "      <td>RUS</td>\n",
       "      <td>1958.0</td>\n",
       "      <td>4112.0</td>\n",
       "      <td>8738.0</td>\n",
       "      <td>10</td>\n",
       "    </tr>\n",
       "    <tr>\n",
       "      <th>10</th>\n",
       "      <td>23</td>\n",
       "      <td>33</td>\n",
       "      <td>8800.0</td>\n",
       "      <td>208.555516</td>\n",
       "      <td>3:28 min/km</td>\n",
       "      <td>192.250267</td>\n",
       "      <td>3:12 min/km</td>\n",
       "      <td>Male</td>\n",
       "      <td>27</td>\n",
       "      <td>Iskander Yadgarov</td>\n",
       "      <td>Moskva</td>\n",
       "      <td>RUS</td>\n",
       "      <td>1943.0</td>\n",
       "      <td>4056.0</td>\n",
       "      <td>8800.0</td>\n",
       "      <td>11</td>\n",
       "    </tr>\n",
       "    <tr>\n",
       "      <th>11</th>\n",
       "      <td>8970</td>\n",
       "      <td>15010</td>\n",
       "      <td>8808.0</td>\n",
       "      <td>208.745112</td>\n",
       "      <td>3:28 min/km</td>\n",
       "      <td>199.597109</td>\n",
       "      <td>3:19 min/km</td>\n",
       "      <td>Male</td>\n",
       "      <td>32</td>\n",
       "      <td>Andrey Smirnov</td>\n",
       "      <td>Perm'</td>\n",
       "      <td>RUS</td>\n",
       "      <td>1972.0</td>\n",
       "      <td>4211.0</td>\n",
       "      <td>8808.0</td>\n",
       "      <td>12</td>\n",
       "    </tr>\n",
       "    <tr>\n",
       "      <th>12</th>\n",
       "      <td>11</td>\n",
       "      <td>13</td>\n",
       "      <td>8852.0</td>\n",
       "      <td>209.787890</td>\n",
       "      <td>3:29 min/km</td>\n",
       "      <td>208.223723</td>\n",
       "      <td>3:28 min/km</td>\n",
       "      <td>Male</td>\n",
       "      <td>25</td>\n",
       "      <td>Mikhail Zvyagintsev</td>\n",
       "      <td>Biryuch</td>\n",
       "      <td>RUS</td>\n",
       "      <td>2111.0</td>\n",
       "      <td>4393.0</td>\n",
       "      <td>8852.0</td>\n",
       "      <td>13</td>\n",
       "    </tr>\n",
       "    <tr>\n",
       "      <th>13</th>\n",
       "      <td>6531</td>\n",
       "      <td>8422</td>\n",
       "      <td>8856.0</td>\n",
       "      <td>209.882688</td>\n",
       "      <td>3:29 min/km</td>\n",
       "      <td>208.223723</td>\n",
       "      <td>3:28 min/km</td>\n",
       "      <td>Male</td>\n",
       "      <td>43</td>\n",
       "      <td>Andrey Klinov</td>\n",
       "      <td>Ryazan'</td>\n",
       "      <td>RUS</td>\n",
       "      <td>2110.0</td>\n",
       "      <td>4393.0</td>\n",
       "      <td>8856.0</td>\n",
       "      <td>14</td>\n",
       "    </tr>\n",
       "    <tr>\n",
       "      <th>14</th>\n",
       "      <td>9</td>\n",
       "      <td>11</td>\n",
       "      <td>8856.0</td>\n",
       "      <td>209.882688</td>\n",
       "      <td>3:29 min/km</td>\n",
       "      <td>201.540467</td>\n",
       "      <td>3:21 min/km</td>\n",
       "      <td>Male</td>\n",
       "      <td>28</td>\n",
       "      <td>Aleksandr Krotovich</td>\n",
       "      <td>Sankt-Peterburg</td>\n",
       "      <td>RUS</td>\n",
       "      <td>1996.0</td>\n",
       "      <td>4252.0</td>\n",
       "      <td>8856.0</td>\n",
       "      <td>15</td>\n",
       "    </tr>\n",
       "    <tr>\n",
       "      <th>15</th>\n",
       "      <td>8519</td>\n",
       "      <td>10709</td>\n",
       "      <td>8873.0</td>\n",
       "      <td>210.285579</td>\n",
       "      <td>3:30 min/km</td>\n",
       "      <td>208.223723</td>\n",
       "      <td>3:28 min/km</td>\n",
       "      <td>Male</td>\n",
       "      <td>38</td>\n",
       "      <td>Yipeng Li</td>\n",
       "      <td>Beijing</td>\n",
       "      <td>CHN</td>\n",
       "      <td>2111.0</td>\n",
       "      <td>4393.0</td>\n",
       "      <td>8873.0</td>\n",
       "      <td>16</td>\n",
       "    </tr>\n",
       "    <tr>\n",
       "      <th>16</th>\n",
       "      <td>8966</td>\n",
       "      <td>15006</td>\n",
       "      <td>8890.0</td>\n",
       "      <td>210.688470</td>\n",
       "      <td>3:30 min/km</td>\n",
       "      <td>208.271122</td>\n",
       "      <td>3:28 min/km</td>\n",
       "      <td>Male</td>\n",
       "      <td>34</td>\n",
       "      <td>Denis Korablev</td>\n",
       "      <td>Salekhard</td>\n",
       "      <td>RUS</td>\n",
       "      <td>2111.0</td>\n",
       "      <td>4394.0</td>\n",
       "      <td>8890.0</td>\n",
       "      <td>17</td>\n",
       "    </tr>\n",
       "    <tr>\n",
       "      <th>17</th>\n",
       "      <td>0</td>\n",
       "      <td>1</td>\n",
       "      <td>8911.0</td>\n",
       "      <td>211.186160</td>\n",
       "      <td>3:31 min/km</td>\n",
       "      <td>208.318521</td>\n",
       "      <td>3:28 min/km</td>\n",
       "      <td>Female</td>\n",
       "      <td>30</td>\n",
       "      <td>Sardana Trofimova</td>\n",
       "      <td>Yakutsk</td>\n",
       "      <td>RUS</td>\n",
       "      <td>2112.0</td>\n",
       "      <td>4395.0</td>\n",
       "      <td>8911.0</td>\n",
       "      <td>18</td>\n",
       "    </tr>\n",
       "    <tr>\n",
       "      <th>18</th>\n",
       "      <td>18</td>\n",
       "      <td>22</td>\n",
       "      <td>8912.0</td>\n",
       "      <td>211.209859</td>\n",
       "      <td>3:31 min/km</td>\n",
       "      <td>208.176324</td>\n",
       "      <td>3:28 min/km</td>\n",
       "      <td>Male</td>\n",
       "      <td>35</td>\n",
       "      <td>Renat Kashapov</td>\n",
       "      <td>Kazan'</td>\n",
       "      <td>RUS</td>\n",
       "      <td>2110.0</td>\n",
       "      <td>4392.0</td>\n",
       "      <td>8912.0</td>\n",
       "      <td>19</td>\n",
       "    </tr>\n",
       "    <tr>\n",
       "      <th>19</th>\n",
       "      <td>8972</td>\n",
       "      <td>15012</td>\n",
       "      <td>8952.0</td>\n",
       "      <td>212.157839</td>\n",
       "      <td>3:32 min/km</td>\n",
       "      <td>208.271122</td>\n",
       "      <td>3:28 min/km</td>\n",
       "      <td>Male</td>\n",
       "      <td>36</td>\n",
       "      <td>Dmitriy Shilkin</td>\n",
       "      <td>Saratov</td>\n",
       "      <td>RUS</td>\n",
       "      <td>2111.0</td>\n",
       "      <td>4394.0</td>\n",
       "      <td>8952.0</td>\n",
       "      <td>20</td>\n",
       "    </tr>\n",
       "    <tr>\n",
       "      <th>20</th>\n",
       "      <td>7</td>\n",
       "      <td>9</td>\n",
       "      <td>8982.0</td>\n",
       "      <td>212.868823</td>\n",
       "      <td>3:32 min/km</td>\n",
       "      <td>208.223723</td>\n",
       "      <td>3:28 min/km</td>\n",
       "      <td>Male</td>\n",
       "      <td>26</td>\n",
       "      <td>Ruslan Khoroshilov</td>\n",
       "      <td>Belgorod</td>\n",
       "      <td>RUS</td>\n",
       "      <td>2110.0</td>\n",
       "      <td>4393.0</td>\n",
       "      <td>8982.0</td>\n",
       "      <td>21</td>\n",
       "    </tr>\n",
       "    <tr>\n",
       "      <th>21</th>\n",
       "      <td>6075</td>\n",
       "      <td>7899</td>\n",
       "      <td>9047.0</td>\n",
       "      <td>214.409290</td>\n",
       "      <td>3:34 min/km</td>\n",
       "      <td>210.546273</td>\n",
       "      <td>3:30 min/km</td>\n",
       "      <td>Male</td>\n",
       "      <td>34</td>\n",
       "      <td>Aleksey Matveev</td>\n",
       "      <td>Borovichi</td>\n",
       "      <td>RUS</td>\n",
       "      <td>2119.0</td>\n",
       "      <td>4442.0</td>\n",
       "      <td>9047.0</td>\n",
       "      <td>22</td>\n",
       "    </tr>\n",
       "    <tr>\n",
       "      <th>22</th>\n",
       "      <td>8971</td>\n",
       "      <td>15011</td>\n",
       "      <td>9080.0</td>\n",
       "      <td>215.191373</td>\n",
       "      <td>3:35 min/km</td>\n",
       "      <td>208.223723</td>\n",
       "      <td>3:28 min/km</td>\n",
       "      <td>Male</td>\n",
       "      <td>22</td>\n",
       "      <td>Vladislav Chuzhinov</td>\n",
       "      <td>Belgorod</td>\n",
       "      <td>RUS</td>\n",
       "      <td>2110.0</td>\n",
       "      <td>4393.0</td>\n",
       "      <td>9080.0</td>\n",
       "      <td>23</td>\n",
       "    </tr>\n",
       "    <tr>\n",
       "      <th>23</th>\n",
       "      <td>8154</td>\n",
       "      <td>10294</td>\n",
       "      <td>9084.0</td>\n",
       "      <td>215.286171</td>\n",
       "      <td>3:35 min/km</td>\n",
       "      <td>208.223723</td>\n",
       "      <td>3:28 min/km</td>\n",
       "      <td>Male</td>\n",
       "      <td>33</td>\n",
       "      <td>Pavel Fedorov</td>\n",
       "      <td>Lobnya</td>\n",
       "      <td>RUS</td>\n",
       "      <td>2110.0</td>\n",
       "      <td>4393.0</td>\n",
       "      <td>9084.0</td>\n",
       "      <td>24</td>\n",
       "    </tr>\n",
       "    <tr>\n",
       "      <th>24</th>\n",
       "      <td>5414</td>\n",
       "      <td>7108</td>\n",
       "      <td>9088.0</td>\n",
       "      <td>215.380969</td>\n",
       "      <td>3:35 min/km</td>\n",
       "      <td>213.295414</td>\n",
       "      <td>3:33 min/km</td>\n",
       "      <td>Male</td>\n",
       "      <td>26</td>\n",
       "      <td>Andrey Studennikov</td>\n",
       "      <td>Moskva</td>\n",
       "      <td>RUS</td>\n",
       "      <td>2173.0</td>\n",
       "      <td>4500.0</td>\n",
       "      <td>9088.0</td>\n",
       "      <td>25</td>\n",
       "    </tr>\n",
       "    <tr>\n",
       "      <th>25</th>\n",
       "      <td>6772</td>\n",
       "      <td>8699</td>\n",
       "      <td>9203.0</td>\n",
       "      <td>218.106411</td>\n",
       "      <td>3:38 min/km</td>\n",
       "      <td>211.020263</td>\n",
       "      <td>3:31 min/km</td>\n",
       "      <td>Male</td>\n",
       "      <td>27</td>\n",
       "      <td>Aleksandr Chekhonin</td>\n",
       "      <td>Kaliningrad</td>\n",
       "      <td>RUS</td>\n",
       "      <td>2119.0</td>\n",
       "      <td>4452.0</td>\n",
       "      <td>9203.0</td>\n",
       "      <td>26</td>\n",
       "    </tr>\n",
       "    <tr>\n",
       "      <th>26</th>\n",
       "      <td>8964</td>\n",
       "      <td>15003</td>\n",
       "      <td>9270.0</td>\n",
       "      <td>219.694277</td>\n",
       "      <td>3:39 min/km</td>\n",
       "      <td>212.015642</td>\n",
       "      <td>3:32 min/km</td>\n",
       "      <td>Male</td>\n",
       "      <td>31</td>\n",
       "      <td>Petr Didenko</td>\n",
       "      <td>Moskva</td>\n",
       "      <td>RUS</td>\n",
       "      <td>2112.0</td>\n",
       "      <td>4473.0</td>\n",
       "      <td>9270.0</td>\n",
       "      <td>27</td>\n",
       "    </tr>\n",
       "    <tr>\n",
       "      <th>27</th>\n",
       "      <td>1</td>\n",
       "      <td>2</td>\n",
       "      <td>9308.0</td>\n",
       "      <td>220.594857</td>\n",
       "      <td>3:40 min/km</td>\n",
       "      <td>212.157839</td>\n",
       "      <td>3:32 min/km</td>\n",
       "      <td>Female</td>\n",
       "      <td>35</td>\n",
       "      <td>Tat'yana Arkhipova</td>\n",
       "      <td>Cheboksary</td>\n",
       "      <td>RUS</td>\n",
       "      <td>2115.0</td>\n",
       "      <td>4476.0</td>\n",
       "      <td>9308.0</td>\n",
       "      <td>28</td>\n",
       "    </tr>\n",
       "    <tr>\n",
       "      <th>28</th>\n",
       "      <td>6277</td>\n",
       "      <td>8134</td>\n",
       "      <td>9386.0</td>\n",
       "      <td>222.443417</td>\n",
       "      <td>3:42 min/km</td>\n",
       "      <td>216.660742</td>\n",
       "      <td>3:36 min/km</td>\n",
       "      <td>Male</td>\n",
       "      <td>32</td>\n",
       "      <td>Vladimir Ovchinnikov</td>\n",
       "      <td>Ekaterinburg</td>\n",
       "      <td>RUS</td>\n",
       "      <td>2192.0</td>\n",
       "      <td>4571.0</td>\n",
       "      <td>9386.0</td>\n",
       "      <td>29</td>\n",
       "    </tr>\n",
       "    <tr>\n",
       "      <th>29</th>\n",
       "      <td>8656</td>\n",
       "      <td>10858</td>\n",
       "      <td>9421.0</td>\n",
       "      <td>223.272900</td>\n",
       "      <td>3:43 min/km</td>\n",
       "      <td>208.365920</td>\n",
       "      <td>3:28 min/km</td>\n",
       "      <td>Male</td>\n",
       "      <td>31</td>\n",
       "      <td>Vadim Maksimenko</td>\n",
       "      <td>Ekaterinburg</td>\n",
       "      <td>RUS</td>\n",
       "      <td>2110.0</td>\n",
       "      <td>4396.0</td>\n",
       "      <td>9421.0</td>\n",
       "      <td>30</td>\n",
       "    </tr>\n",
       "    <tr>\n",
       "      <th>...</th>\n",
       "      <td>...</td>\n",
       "      <td>...</td>\n",
       "      <td>...</td>\n",
       "      <td>...</td>\n",
       "      <td>...</td>\n",
       "      <td>...</td>\n",
       "      <td>...</td>\n",
       "      <td>...</td>\n",
       "      <td>...</td>\n",
       "      <td>...</td>\n",
       "      <td>...</td>\n",
       "      <td>...</td>\n",
       "      <td>...</td>\n",
       "      <td>...</td>\n",
       "      <td>...</td>\n",
       "      <td>...</td>\n",
       "    </tr>\n",
       "    <tr>\n",
       "      <th>8672</th>\n",
       "      <td>949</td>\n",
       "      <td>1352</td>\n",
       "      <td>21873.0</td>\n",
       "      <td>518.378955</td>\n",
       "      <td>8:38 min/km</td>\n",
       "      <td>513.473160</td>\n",
       "      <td>8:33 min/km</td>\n",
       "      <td>Female</td>\n",
       "      <td>35</td>\n",
       "      <td>Mariya Byakhova</td>\n",
       "      <td>Moskva</td>\n",
       "      <td>RUS</td>\n",
       "      <td>4751.0</td>\n",
       "      <td>10833.0</td>\n",
       "      <td>21873.0</td>\n",
       "      <td>8673</td>\n",
       "    </tr>\n",
       "    <tr>\n",
       "      <th>8673</th>\n",
       "      <td>3265</td>\n",
       "      <td>4391</td>\n",
       "      <td>21891.0</td>\n",
       "      <td>518.805546</td>\n",
       "      <td>8:38 min/km</td>\n",
       "      <td>490.010665</td>\n",
       "      <td>8:10 min/km</td>\n",
       "      <td>Female</td>\n",
       "      <td>47</td>\n",
       "      <td>Pinrak Mabamrung</td>\n",
       "      <td>Moskva</td>\n",
       "      <td>RUS</td>\n",
       "      <td>4577.0</td>\n",
       "      <td>10338.0</td>\n",
       "      <td>21891.0</td>\n",
       "      <td>8674</td>\n",
       "    </tr>\n",
       "    <tr>\n",
       "      <th>8674</th>\n",
       "      <td>7000</td>\n",
       "      <td>8953</td>\n",
       "      <td>21891.0</td>\n",
       "      <td>518.805546</td>\n",
       "      <td>8:38 min/km</td>\n",
       "      <td>480.246475</td>\n",
       "      <td>8:00 min/km</td>\n",
       "      <td>Female</td>\n",
       "      <td>37</td>\n",
       "      <td>Tan_Wei Chang</td>\n",
       "      <td>Taichung</td>\n",
       "      <td>TWN</td>\n",
       "      <td>4422.0</td>\n",
       "      <td>10132.0</td>\n",
       "      <td>21891.0</td>\n",
       "      <td>8675</td>\n",
       "    </tr>\n",
       "    <tr>\n",
       "      <th>8675</th>\n",
       "      <td>1118</td>\n",
       "      <td>1586</td>\n",
       "      <td>21892.0</td>\n",
       "      <td>518.829245</td>\n",
       "      <td>8:38 min/km</td>\n",
       "      <td>504.135561</td>\n",
       "      <td>8:24 min/km</td>\n",
       "      <td>Female</td>\n",
       "      <td>24</td>\n",
       "      <td>Passamon Karanyapotikorn</td>\n",
       "      <td>Moskva</td>\n",
       "      <td>RUS</td>\n",
       "      <td>4586.0</td>\n",
       "      <td>10636.0</td>\n",
       "      <td>21892.0</td>\n",
       "      <td>8676</td>\n",
       "    </tr>\n",
       "    <tr>\n",
       "      <th>8676</th>\n",
       "      <td>3871</td>\n",
       "      <td>5209</td>\n",
       "      <td>21893.0</td>\n",
       "      <td>518.852945</td>\n",
       "      <td>8:38 min/km</td>\n",
       "      <td>494.276573</td>\n",
       "      <td>8:14 min/km</td>\n",
       "      <td>Female</td>\n",
       "      <td>31</td>\n",
       "      <td>Elizaveta Tikhonova</td>\n",
       "      <td>Moskva</td>\n",
       "      <td>RUS</td>\n",
       "      <td>4709.0</td>\n",
       "      <td>10428.0</td>\n",
       "      <td>21893.0</td>\n",
       "      <td>8677</td>\n",
       "    </tr>\n",
       "    <tr>\n",
       "      <th>8677</th>\n",
       "      <td>6902</td>\n",
       "      <td>8845</td>\n",
       "      <td>21893.0</td>\n",
       "      <td>518.852945</td>\n",
       "      <td>8:38 min/km</td>\n",
       "      <td>480.293874</td>\n",
       "      <td>8:00 min/km</td>\n",
       "      <td>Male</td>\n",
       "      <td>41</td>\n",
       "      <td>Ka_Lon Fong</td>\n",
       "      <td>Macau</td>\n",
       "      <td>MAC</td>\n",
       "      <td>4424.0</td>\n",
       "      <td>10133.0</td>\n",
       "      <td>21893.0</td>\n",
       "      <td>8678</td>\n",
       "    </tr>\n",
       "    <tr>\n",
       "      <th>8678</th>\n",
       "      <td>4213</td>\n",
       "      <td>5655</td>\n",
       "      <td>21899.0</td>\n",
       "      <td>518.995142</td>\n",
       "      <td>8:38 min/km</td>\n",
       "      <td>515.274322</td>\n",
       "      <td>8:35 min/km</td>\n",
       "      <td>Male</td>\n",
       "      <td>35</td>\n",
       "      <td>Pm Dinesh</td>\n",
       "      <td>Moskva</td>\n",
       "      <td>RUS</td>\n",
       "      <td>3923.0</td>\n",
       "      <td>10871.0</td>\n",
       "      <td>21899.0</td>\n",
       "      <td>8679</td>\n",
       "    </tr>\n",
       "    <tr>\n",
       "      <th>8679</th>\n",
       "      <td>8168</td>\n",
       "      <td>10310</td>\n",
       "      <td>21908.0</td>\n",
       "      <td>519.208437</td>\n",
       "      <td>8:39 min/km</td>\n",
       "      <td>413.271715</td>\n",
       "      <td>6:53 min/km</td>\n",
       "      <td>Male</td>\n",
       "      <td>72</td>\n",
       "      <td>Viktor Tyumentsev</td>\n",
       "      <td>Moskva</td>\n",
       "      <td>RUS</td>\n",
       "      <td>3700.0</td>\n",
       "      <td>8719.0</td>\n",
       "      <td>21908.0</td>\n",
       "      <td>8680</td>\n",
       "    </tr>\n",
       "    <tr>\n",
       "      <th>8680</th>\n",
       "      <td>3838</td>\n",
       "      <td>5166</td>\n",
       "      <td>21919.0</td>\n",
       "      <td>519.469131</td>\n",
       "      <td>8:39 min/km</td>\n",
       "      <td>504.704349</td>\n",
       "      <td>8:24 min/km</td>\n",
       "      <td>Female</td>\n",
       "      <td>36</td>\n",
       "      <td>Margareth Theodora</td>\n",
       "      <td>Moskva</td>\n",
       "      <td>RUS</td>\n",
       "      <td>4645.0</td>\n",
       "      <td>10648.0</td>\n",
       "      <td>21919.0</td>\n",
       "      <td>8681</td>\n",
       "    </tr>\n",
       "    <tr>\n",
       "      <th>8681</th>\n",
       "      <td>6025</td>\n",
       "      <td>7846</td>\n",
       "      <td>21954.0</td>\n",
       "      <td>520.298614</td>\n",
       "      <td>8:40 min/km</td>\n",
       "      <td>486.597938</td>\n",
       "      <td>8:06 min/km</td>\n",
       "      <td>Female</td>\n",
       "      <td>25</td>\n",
       "      <td>Yuliya Rudakova</td>\n",
       "      <td>Kurovskoe</td>\n",
       "      <td>RUS</td>\n",
       "      <td>4454.0</td>\n",
       "      <td>10266.0</td>\n",
       "      <td>21954.0</td>\n",
       "      <td>8682</td>\n",
       "    </tr>\n",
       "    <tr>\n",
       "      <th>8682</th>\n",
       "      <td>5059</td>\n",
       "      <td>6661</td>\n",
       "      <td>21955.0</td>\n",
       "      <td>520.322313</td>\n",
       "      <td>8:40 min/km</td>\n",
       "      <td>396.397677</td>\n",
       "      <td>6:36 min/km</td>\n",
       "      <td>Male</td>\n",
       "      <td>28</td>\n",
       "      <td>Sergey Novikov</td>\n",
       "      <td>Orjol</td>\n",
       "      <td>RUS</td>\n",
       "      <td>3266.0</td>\n",
       "      <td>8363.0</td>\n",
       "      <td>21955.0</td>\n",
       "      <td>8683</td>\n",
       "    </tr>\n",
       "    <tr>\n",
       "      <th>8683</th>\n",
       "      <td>8169</td>\n",
       "      <td>10311</td>\n",
       "      <td>21969.0</td>\n",
       "      <td>520.654106</td>\n",
       "      <td>8:40 min/km</td>\n",
       "      <td>483.327408</td>\n",
       "      <td>8:03 min/km</td>\n",
       "      <td>Male</td>\n",
       "      <td>50</td>\n",
       "      <td>Dmitriy Tarasov</td>\n",
       "      <td>Moskva</td>\n",
       "      <td>RUS</td>\n",
       "      <td>4503.0</td>\n",
       "      <td>10197.0</td>\n",
       "      <td>21969.0</td>\n",
       "      <td>8684</td>\n",
       "    </tr>\n",
       "    <tr>\n",
       "      <th>8684</th>\n",
       "      <td>576</td>\n",
       "      <td>846</td>\n",
       "      <td>21979.0</td>\n",
       "      <td>520.891101</td>\n",
       "      <td>8:40 min/km</td>\n",
       "      <td>498.447683</td>\n",
       "      <td>8:18 min/km</td>\n",
       "      <td>Female</td>\n",
       "      <td>40</td>\n",
       "      <td>Patranada Vipatbovonvong</td>\n",
       "      <td>Bangkok</td>\n",
       "      <td>THA</td>\n",
       "      <td>4742.0</td>\n",
       "      <td>10516.0</td>\n",
       "      <td>21979.0</td>\n",
       "      <td>8685</td>\n",
       "    </tr>\n",
       "    <tr>\n",
       "      <th>8685</th>\n",
       "      <td>7159</td>\n",
       "      <td>9131</td>\n",
       "      <td>21980.0</td>\n",
       "      <td>520.914800</td>\n",
       "      <td>8:40 min/km</td>\n",
       "      <td>498.352885</td>\n",
       "      <td>8:18 min/km</td>\n",
       "      <td>Female</td>\n",
       "      <td>18</td>\n",
       "      <td>Katya Smolentseva</td>\n",
       "      <td>Moskva</td>\n",
       "      <td>RUS</td>\n",
       "      <td>4795.0</td>\n",
       "      <td>10514.0</td>\n",
       "      <td>21980.0</td>\n",
       "      <td>8686</td>\n",
       "    </tr>\n",
       "    <tr>\n",
       "      <th>8686</th>\n",
       "      <td>3451</td>\n",
       "      <td>4655</td>\n",
       "      <td>21984.0</td>\n",
       "      <td>521.009598</td>\n",
       "      <td>8:41 min/km</td>\n",
       "      <td>444.270648</td>\n",
       "      <td>7:24 min/km</td>\n",
       "      <td>Female</td>\n",
       "      <td>20</td>\n",
       "      <td>Ekaterina Legenzova</td>\n",
       "      <td>Dmitrov</td>\n",
       "      <td>RUS</td>\n",
       "      <td>4091.0</td>\n",
       "      <td>9373.0</td>\n",
       "      <td>21984.0</td>\n",
       "      <td>8687</td>\n",
       "    </tr>\n",
       "    <tr>\n",
       "      <th>8687</th>\n",
       "      <td>4022</td>\n",
       "      <td>5412</td>\n",
       "      <td>21986.0</td>\n",
       "      <td>521.056997</td>\n",
       "      <td>8:41 min/km</td>\n",
       "      <td>482.095035</td>\n",
       "      <td>8:02 min/km</td>\n",
       "      <td>Male</td>\n",
       "      <td>64</td>\n",
       "      <td>Aleksandr Denisov</td>\n",
       "      <td>Moskva</td>\n",
       "      <td>RUS</td>\n",
       "      <td>4044.0</td>\n",
       "      <td>10171.0</td>\n",
       "      <td>21986.0</td>\n",
       "      <td>8688</td>\n",
       "    </tr>\n",
       "    <tr>\n",
       "      <th>8688</th>\n",
       "      <td>8584</td>\n",
       "      <td>10776</td>\n",
       "      <td>22000.0</td>\n",
       "      <td>521.388790</td>\n",
       "      <td>8:41 min/km</td>\n",
       "      <td>489.868468</td>\n",
       "      <td>8:09 min/km</td>\n",
       "      <td>Male</td>\n",
       "      <td>43</td>\n",
       "      <td>Denis Burlakov</td>\n",
       "      <td>Moskva</td>\n",
       "      <td>RUS</td>\n",
       "      <td>4448.0</td>\n",
       "      <td>10335.0</td>\n",
       "      <td>22000.0</td>\n",
       "      <td>8689</td>\n",
       "    </tr>\n",
       "    <tr>\n",
       "      <th>8689</th>\n",
       "      <td>8585</td>\n",
       "      <td>10777</td>\n",
       "      <td>22000.0</td>\n",
       "      <td>521.388790</td>\n",
       "      <td>8:41 min/km</td>\n",
       "      <td>466.785164</td>\n",
       "      <td>7:46 min/km</td>\n",
       "      <td>Male</td>\n",
       "      <td>43</td>\n",
       "      <td>Kirill Burlakov</td>\n",
       "      <td>Moskva</td>\n",
       "      <td>RUS</td>\n",
       "      <td>4448.0</td>\n",
       "      <td>9848.0</td>\n",
       "      <td>22000.0</td>\n",
       "      <td>8690</td>\n",
       "    </tr>\n",
       "    <tr>\n",
       "      <th>8690</th>\n",
       "      <td>1146</td>\n",
       "      <td>1621</td>\n",
       "      <td>22022.0</td>\n",
       "      <td>521.910179</td>\n",
       "      <td>8:41 min/km</td>\n",
       "      <td>508.828060</td>\n",
       "      <td>8:28 min/km</td>\n",
       "      <td>Female</td>\n",
       "      <td>44</td>\n",
       "      <td>Nongluk Poolsawat</td>\n",
       "      <td>Bangkok</td>\n",
       "      <td>THA</td>\n",
       "      <td>5079.0</td>\n",
       "      <td>10735.0</td>\n",
       "      <td>22022.0</td>\n",
       "      <td>8691</td>\n",
       "    </tr>\n",
       "    <tr>\n",
       "      <th>8691</th>\n",
       "      <td>8855</td>\n",
       "      <td>11078</td>\n",
       "      <td>22062.0</td>\n",
       "      <td>522.858158</td>\n",
       "      <td>8:42 min/km</td>\n",
       "      <td>499.632658</td>\n",
       "      <td>8:19 min/km</td>\n",
       "      <td>Male</td>\n",
       "      <td>35</td>\n",
       "      <td>Pavel Shcherbakov</td>\n",
       "      <td>Moskva</td>\n",
       "      <td>RUS</td>\n",
       "      <td>5906.0</td>\n",
       "      <td>10541.0</td>\n",
       "      <td>22062.0</td>\n",
       "      <td>8692</td>\n",
       "    </tr>\n",
       "    <tr>\n",
       "      <th>8692</th>\n",
       "      <td>6088</td>\n",
       "      <td>7913</td>\n",
       "      <td>22069.0</td>\n",
       "      <td>523.024055</td>\n",
       "      <td>8:43 min/km</td>\n",
       "      <td>510.297429</td>\n",
       "      <td>8:30 min/km</td>\n",
       "      <td>Female</td>\n",
       "      <td>40</td>\n",
       "      <td>Nadezhda Vershinina</td>\n",
       "      <td>Moskva</td>\n",
       "      <td>RUS</td>\n",
       "      <td>5133.0</td>\n",
       "      <td>10766.0</td>\n",
       "      <td>22069.0</td>\n",
       "      <td>8693</td>\n",
       "    </tr>\n",
       "    <tr>\n",
       "      <th>8693</th>\n",
       "      <td>1103</td>\n",
       "      <td>1568</td>\n",
       "      <td>22073.0</td>\n",
       "      <td>523.118853</td>\n",
       "      <td>8:43 min/km</td>\n",
       "      <td>505.130940</td>\n",
       "      <td>8:25 min/km</td>\n",
       "      <td>Female</td>\n",
       "      <td>53</td>\n",
       "      <td>Thanyatorn Kiriyapong</td>\n",
       "      <td>Bangkok</td>\n",
       "      <td>THA</td>\n",
       "      <td>4678.0</td>\n",
       "      <td>10657.0</td>\n",
       "      <td>22073.0</td>\n",
       "      <td>8694</td>\n",
       "    </tr>\n",
       "    <tr>\n",
       "      <th>8694</th>\n",
       "      <td>995</td>\n",
       "      <td>1413</td>\n",
       "      <td>22074.0</td>\n",
       "      <td>523.142552</td>\n",
       "      <td>8:43 min/km</td>\n",
       "      <td>478.113521</td>\n",
       "      <td>7:58 min/km</td>\n",
       "      <td>Female</td>\n",
       "      <td>35</td>\n",
       "      <td>Phornnapas Chalermtiarana</td>\n",
       "      <td>Bangkok</td>\n",
       "      <td>THA</td>\n",
       "      <td>4251.0</td>\n",
       "      <td>10087.0</td>\n",
       "      <td>22074.0</td>\n",
       "      <td>8695</td>\n",
       "    </tr>\n",
       "    <tr>\n",
       "      <th>8695</th>\n",
       "      <td>2114</td>\n",
       "      <td>2920</td>\n",
       "      <td>22074.0</td>\n",
       "      <td>523.142552</td>\n",
       "      <td>8:43 min/km</td>\n",
       "      <td>484.275388</td>\n",
       "      <td>8:04 min/km</td>\n",
       "      <td>Male</td>\n",
       "      <td>37</td>\n",
       "      <td>Rajesh Abdulsalim</td>\n",
       "      <td>Dubai</td>\n",
       "      <td>ARE</td>\n",
       "      <td>4482.0</td>\n",
       "      <td>10217.0</td>\n",
       "      <td>22074.0</td>\n",
       "      <td>8696</td>\n",
       "    </tr>\n",
       "    <tr>\n",
       "      <th>8696</th>\n",
       "      <td>8209</td>\n",
       "      <td>10356</td>\n",
       "      <td>22088.0</td>\n",
       "      <td>523.474345</td>\n",
       "      <td>8:43 min/km</td>\n",
       "      <td>460.149307</td>\n",
       "      <td>7:40 min/km</td>\n",
       "      <td>Male</td>\n",
       "      <td>34</td>\n",
       "      <td>Aleksandr Kashin</td>\n",
       "      <td>Moskva</td>\n",
       "      <td>RUS</td>\n",
       "      <td>4121.0</td>\n",
       "      <td>9708.0</td>\n",
       "      <td>22088.0</td>\n",
       "      <td>8697</td>\n",
       "    </tr>\n",
       "    <tr>\n",
       "      <th>8697</th>\n",
       "      <td>1297</td>\n",
       "      <td>1818</td>\n",
       "      <td>22102.0</td>\n",
       "      <td>523.806138</td>\n",
       "      <td>8:43 min/km</td>\n",
       "      <td>492.617609</td>\n",
       "      <td>8:12 min/km</td>\n",
       "      <td>Male</td>\n",
       "      <td>64</td>\n",
       "      <td>Songkran Amornsaengthong</td>\n",
       "      <td>Moskva</td>\n",
       "      <td>RUS</td>\n",
       "      <td>4984.0</td>\n",
       "      <td>10393.0</td>\n",
       "      <td>22102.0</td>\n",
       "      <td>8698</td>\n",
       "    </tr>\n",
       "    <tr>\n",
       "      <th>8698</th>\n",
       "      <td>8578</td>\n",
       "      <td>10770</td>\n",
       "      <td>22178.0</td>\n",
       "      <td>525.607299</td>\n",
       "      <td>8:45 min/km</td>\n",
       "      <td>559.450172</td>\n",
       "      <td>9:19 min/km</td>\n",
       "      <td>Male</td>\n",
       "      <td>36</td>\n",
       "      <td>Aleksey Popov</td>\n",
       "      <td>Moskva</td>\n",
       "      <td>RUS</td>\n",
       "      <td>5956.0</td>\n",
       "      <td>11803.0</td>\n",
       "      <td>22178.0</td>\n",
       "      <td>8699</td>\n",
       "    </tr>\n",
       "    <tr>\n",
       "      <th>8699</th>\n",
       "      <td>3199</td>\n",
       "      <td>4301</td>\n",
       "      <td>22183.0</td>\n",
       "      <td>525.725797</td>\n",
       "      <td>8:45 min/km</td>\n",
       "      <td>503.471975</td>\n",
       "      <td>8:23 min/km</td>\n",
       "      <td>Male</td>\n",
       "      <td>26</td>\n",
       "      <td>Danila Malykhin</td>\n",
       "      <td>Moskva</td>\n",
       "      <td>RUS</td>\n",
       "      <td>4862.0</td>\n",
       "      <td>10622.0</td>\n",
       "      <td>22183.0</td>\n",
       "      <td>8700</td>\n",
       "    </tr>\n",
       "    <tr>\n",
       "      <th>8700</th>\n",
       "      <td>6340</td>\n",
       "      <td>8204</td>\n",
       "      <td>22291.0</td>\n",
       "      <td>528.285342</td>\n",
       "      <td>8:48 min/km</td>\n",
       "      <td>383.315559</td>\n",
       "      <td>6:23 min/km</td>\n",
       "      <td>Male</td>\n",
       "      <td>63</td>\n",
       "      <td>Chi_Wan Yu</td>\n",
       "      <td>Hong Kong</td>\n",
       "      <td>HKG</td>\n",
       "      <td>3704.0</td>\n",
       "      <td>8087.0</td>\n",
       "      <td>22291.0</td>\n",
       "      <td>8701</td>\n",
       "    </tr>\n",
       "    <tr>\n",
       "      <th>8701</th>\n",
       "      <td>2526</td>\n",
       "      <td>3462</td>\n",
       "      <td>22672.0</td>\n",
       "      <td>537.314848</td>\n",
       "      <td>8:57 min/km</td>\n",
       "      <td>493.518189</td>\n",
       "      <td>8:13 min/km</td>\n",
       "      <td>Male</td>\n",
       "      <td>25</td>\n",
       "      <td>Artem Prasolov</td>\n",
       "      <td>Moskva</td>\n",
       "      <td>RUS</td>\n",
       "      <td>4607.0</td>\n",
       "      <td>10412.0</td>\n",
       "      <td>22672.0</td>\n",
       "      <td>8702</td>\n",
       "    </tr>\n",
       "  </tbody>\n",
       "</table>\n",
       "<p>8702 rows × 16 columns</p>\n",
       "</div>"
      ],
      "text/plain": [
       "      index  BibNo  Finish_Time_Sec    Pace_Sec  Pace_Minpkm  Half_Pace_Sec  \\\n",
       "0         2      3           8122.0  192.487261  3:12 min/km     189.880318   \n",
       "1        10     12           8161.0  193.411542  3:13 min/km     189.738121   \n",
       "2         8     10           8394.0  198.933523  3:18 min/km     188.268752   \n",
       "3      8968  15008           8416.0  199.454912  3:19 min/km     195.094205   \n",
       "4         3      4           8467.0  200.663586  3:20 min/km     186.894182   \n",
       "5         5      7           8513.0  201.753762  3:21 min/km     194.478019   \n",
       "6        12     14           8601.0  203.839317  3:23 min/km     197.416755   \n",
       "7         6      8           8670.0  205.474582  3:25 min/km     195.094205   \n",
       "8      8361  10522           8690.0  205.948572  3:25 min/km     201.493068   \n",
       "9         4      5           8738.0  207.086148  3:27 min/km     194.904610   \n",
       "10       23     33           8800.0  208.555516  3:28 min/km     192.250267   \n",
       "11     8970  15010           8808.0  208.745112  3:28 min/km     199.597109   \n",
       "12       11     13           8852.0  209.787890  3:29 min/km     208.223723   \n",
       "13     6531   8422           8856.0  209.882688  3:29 min/km     208.223723   \n",
       "14        9     11           8856.0  209.882688  3:29 min/km     201.540467   \n",
       "15     8519  10709           8873.0  210.285579  3:30 min/km     208.223723   \n",
       "16     8966  15006           8890.0  210.688470  3:30 min/km     208.271122   \n",
       "17        0      1           8911.0  211.186160  3:31 min/km     208.318521   \n",
       "18       18     22           8912.0  211.209859  3:31 min/km     208.176324   \n",
       "19     8972  15012           8952.0  212.157839  3:32 min/km     208.271122   \n",
       "20        7      9           8982.0  212.868823  3:32 min/km     208.223723   \n",
       "21     6075   7899           9047.0  214.409290  3:34 min/km     210.546273   \n",
       "22     8971  15011           9080.0  215.191373  3:35 min/km     208.223723   \n",
       "23     8154  10294           9084.0  215.286171  3:35 min/km     208.223723   \n",
       "24     5414   7108           9088.0  215.380969  3:35 min/km     213.295414   \n",
       "25     6772   8699           9203.0  218.106411  3:38 min/km     211.020263   \n",
       "26     8964  15003           9270.0  219.694277  3:39 min/km     212.015642   \n",
       "27        1      2           9308.0  220.594857  3:40 min/km     212.157839   \n",
       "28     6277   8134           9386.0  222.443417  3:42 min/km     216.660742   \n",
       "29     8656  10858           9421.0  223.272900  3:43 min/km     208.365920   \n",
       "...     ...    ...              ...         ...          ...            ...   \n",
       "8672    949   1352          21873.0  518.378955  8:38 min/km     513.473160   \n",
       "8673   3265   4391          21891.0  518.805546  8:38 min/km     490.010665   \n",
       "8674   7000   8953          21891.0  518.805546  8:38 min/km     480.246475   \n",
       "8675   1118   1586          21892.0  518.829245  8:38 min/km     504.135561   \n",
       "8676   3871   5209          21893.0  518.852945  8:38 min/km     494.276573   \n",
       "8677   6902   8845          21893.0  518.852945  8:38 min/km     480.293874   \n",
       "8678   4213   5655          21899.0  518.995142  8:38 min/km     515.274322   \n",
       "8679   8168  10310          21908.0  519.208437  8:39 min/km     413.271715   \n",
       "8680   3838   5166          21919.0  519.469131  8:39 min/km     504.704349   \n",
       "8681   6025   7846          21954.0  520.298614  8:40 min/km     486.597938   \n",
       "8682   5059   6661          21955.0  520.322313  8:40 min/km     396.397677   \n",
       "8683   8169  10311          21969.0  520.654106  8:40 min/km     483.327408   \n",
       "8684    576    846          21979.0  520.891101  8:40 min/km     498.447683   \n",
       "8685   7159   9131          21980.0  520.914800  8:40 min/km     498.352885   \n",
       "8686   3451   4655          21984.0  521.009598  8:41 min/km     444.270648   \n",
       "8687   4022   5412          21986.0  521.056997  8:41 min/km     482.095035   \n",
       "8688   8584  10776          22000.0  521.388790  8:41 min/km     489.868468   \n",
       "8689   8585  10777          22000.0  521.388790  8:41 min/km     466.785164   \n",
       "8690   1146   1621          22022.0  521.910179  8:41 min/km     508.828060   \n",
       "8691   8855  11078          22062.0  522.858158  8:42 min/km     499.632658   \n",
       "8692   6088   7913          22069.0  523.024055  8:43 min/km     510.297429   \n",
       "8693   1103   1568          22073.0  523.118853  8:43 min/km     505.130940   \n",
       "8694    995   1413          22074.0  523.142552  8:43 min/km     478.113521   \n",
       "8695   2114   2920          22074.0  523.142552  8:43 min/km     484.275388   \n",
       "8696   8209  10356          22088.0  523.474345  8:43 min/km     460.149307   \n",
       "8697   1297   1818          22102.0  523.806138  8:43 min/km     492.617609   \n",
       "8698   8578  10770          22178.0  525.607299  8:45 min/km     559.450172   \n",
       "8699   3199   4301          22183.0  525.725797  8:45 min/km     503.471975   \n",
       "8700   6340   8204          22291.0  528.285342  8:48 min/km     383.315559   \n",
       "8701   2526   3462          22672.0  537.314848  8:57 min/km     493.518189   \n",
       "\n",
       "     Half_Pace_Minpkm  Gender  Age                       Name  \\\n",
       "0         3:09 min/km    Male   31             Stepan Kiselev   \n",
       "1         3:09 min/km    Male   32           Aleksey Troshkin   \n",
       "2         3:08 min/km    Male   27            Artem Aplachkin   \n",
       "3         3:15 min/km    Male   29               Sergey Popov   \n",
       "4         3:06 min/km    Male   36           Dmitriy Safronov   \n",
       "5         3:14 min/km    Male   33            Mikhail Kul'kov   \n",
       "6         3:17 min/km    Male   31              Viktor Ugarov   \n",
       "7         3:15 min/km    Male   30             Oleg Grigor'ev   \n",
       "8         3:21 min/km    Male   26           Aleksey Shirshov   \n",
       "9         3:14 min/km    Male   42           Grigoriy Andreev   \n",
       "10        3:12 min/km    Male   27          Iskander Yadgarov   \n",
       "11        3:19 min/km    Male   32             Andrey Smirnov   \n",
       "12        3:28 min/km    Male   25        Mikhail Zvyagintsev   \n",
       "13        3:28 min/km    Male   43              Andrey Klinov   \n",
       "14        3:21 min/km    Male   28        Aleksandr Krotovich   \n",
       "15        3:28 min/km    Male   38                  Yipeng Li   \n",
       "16        3:28 min/km    Male   34             Denis Korablev   \n",
       "17        3:28 min/km  Female   30          Sardana Trofimova   \n",
       "18        3:28 min/km    Male   35             Renat Kashapov   \n",
       "19        3:28 min/km    Male   36            Dmitriy Shilkin   \n",
       "20        3:28 min/km    Male   26         Ruslan Khoroshilov   \n",
       "21        3:30 min/km    Male   34            Aleksey Matveev   \n",
       "22        3:28 min/km    Male   22        Vladislav Chuzhinov   \n",
       "23        3:28 min/km    Male   33              Pavel Fedorov   \n",
       "24        3:33 min/km    Male   26         Andrey Studennikov   \n",
       "25        3:31 min/km    Male   27        Aleksandr Chekhonin   \n",
       "26        3:32 min/km    Male   31               Petr Didenko   \n",
       "27        3:32 min/km  Female   35         Tat'yana Arkhipova   \n",
       "28        3:36 min/km    Male   32       Vladimir Ovchinnikov   \n",
       "29        3:28 min/km    Male   31           Vadim Maksimenko   \n",
       "...               ...     ...  ...                        ...   \n",
       "8672      8:33 min/km  Female   35            Mariya Byakhova   \n",
       "8673      8:10 min/km  Female   47           Pinrak Mabamrung   \n",
       "8674      8:00 min/km  Female   37              Tan_Wei Chang   \n",
       "8675      8:24 min/km  Female   24   Passamon Karanyapotikorn   \n",
       "8676      8:14 min/km  Female   31        Elizaveta Tikhonova   \n",
       "8677      8:00 min/km    Male   41                Ka_Lon Fong   \n",
       "8678      8:35 min/km    Male   35                  Pm Dinesh   \n",
       "8679      6:53 min/km    Male   72          Viktor Tyumentsev   \n",
       "8680      8:24 min/km  Female   36         Margareth Theodora   \n",
       "8681      8:06 min/km  Female   25            Yuliya Rudakova   \n",
       "8682      6:36 min/km    Male   28             Sergey Novikov   \n",
       "8683      8:03 min/km    Male   50            Dmitriy Tarasov   \n",
       "8684      8:18 min/km  Female   40   Patranada Vipatbovonvong   \n",
       "8685      8:18 min/km  Female   18          Katya Smolentseva   \n",
       "8686      7:24 min/km  Female   20        Ekaterina Legenzova   \n",
       "8687      8:02 min/km    Male   64          Aleksandr Denisov   \n",
       "8688      8:09 min/km    Male   43             Denis Burlakov   \n",
       "8689      7:46 min/km    Male   43            Kirill Burlakov   \n",
       "8690      8:28 min/km  Female   44          Nongluk Poolsawat   \n",
       "8691      8:19 min/km    Male   35          Pavel Shcherbakov   \n",
       "8692      8:30 min/km  Female   40        Nadezhda Vershinina   \n",
       "8693      8:25 min/km  Female   53      Thanyatorn Kiriyapong   \n",
       "8694      7:58 min/km  Female   35  Phornnapas Chalermtiarana   \n",
       "8695      8:04 min/km    Male   37          Rajesh Abdulsalim   \n",
       "8696      7:40 min/km    Male   34           Aleksandr Kashin   \n",
       "8697      8:12 min/km    Male   64   Songkran Amornsaengthong   \n",
       "8698      9:19 min/km    Male   36              Aleksey Popov   \n",
       "8699      8:23 min/km    Male   26            Danila Malykhin   \n",
       "8700      6:23 min/km    Male   63                 Chi_Wan Yu   \n",
       "8701      8:13 min/km    Male   25             Artem Prasolov   \n",
       "\n",
       "                 City Country   10 km  Half marathon  Marathon  \\\n",
       "0              Kazan'     RUS  1899.0         4006.0    8122.0   \n",
       "1             Saransk     RUS  1905.0         4003.0    8161.0   \n",
       "2             Barnaul     RUS  1879.0         3972.0    8394.0   \n",
       "3            Voronezh     RUS  1960.0         4116.0    8416.0   \n",
       "4              Moskva     RUS  1876.0         3943.0    8467.0   \n",
       "5     Khanty-Mansiysk     RUS  1959.0         4103.0    8513.0   \n",
       "6              Moskva     RUS  1976.0         4165.0    8601.0   \n",
       "7              Moskva     RUS  1958.0         4116.0    8670.0   \n",
       "8             Chkalov     RUS  1978.0         4251.0    8690.0   \n",
       "9                 Ufa     RUS  1958.0         4112.0    8738.0   \n",
       "10             Moskva     RUS  1943.0         4056.0    8800.0   \n",
       "11              Perm'     RUS  1972.0         4211.0    8808.0   \n",
       "12            Biryuch     RUS  2111.0         4393.0    8852.0   \n",
       "13            Ryazan'     RUS  2110.0         4393.0    8856.0   \n",
       "14    Sankt-Peterburg     RUS  1996.0         4252.0    8856.0   \n",
       "15            Beijing     CHN  2111.0         4393.0    8873.0   \n",
       "16          Salekhard     RUS  2111.0         4394.0    8890.0   \n",
       "17            Yakutsk     RUS  2112.0         4395.0    8911.0   \n",
       "18             Kazan'     RUS  2110.0         4392.0    8912.0   \n",
       "19            Saratov     RUS  2111.0         4394.0    8952.0   \n",
       "20           Belgorod     RUS  2110.0         4393.0    8982.0   \n",
       "21          Borovichi     RUS  2119.0         4442.0    9047.0   \n",
       "22           Belgorod     RUS  2110.0         4393.0    9080.0   \n",
       "23             Lobnya     RUS  2110.0         4393.0    9084.0   \n",
       "24             Moskva     RUS  2173.0         4500.0    9088.0   \n",
       "25        Kaliningrad     RUS  2119.0         4452.0    9203.0   \n",
       "26             Moskva     RUS  2112.0         4473.0    9270.0   \n",
       "27         Cheboksary     RUS  2115.0         4476.0    9308.0   \n",
       "28       Ekaterinburg     RUS  2192.0         4571.0    9386.0   \n",
       "29       Ekaterinburg     RUS  2110.0         4396.0    9421.0   \n",
       "...               ...     ...     ...            ...       ...   \n",
       "8672           Moskva     RUS  4751.0        10833.0   21873.0   \n",
       "8673           Moskva     RUS  4577.0        10338.0   21891.0   \n",
       "8674         Taichung     TWN  4422.0        10132.0   21891.0   \n",
       "8675           Moskva     RUS  4586.0        10636.0   21892.0   \n",
       "8676           Moskva     RUS  4709.0        10428.0   21893.0   \n",
       "8677            Macau     MAC  4424.0        10133.0   21893.0   \n",
       "8678           Moskva     RUS  3923.0        10871.0   21899.0   \n",
       "8679           Moskva     RUS  3700.0         8719.0   21908.0   \n",
       "8680           Moskva     RUS  4645.0        10648.0   21919.0   \n",
       "8681        Kurovskoe     RUS  4454.0        10266.0   21954.0   \n",
       "8682            Orjol     RUS  3266.0         8363.0   21955.0   \n",
       "8683           Moskva     RUS  4503.0        10197.0   21969.0   \n",
       "8684          Bangkok     THA  4742.0        10516.0   21979.0   \n",
       "8685           Moskva     RUS  4795.0        10514.0   21980.0   \n",
       "8686          Dmitrov     RUS  4091.0         9373.0   21984.0   \n",
       "8687           Moskva     RUS  4044.0        10171.0   21986.0   \n",
       "8688           Moskva     RUS  4448.0        10335.0   22000.0   \n",
       "8689           Moskva     RUS  4448.0         9848.0   22000.0   \n",
       "8690          Bangkok     THA  5079.0        10735.0   22022.0   \n",
       "8691           Moskva     RUS  5906.0        10541.0   22062.0   \n",
       "8692           Moskva     RUS  5133.0        10766.0   22069.0   \n",
       "8693          Bangkok     THA  4678.0        10657.0   22073.0   \n",
       "8694          Bangkok     THA  4251.0        10087.0   22074.0   \n",
       "8695            Dubai     ARE  4482.0        10217.0   22074.0   \n",
       "8696           Moskva     RUS  4121.0         9708.0   22088.0   \n",
       "8697           Moskva     RUS  4984.0        10393.0   22102.0   \n",
       "8698           Moskva     RUS  5956.0        11803.0   22178.0   \n",
       "8699           Moskva     RUS  4862.0        10622.0   22183.0   \n",
       "8700        Hong Kong     HKG  3704.0         8087.0   22291.0   \n",
       "8701           Moskva     RUS  4607.0        10412.0   22672.0   \n",
       "\n",
       "      Overall_Ranking  \n",
       "0                   1  \n",
       "1                   2  \n",
       "2                   3  \n",
       "3                   4  \n",
       "4                   5  \n",
       "5                   6  \n",
       "6                   7  \n",
       "7                   8  \n",
       "8                   9  \n",
       "9                  10  \n",
       "10                 11  \n",
       "11                 12  \n",
       "12                 13  \n",
       "13                 14  \n",
       "14                 15  \n",
       "15                 16  \n",
       "16                 17  \n",
       "17                 18  \n",
       "18                 19  \n",
       "19                 20  \n",
       "20                 21  \n",
       "21                 22  \n",
       "22                 23  \n",
       "23                 24  \n",
       "24                 25  \n",
       "25                 26  \n",
       "26                 27  \n",
       "27                 28  \n",
       "28                 29  \n",
       "29                 30  \n",
       "...               ...  \n",
       "8672             8673  \n",
       "8673             8674  \n",
       "8674             8675  \n",
       "8675             8676  \n",
       "8676             8677  \n",
       "8677             8678  \n",
       "8678             8679  \n",
       "8679             8680  \n",
       "8680             8681  \n",
       "8681             8682  \n",
       "8682             8683  \n",
       "8683             8684  \n",
       "8684             8685  \n",
       "8685             8686  \n",
       "8686             8687  \n",
       "8687             8688  \n",
       "8688             8689  \n",
       "8689             8690  \n",
       "8690             8691  \n",
       "8691             8692  \n",
       "8692             8693  \n",
       "8693             8694  \n",
       "8694             8695  \n",
       "8695             8696  \n",
       "8696             8697  \n",
       "8697             8698  \n",
       "8698             8699  \n",
       "8699             8700  \n",
       "8700             8701  \n",
       "8701             8702  \n",
       "\n",
       "[8702 rows x 16 columns]"
      ]
     },
     "execution_count": 114,
     "metadata": {},
     "output_type": "execute_result"
    }
   ],
   "source": [
    "df_new_Moscow"
   ]
  },
  {
   "cell_type": "code",
   "execution_count": 115,
   "metadata": {},
   "outputs": [
    {
     "name": "stdout",
     "output_type": "stream",
     "text": [
      "<class 'pandas.core.frame.DataFrame'>\n",
      "RangeIndex: 8702 entries, 0 to 8701\n",
      "Data columns (total 16 columns):\n",
      "index               8702 non-null int64\n",
      "BibNo               8702 non-null int64\n",
      "Finish_Time_Sec     8702 non-null float64\n",
      "Pace_Sec            8702 non-null float64\n",
      "Pace_Minpkm         8702 non-null object\n",
      "Half_Pace_Sec       8702 non-null float64\n",
      "Half_Pace_Minpkm    8702 non-null object\n",
      "Gender              8702 non-null object\n",
      "Age                 8702 non-null int64\n",
      "Name                8702 non-null object\n",
      "City                8702 non-null object\n",
      "Country             8702 non-null object\n",
      "10 km               8701 non-null float64\n",
      "Half marathon       8702 non-null float64\n",
      "Marathon            8702 non-null float64\n",
      "Overall_Ranking     8702 non-null int64\n",
      "dtypes: float64(6), int64(4), object(6)\n",
      "memory usage: 1.1+ MB\n"
     ]
    }
   ],
   "source": [
    "df_new_Moscow.info()"
   ]
  },
  {
   "cell_type": "code",
   "execution_count": 116,
   "metadata": {},
   "outputs": [],
   "source": [
    "df_new_Moscow.drop(columns=['index'],axis=1,inplace=True)"
   ]
  },
  {
   "cell_type": "code",
   "execution_count": 117,
   "metadata": {},
   "outputs": [
    {
     "data": {
      "text/html": [
       "<div>\n",
       "<style scoped>\n",
       "    .dataframe tbody tr th:only-of-type {\n",
       "        vertical-align: middle;\n",
       "    }\n",
       "\n",
       "    .dataframe tbody tr th {\n",
       "        vertical-align: top;\n",
       "    }\n",
       "\n",
       "    .dataframe thead th {\n",
       "        text-align: right;\n",
       "    }\n",
       "</style>\n",
       "<table border=\"1\" class=\"dataframe\">\n",
       "  <thead>\n",
       "    <tr style=\"text-align: right;\">\n",
       "      <th></th>\n",
       "      <th>BibNo</th>\n",
       "      <th>Finish_Time_Sec</th>\n",
       "      <th>Pace_Sec</th>\n",
       "      <th>Pace_Minpkm</th>\n",
       "      <th>Half_Pace_Sec</th>\n",
       "      <th>Half_Pace_Minpkm</th>\n",
       "      <th>Gender</th>\n",
       "      <th>Age</th>\n",
       "      <th>Name</th>\n",
       "      <th>City</th>\n",
       "      <th>Country</th>\n",
       "      <th>10 km</th>\n",
       "      <th>Half marathon</th>\n",
       "      <th>Marathon</th>\n",
       "      <th>Overall_Ranking</th>\n",
       "    </tr>\n",
       "  </thead>\n",
       "  <tbody>\n",
       "    <tr>\n",
       "      <th>0</th>\n",
       "      <td>3</td>\n",
       "      <td>8122.0</td>\n",
       "      <td>192.487261</td>\n",
       "      <td>3:12 min/km</td>\n",
       "      <td>189.880318</td>\n",
       "      <td>3:09 min/km</td>\n",
       "      <td>Male</td>\n",
       "      <td>31</td>\n",
       "      <td>Stepan Kiselev</td>\n",
       "      <td>Kazan'</td>\n",
       "      <td>RUS</td>\n",
       "      <td>1899.0</td>\n",
       "      <td>4006.0</td>\n",
       "      <td>8122.0</td>\n",
       "      <td>1</td>\n",
       "    </tr>\n",
       "    <tr>\n",
       "      <th>1</th>\n",
       "      <td>12</td>\n",
       "      <td>8161.0</td>\n",
       "      <td>193.411542</td>\n",
       "      <td>3:13 min/km</td>\n",
       "      <td>189.738121</td>\n",
       "      <td>3:09 min/km</td>\n",
       "      <td>Male</td>\n",
       "      <td>32</td>\n",
       "      <td>Aleksey Troshkin</td>\n",
       "      <td>Saransk</td>\n",
       "      <td>RUS</td>\n",
       "      <td>1905.0</td>\n",
       "      <td>4003.0</td>\n",
       "      <td>8161.0</td>\n",
       "      <td>2</td>\n",
       "    </tr>\n",
       "    <tr>\n",
       "      <th>2</th>\n",
       "      <td>10</td>\n",
       "      <td>8394.0</td>\n",
       "      <td>198.933523</td>\n",
       "      <td>3:18 min/km</td>\n",
       "      <td>188.268752</td>\n",
       "      <td>3:08 min/km</td>\n",
       "      <td>Male</td>\n",
       "      <td>27</td>\n",
       "      <td>Artem Aplachkin</td>\n",
       "      <td>Barnaul</td>\n",
       "      <td>RUS</td>\n",
       "      <td>1879.0</td>\n",
       "      <td>3972.0</td>\n",
       "      <td>8394.0</td>\n",
       "      <td>3</td>\n",
       "    </tr>\n",
       "    <tr>\n",
       "      <th>3</th>\n",
       "      <td>15008</td>\n",
       "      <td>8416.0</td>\n",
       "      <td>199.454912</td>\n",
       "      <td>3:19 min/km</td>\n",
       "      <td>195.094205</td>\n",
       "      <td>3:15 min/km</td>\n",
       "      <td>Male</td>\n",
       "      <td>29</td>\n",
       "      <td>Sergey Popov</td>\n",
       "      <td>Voronezh</td>\n",
       "      <td>RUS</td>\n",
       "      <td>1960.0</td>\n",
       "      <td>4116.0</td>\n",
       "      <td>8416.0</td>\n",
       "      <td>4</td>\n",
       "    </tr>\n",
       "    <tr>\n",
       "      <th>4</th>\n",
       "      <td>4</td>\n",
       "      <td>8467.0</td>\n",
       "      <td>200.663586</td>\n",
       "      <td>3:20 min/km</td>\n",
       "      <td>186.894182</td>\n",
       "      <td>3:06 min/km</td>\n",
       "      <td>Male</td>\n",
       "      <td>36</td>\n",
       "      <td>Dmitriy Safronov</td>\n",
       "      <td>Moskva</td>\n",
       "      <td>RUS</td>\n",
       "      <td>1876.0</td>\n",
       "      <td>3943.0</td>\n",
       "      <td>8467.0</td>\n",
       "      <td>5</td>\n",
       "    </tr>\n",
       "    <tr>\n",
       "      <th>5</th>\n",
       "      <td>7</td>\n",
       "      <td>8513.0</td>\n",
       "      <td>201.753762</td>\n",
       "      <td>3:21 min/km</td>\n",
       "      <td>194.478019</td>\n",
       "      <td>3:14 min/km</td>\n",
       "      <td>Male</td>\n",
       "      <td>33</td>\n",
       "      <td>Mikhail Kul'kov</td>\n",
       "      <td>Khanty-Mansiysk</td>\n",
       "      <td>RUS</td>\n",
       "      <td>1959.0</td>\n",
       "      <td>4103.0</td>\n",
       "      <td>8513.0</td>\n",
       "      <td>6</td>\n",
       "    </tr>\n",
       "    <tr>\n",
       "      <th>6</th>\n",
       "      <td>14</td>\n",
       "      <td>8601.0</td>\n",
       "      <td>203.839317</td>\n",
       "      <td>3:23 min/km</td>\n",
       "      <td>197.416755</td>\n",
       "      <td>3:17 min/km</td>\n",
       "      <td>Male</td>\n",
       "      <td>31</td>\n",
       "      <td>Viktor Ugarov</td>\n",
       "      <td>Moskva</td>\n",
       "      <td>RUS</td>\n",
       "      <td>1976.0</td>\n",
       "      <td>4165.0</td>\n",
       "      <td>8601.0</td>\n",
       "      <td>7</td>\n",
       "    </tr>\n",
       "    <tr>\n",
       "      <th>7</th>\n",
       "      <td>8</td>\n",
       "      <td>8670.0</td>\n",
       "      <td>205.474582</td>\n",
       "      <td>3:25 min/km</td>\n",
       "      <td>195.094205</td>\n",
       "      <td>3:15 min/km</td>\n",
       "      <td>Male</td>\n",
       "      <td>30</td>\n",
       "      <td>Oleg Grigor'ev</td>\n",
       "      <td>Moskva</td>\n",
       "      <td>RUS</td>\n",
       "      <td>1958.0</td>\n",
       "      <td>4116.0</td>\n",
       "      <td>8670.0</td>\n",
       "      <td>8</td>\n",
       "    </tr>\n",
       "    <tr>\n",
       "      <th>8</th>\n",
       "      <td>10522</td>\n",
       "      <td>8690.0</td>\n",
       "      <td>205.948572</td>\n",
       "      <td>3:25 min/km</td>\n",
       "      <td>201.493068</td>\n",
       "      <td>3:21 min/km</td>\n",
       "      <td>Male</td>\n",
       "      <td>26</td>\n",
       "      <td>Aleksey Shirshov</td>\n",
       "      <td>Chkalov</td>\n",
       "      <td>RUS</td>\n",
       "      <td>1978.0</td>\n",
       "      <td>4251.0</td>\n",
       "      <td>8690.0</td>\n",
       "      <td>9</td>\n",
       "    </tr>\n",
       "    <tr>\n",
       "      <th>9</th>\n",
       "      <td>5</td>\n",
       "      <td>8738.0</td>\n",
       "      <td>207.086148</td>\n",
       "      <td>3:27 min/km</td>\n",
       "      <td>194.904610</td>\n",
       "      <td>3:14 min/km</td>\n",
       "      <td>Male</td>\n",
       "      <td>42</td>\n",
       "      <td>Grigoriy Andreev</td>\n",
       "      <td>Ufa</td>\n",
       "      <td>RUS</td>\n",
       "      <td>1958.0</td>\n",
       "      <td>4112.0</td>\n",
       "      <td>8738.0</td>\n",
       "      <td>10</td>\n",
       "    </tr>\n",
       "    <tr>\n",
       "      <th>10</th>\n",
       "      <td>33</td>\n",
       "      <td>8800.0</td>\n",
       "      <td>208.555516</td>\n",
       "      <td>3:28 min/km</td>\n",
       "      <td>192.250267</td>\n",
       "      <td>3:12 min/km</td>\n",
       "      <td>Male</td>\n",
       "      <td>27</td>\n",
       "      <td>Iskander Yadgarov</td>\n",
       "      <td>Moskva</td>\n",
       "      <td>RUS</td>\n",
       "      <td>1943.0</td>\n",
       "      <td>4056.0</td>\n",
       "      <td>8800.0</td>\n",
       "      <td>11</td>\n",
       "    </tr>\n",
       "    <tr>\n",
       "      <th>11</th>\n",
       "      <td>15010</td>\n",
       "      <td>8808.0</td>\n",
       "      <td>208.745112</td>\n",
       "      <td>3:28 min/km</td>\n",
       "      <td>199.597109</td>\n",
       "      <td>3:19 min/km</td>\n",
       "      <td>Male</td>\n",
       "      <td>32</td>\n",
       "      <td>Andrey Smirnov</td>\n",
       "      <td>Perm'</td>\n",
       "      <td>RUS</td>\n",
       "      <td>1972.0</td>\n",
       "      <td>4211.0</td>\n",
       "      <td>8808.0</td>\n",
       "      <td>12</td>\n",
       "    </tr>\n",
       "    <tr>\n",
       "      <th>12</th>\n",
       "      <td>13</td>\n",
       "      <td>8852.0</td>\n",
       "      <td>209.787890</td>\n",
       "      <td>3:29 min/km</td>\n",
       "      <td>208.223723</td>\n",
       "      <td>3:28 min/km</td>\n",
       "      <td>Male</td>\n",
       "      <td>25</td>\n",
       "      <td>Mikhail Zvyagintsev</td>\n",
       "      <td>Biryuch</td>\n",
       "      <td>RUS</td>\n",
       "      <td>2111.0</td>\n",
       "      <td>4393.0</td>\n",
       "      <td>8852.0</td>\n",
       "      <td>13</td>\n",
       "    </tr>\n",
       "    <tr>\n",
       "      <th>13</th>\n",
       "      <td>8422</td>\n",
       "      <td>8856.0</td>\n",
       "      <td>209.882688</td>\n",
       "      <td>3:29 min/km</td>\n",
       "      <td>208.223723</td>\n",
       "      <td>3:28 min/km</td>\n",
       "      <td>Male</td>\n",
       "      <td>43</td>\n",
       "      <td>Andrey Klinov</td>\n",
       "      <td>Ryazan'</td>\n",
       "      <td>RUS</td>\n",
       "      <td>2110.0</td>\n",
       "      <td>4393.0</td>\n",
       "      <td>8856.0</td>\n",
       "      <td>14</td>\n",
       "    </tr>\n",
       "    <tr>\n",
       "      <th>14</th>\n",
       "      <td>11</td>\n",
       "      <td>8856.0</td>\n",
       "      <td>209.882688</td>\n",
       "      <td>3:29 min/km</td>\n",
       "      <td>201.540467</td>\n",
       "      <td>3:21 min/km</td>\n",
       "      <td>Male</td>\n",
       "      <td>28</td>\n",
       "      <td>Aleksandr Krotovich</td>\n",
       "      <td>Sankt-Peterburg</td>\n",
       "      <td>RUS</td>\n",
       "      <td>1996.0</td>\n",
       "      <td>4252.0</td>\n",
       "      <td>8856.0</td>\n",
       "      <td>15</td>\n",
       "    </tr>\n",
       "    <tr>\n",
       "      <th>15</th>\n",
       "      <td>10709</td>\n",
       "      <td>8873.0</td>\n",
       "      <td>210.285579</td>\n",
       "      <td>3:30 min/km</td>\n",
       "      <td>208.223723</td>\n",
       "      <td>3:28 min/km</td>\n",
       "      <td>Male</td>\n",
       "      <td>38</td>\n",
       "      <td>Yipeng Li</td>\n",
       "      <td>Beijing</td>\n",
       "      <td>CHN</td>\n",
       "      <td>2111.0</td>\n",
       "      <td>4393.0</td>\n",
       "      <td>8873.0</td>\n",
       "      <td>16</td>\n",
       "    </tr>\n",
       "    <tr>\n",
       "      <th>16</th>\n",
       "      <td>15006</td>\n",
       "      <td>8890.0</td>\n",
       "      <td>210.688470</td>\n",
       "      <td>3:30 min/km</td>\n",
       "      <td>208.271122</td>\n",
       "      <td>3:28 min/km</td>\n",
       "      <td>Male</td>\n",
       "      <td>34</td>\n",
       "      <td>Denis Korablev</td>\n",
       "      <td>Salekhard</td>\n",
       "      <td>RUS</td>\n",
       "      <td>2111.0</td>\n",
       "      <td>4394.0</td>\n",
       "      <td>8890.0</td>\n",
       "      <td>17</td>\n",
       "    </tr>\n",
       "    <tr>\n",
       "      <th>17</th>\n",
       "      <td>1</td>\n",
       "      <td>8911.0</td>\n",
       "      <td>211.186160</td>\n",
       "      <td>3:31 min/km</td>\n",
       "      <td>208.318521</td>\n",
       "      <td>3:28 min/km</td>\n",
       "      <td>Female</td>\n",
       "      <td>30</td>\n",
       "      <td>Sardana Trofimova</td>\n",
       "      <td>Yakutsk</td>\n",
       "      <td>RUS</td>\n",
       "      <td>2112.0</td>\n",
       "      <td>4395.0</td>\n",
       "      <td>8911.0</td>\n",
       "      <td>18</td>\n",
       "    </tr>\n",
       "    <tr>\n",
       "      <th>18</th>\n",
       "      <td>22</td>\n",
       "      <td>8912.0</td>\n",
       "      <td>211.209859</td>\n",
       "      <td>3:31 min/km</td>\n",
       "      <td>208.176324</td>\n",
       "      <td>3:28 min/km</td>\n",
       "      <td>Male</td>\n",
       "      <td>35</td>\n",
       "      <td>Renat Kashapov</td>\n",
       "      <td>Kazan'</td>\n",
       "      <td>RUS</td>\n",
       "      <td>2110.0</td>\n",
       "      <td>4392.0</td>\n",
       "      <td>8912.0</td>\n",
       "      <td>19</td>\n",
       "    </tr>\n",
       "    <tr>\n",
       "      <th>19</th>\n",
       "      <td>15012</td>\n",
       "      <td>8952.0</td>\n",
       "      <td>212.157839</td>\n",
       "      <td>3:32 min/km</td>\n",
       "      <td>208.271122</td>\n",
       "      <td>3:28 min/km</td>\n",
       "      <td>Male</td>\n",
       "      <td>36</td>\n",
       "      <td>Dmitriy Shilkin</td>\n",
       "      <td>Saratov</td>\n",
       "      <td>RUS</td>\n",
       "      <td>2111.0</td>\n",
       "      <td>4394.0</td>\n",
       "      <td>8952.0</td>\n",
       "      <td>20</td>\n",
       "    </tr>\n",
       "  </tbody>\n",
       "</table>\n",
       "</div>"
      ],
      "text/plain": [
       "    BibNo  Finish_Time_Sec    Pace_Sec  Pace_Minpkm  Half_Pace_Sec  \\\n",
       "0       3           8122.0  192.487261  3:12 min/km     189.880318   \n",
       "1      12           8161.0  193.411542  3:13 min/km     189.738121   \n",
       "2      10           8394.0  198.933523  3:18 min/km     188.268752   \n",
       "3   15008           8416.0  199.454912  3:19 min/km     195.094205   \n",
       "4       4           8467.0  200.663586  3:20 min/km     186.894182   \n",
       "5       7           8513.0  201.753762  3:21 min/km     194.478019   \n",
       "6      14           8601.0  203.839317  3:23 min/km     197.416755   \n",
       "7       8           8670.0  205.474582  3:25 min/km     195.094205   \n",
       "8   10522           8690.0  205.948572  3:25 min/km     201.493068   \n",
       "9       5           8738.0  207.086148  3:27 min/km     194.904610   \n",
       "10     33           8800.0  208.555516  3:28 min/km     192.250267   \n",
       "11  15010           8808.0  208.745112  3:28 min/km     199.597109   \n",
       "12     13           8852.0  209.787890  3:29 min/km     208.223723   \n",
       "13   8422           8856.0  209.882688  3:29 min/km     208.223723   \n",
       "14     11           8856.0  209.882688  3:29 min/km     201.540467   \n",
       "15  10709           8873.0  210.285579  3:30 min/km     208.223723   \n",
       "16  15006           8890.0  210.688470  3:30 min/km     208.271122   \n",
       "17      1           8911.0  211.186160  3:31 min/km     208.318521   \n",
       "18     22           8912.0  211.209859  3:31 min/km     208.176324   \n",
       "19  15012           8952.0  212.157839  3:32 min/km     208.271122   \n",
       "\n",
       "   Half_Pace_Minpkm  Gender  Age                 Name             City  \\\n",
       "0       3:09 min/km    Male   31       Stepan Kiselev           Kazan'   \n",
       "1       3:09 min/km    Male   32     Aleksey Troshkin          Saransk   \n",
       "2       3:08 min/km    Male   27      Artem Aplachkin          Barnaul   \n",
       "3       3:15 min/km    Male   29         Sergey Popov         Voronezh   \n",
       "4       3:06 min/km    Male   36     Dmitriy Safronov           Moskva   \n",
       "5       3:14 min/km    Male   33      Mikhail Kul'kov  Khanty-Mansiysk   \n",
       "6       3:17 min/km    Male   31        Viktor Ugarov           Moskva   \n",
       "7       3:15 min/km    Male   30       Oleg Grigor'ev           Moskva   \n",
       "8       3:21 min/km    Male   26     Aleksey Shirshov          Chkalov   \n",
       "9       3:14 min/km    Male   42     Grigoriy Andreev              Ufa   \n",
       "10      3:12 min/km    Male   27    Iskander Yadgarov           Moskva   \n",
       "11      3:19 min/km    Male   32       Andrey Smirnov            Perm'   \n",
       "12      3:28 min/km    Male   25  Mikhail Zvyagintsev          Biryuch   \n",
       "13      3:28 min/km    Male   43        Andrey Klinov          Ryazan'   \n",
       "14      3:21 min/km    Male   28  Aleksandr Krotovich  Sankt-Peterburg   \n",
       "15      3:28 min/km    Male   38            Yipeng Li          Beijing   \n",
       "16      3:28 min/km    Male   34       Denis Korablev        Salekhard   \n",
       "17      3:28 min/km  Female   30    Sardana Trofimova          Yakutsk   \n",
       "18      3:28 min/km    Male   35       Renat Kashapov           Kazan'   \n",
       "19      3:28 min/km    Male   36      Dmitriy Shilkin          Saratov   \n",
       "\n",
       "   Country   10 km  Half marathon  Marathon  Overall_Ranking  \n",
       "0      RUS  1899.0         4006.0    8122.0                1  \n",
       "1      RUS  1905.0         4003.0    8161.0                2  \n",
       "2      RUS  1879.0         3972.0    8394.0                3  \n",
       "3      RUS  1960.0         4116.0    8416.0                4  \n",
       "4      RUS  1876.0         3943.0    8467.0                5  \n",
       "5      RUS  1959.0         4103.0    8513.0                6  \n",
       "6      RUS  1976.0         4165.0    8601.0                7  \n",
       "7      RUS  1958.0         4116.0    8670.0                8  \n",
       "8      RUS  1978.0         4251.0    8690.0                9  \n",
       "9      RUS  1958.0         4112.0    8738.0               10  \n",
       "10     RUS  1943.0         4056.0    8800.0               11  \n",
       "11     RUS  1972.0         4211.0    8808.0               12  \n",
       "12     RUS  2111.0         4393.0    8852.0               13  \n",
       "13     RUS  2110.0         4393.0    8856.0               14  \n",
       "14     RUS  1996.0         4252.0    8856.0               15  \n",
       "15     CHN  2111.0         4393.0    8873.0               16  \n",
       "16     RUS  2111.0         4394.0    8890.0               17  \n",
       "17     RUS  2112.0         4395.0    8911.0               18  \n",
       "18     RUS  2110.0         4392.0    8912.0               19  \n",
       "19     RUS  2111.0         4394.0    8952.0               20  "
      ]
     },
     "execution_count": 117,
     "metadata": {},
     "output_type": "execute_result"
    }
   ],
   "source": [
    "df_new_Moscow.head(20)"
   ]
  },
  {
   "cell_type": "code",
   "execution_count": 118,
   "metadata": {},
   "outputs": [
    {
     "data": {
      "text/html": [
       "<div>\n",
       "<style scoped>\n",
       "    .dataframe tbody tr th:only-of-type {\n",
       "        vertical-align: middle;\n",
       "    }\n",
       "\n",
       "    .dataframe tbody tr th {\n",
       "        vertical-align: top;\n",
       "    }\n",
       "\n",
       "    .dataframe thead th {\n",
       "        text-align: right;\n",
       "    }\n",
       "</style>\n",
       "<table border=\"1\" class=\"dataframe\">\n",
       "  <thead>\n",
       "    <tr style=\"text-align: right;\">\n",
       "      <th></th>\n",
       "      <th>BibNo</th>\n",
       "      <th>Name</th>\n",
       "      <th>Age</th>\n",
       "      <th>Gender</th>\n",
       "      <th>City</th>\n",
       "      <th>State</th>\n",
       "      <th>Country</th>\n",
       "      <th>5K</th>\n",
       "      <th>10K</th>\n",
       "      <th>15K</th>\n",
       "      <th>20K</th>\n",
       "      <th>Half</th>\n",
       "      <th>25K</th>\n",
       "      <th>30K</th>\n",
       "      <th>35K</th>\n",
       "      <th>40K</th>\n",
       "      <th>Pace_minpermile</th>\n",
       "      <th>Finish_Time</th>\n",
       "      <th>Overall_ranking</th>\n",
       "      <th>Gender_ranking</th>\n",
       "      <th>Division_ranking</th>\n",
       "    </tr>\n",
       "  </thead>\n",
       "  <tbody>\n",
       "    <tr>\n",
       "      <th>0</th>\n",
       "      <td>11</td>\n",
       "      <td>Kirui, Geoffrey</td>\n",
       "      <td>24</td>\n",
       "      <td>1.0</td>\n",
       "      <td>Keringet</td>\n",
       "      <td>NaN</td>\n",
       "      <td>KEN</td>\n",
       "      <td>0:15:25</td>\n",
       "      <td>0:30:28</td>\n",
       "      <td>0:45:44</td>\n",
       "      <td>1:01:15</td>\n",
       "      <td>1:04:35</td>\n",
       "      <td>1:16:59</td>\n",
       "      <td>1:33:01</td>\n",
       "      <td>1:48:19</td>\n",
       "      <td>2:02:53</td>\n",
       "      <td>0:04:57</td>\n",
       "      <td>2:09:37</td>\n",
       "      <td>1</td>\n",
       "      <td>1</td>\n",
       "      <td>1</td>\n",
       "    </tr>\n",
       "    <tr>\n",
       "      <th>1</th>\n",
       "      <td>17</td>\n",
       "      <td>Rupp, Galen</td>\n",
       "      <td>30</td>\n",
       "      <td>1.0</td>\n",
       "      <td>Portland</td>\n",
       "      <td>OR</td>\n",
       "      <td>USA</td>\n",
       "      <td>0:15:24</td>\n",
       "      <td>0:30:27</td>\n",
       "      <td>0:45:44</td>\n",
       "      <td>1:01:15</td>\n",
       "      <td>1:04:35</td>\n",
       "      <td>1:16:59</td>\n",
       "      <td>1:33:01</td>\n",
       "      <td>1:48:19</td>\n",
       "      <td>2:03:14</td>\n",
       "      <td>0:04:58</td>\n",
       "      <td>2:09:58</td>\n",
       "      <td>2</td>\n",
       "      <td>2</td>\n",
       "      <td>2</td>\n",
       "    </tr>\n",
       "    <tr>\n",
       "      <th>2</th>\n",
       "      <td>23</td>\n",
       "      <td>Osako, Suguru</td>\n",
       "      <td>25</td>\n",
       "      <td>1.0</td>\n",
       "      <td>Machida-City</td>\n",
       "      <td>NaN</td>\n",
       "      <td>JPN</td>\n",
       "      <td>0:15:25</td>\n",
       "      <td>0:30:29</td>\n",
       "      <td>0:45:44</td>\n",
       "      <td>1:01:16</td>\n",
       "      <td>1:04:36</td>\n",
       "      <td>1:17:00</td>\n",
       "      <td>1:33:01</td>\n",
       "      <td>1:48:31</td>\n",
       "      <td>2:03:38</td>\n",
       "      <td>0:04:59</td>\n",
       "      <td>2:10:28</td>\n",
       "      <td>3</td>\n",
       "      <td>3</td>\n",
       "      <td>3</td>\n",
       "    </tr>\n",
       "    <tr>\n",
       "      <th>3</th>\n",
       "      <td>21</td>\n",
       "      <td>Biwott, Shadrack</td>\n",
       "      <td>32</td>\n",
       "      <td>1.0</td>\n",
       "      <td>Mammoth Lakes</td>\n",
       "      <td>CA</td>\n",
       "      <td>USA</td>\n",
       "      <td>0:15:25</td>\n",
       "      <td>0:30:29</td>\n",
       "      <td>0:45:44</td>\n",
       "      <td>1:01:19</td>\n",
       "      <td>1:04:45</td>\n",
       "      <td>1:17:00</td>\n",
       "      <td>1:33:01</td>\n",
       "      <td>1:48:58</td>\n",
       "      <td>2:04:35</td>\n",
       "      <td>0:05:03</td>\n",
       "      <td>2:12:08</td>\n",
       "      <td>4</td>\n",
       "      <td>4</td>\n",
       "      <td>4</td>\n",
       "    </tr>\n",
       "    <tr>\n",
       "      <th>4</th>\n",
       "      <td>9</td>\n",
       "      <td>Chebet, Wilson</td>\n",
       "      <td>31</td>\n",
       "      <td>1.0</td>\n",
       "      <td>Marakwet</td>\n",
       "      <td>NaN</td>\n",
       "      <td>KEN</td>\n",
       "      <td>0:15:25</td>\n",
       "      <td>0:30:28</td>\n",
       "      <td>0:45:44</td>\n",
       "      <td>1:01:15</td>\n",
       "      <td>1:04:35</td>\n",
       "      <td>1:16:59</td>\n",
       "      <td>1:33:01</td>\n",
       "      <td>1:48:41</td>\n",
       "      <td>2:05:00</td>\n",
       "      <td>0:05:04</td>\n",
       "      <td>2:12:35</td>\n",
       "      <td>5</td>\n",
       "      <td>5</td>\n",
       "      <td>5</td>\n",
       "    </tr>\n",
       "  </tbody>\n",
       "</table>\n",
       "</div>"
      ],
      "text/plain": [
       "  BibNo              Name  Age  Gender           City State Country       5K  \\\n",
       "0    11   Kirui, Geoffrey   24     1.0       Keringet   NaN     KEN  0:15:25   \n",
       "1    17       Rupp, Galen   30     1.0       Portland    OR     USA  0:15:24   \n",
       "2    23     Osako, Suguru   25     1.0   Machida-City   NaN     JPN  0:15:25   \n",
       "3    21  Biwott, Shadrack   32     1.0  Mammoth Lakes    CA     USA  0:15:25   \n",
       "4     9    Chebet, Wilson   31     1.0       Marakwet   NaN     KEN  0:15:25   \n",
       "\n",
       "       10K      15K      20K     Half      25K      30K      35K      40K  \\\n",
       "0  0:30:28  0:45:44  1:01:15  1:04:35  1:16:59  1:33:01  1:48:19  2:02:53   \n",
       "1  0:30:27  0:45:44  1:01:15  1:04:35  1:16:59  1:33:01  1:48:19  2:03:14   \n",
       "2  0:30:29  0:45:44  1:01:16  1:04:36  1:17:00  1:33:01  1:48:31  2:03:38   \n",
       "3  0:30:29  0:45:44  1:01:19  1:04:45  1:17:00  1:33:01  1:48:58  2:04:35   \n",
       "4  0:30:28  0:45:44  1:01:15  1:04:35  1:16:59  1:33:01  1:48:41  2:05:00   \n",
       "\n",
       "  Pace_minpermile Finish_Time  Overall_ranking  Gender_ranking  \\\n",
       "0         0:04:57     2:09:37                1               1   \n",
       "1         0:04:58     2:09:58                2               2   \n",
       "2         0:04:59     2:10:28                3               3   \n",
       "3         0:05:03     2:12:08                4               4   \n",
       "4         0:05:04     2:12:35                5               5   \n",
       "\n",
       "   Division_ranking  \n",
       "0                 1  \n",
       "1                 2  \n",
       "2                 3  \n",
       "3                 4  \n",
       "4                 5  "
      ]
     },
     "execution_count": 118,
     "metadata": {},
     "output_type": "execute_result"
    }
   ],
   "source": [
    "df_Boston=df_boston_raw.copy()\n",
    "df_Boston.head()"
   ]
  },
  {
   "cell_type": "markdown",
   "metadata": {},
   "source": [
    "#### Converted the finish time from Hour, Min & Sec format to seconds only to make it Final 10K, Half, 40k and Finish Time in Boston dataframe "
   ]
  },
  {
   "cell_type": "code",
   "execution_count": 119,
   "metadata": {},
   "outputs": [],
   "source": [
    "df_Boston['FTime_10K_hour']= df_Boston['10K'].str.split(':').str[0]\n",
    "df_Boston['FTime_10K_min']= df_Boston['10K'].str.split(':').str[1]\n",
    "df_Boston['FTime_10K_sec']= df_Boston['10K'].str.split(':',n=2).str[-1]\n",
    "df_Boston.FTime_10K_sec.fillna(0,inplace=True)\n",
    "df_Boston.FTime_10K_min.fillna(0,inplace=True)\n",
    "df_Boston.FTime_10K_hour.fillna(0,inplace=True)\n",
    "df_Boston.FTime_10K_sec.replace('-',0,inplace=True)\n",
    "df_Boston.FTime_10K_hour.replace('-',0,inplace=True)\n",
    "final1=df_Boston['FTime_10K_hour'].astype(int) *3600\n",
    "final2=(df_Boston['FTime_10K_min'].astype(int)) * 60 \n",
    "final3=(df_Boston['FTime_10K_sec'].astype(int))\n",
    "df_Boston['Final_10k_sec'] = final1 + final2 + final3\n",
    "df_Boston.drop(columns =['FTime_10K_hour','FTime_10K_min','FTime_10K_sec'],inplace =True)\n"
   ]
  },
  {
   "cell_type": "code",
   "execution_count": 120,
   "metadata": {},
   "outputs": [],
   "source": [
    "df_Boston['FTime_Half_hour']= df_Boston['Half'].str.split(':').str[0]\n",
    "df_Boston['FTime_Half_min']= df_Boston['Half'].str.split(':').str[1]\n",
    "df_Boston['FTime_Half_sec']= df_Boston['Half'].str.split(':',n=2).str[-1]\n",
    "df_Boston.FTime_Half_sec.fillna(0,inplace=True)\n",
    "df_Boston.FTime_Half_min.fillna(0,inplace=True)\n",
    "df_Boston.FTime_Half_hour.fillna(0,inplace=True)\n",
    "df_Boston.FTime_Half_sec.replace('-',0,inplace=True)\n",
    "df_Boston.FTime_Half_hour.replace('-',0,inplace=True)\n",
    "final1=df_Boston['FTime_Half_hour'].astype(int) *3600\n",
    "final2=(df_Boston['FTime_Half_min'].astype(int)) * 60 \n",
    "final3=(df_Boston['FTime_Half_sec'].astype(int))\n",
    "df_Boston['Final_Half_sec'] = final1 + final2 + final3\n",
    "df_Boston.drop(columns =['FTime_Half_hour','FTime_Half_min','FTime_Half_sec'],inplace =True)\n"
   ]
  },
  {
   "cell_type": "code",
   "execution_count": 121,
   "metadata": {},
   "outputs": [],
   "source": [
    "df_Boston['FTime_40K_hour']= df_Boston['40K'].str.split(':').str[0]\n",
    "df_Boston['FTime_40K_min']= df_Boston['40K'].str.split(':').str[1]\n",
    "df_Boston['FTime_40K_sec']= df_Boston['40K'].str.split(':',n=2).str[-1] #To understand n=2 used\n",
    "df_Boston.FTime_40K_sec.fillna(0,inplace=True)\n",
    "df_Boston.FTime_40K_min.fillna(0,inplace=True)\n",
    "df_Boston.FTime_40K_hour.fillna(0,inplace=True)\n",
    "df_Boston.FTime_40K_sec.replace('-',0,inplace=True)\n",
    "df_Boston.FTime_40K_hour.replace('-',0,inplace=True)\n",
    "final1=df_Boston['FTime_40K_hour'].astype(int) *3600\n",
    "final2=(df_Boston['FTime_40K_min'].astype(int)) * 60 \n",
    "final3=(df_Boston['FTime_40K_sec'].astype(int))\n",
    "df_Boston['Final_40k_sec'] = final1 + final2 + final3\n",
    "df_Boston.drop(columns =['FTime_40K_hour','FTime_40K_min','FTime_40K_sec'],inplace =True)"
   ]
  },
  {
   "cell_type": "code",
   "execution_count": 122,
   "metadata": {},
   "outputs": [],
   "source": [
    "df_Boston['FTime_hour']= df_Boston['Finish_Time'].str.split(':').str[0]\n",
    "df_Boston['FTime_min']= df_Boston['Finish_Time'].str.split(':').str[1]\n",
    "df_Boston['FTime_sec']= df_Boston['Finish_Time'].str.split(':',n=2).str[-1] #To understand n=2 used\n",
    "df_Boston.FTime_sec.fillna(0,inplace=True)\n",
    "df_Boston.FTime_min.fillna(0,inplace=True)\n",
    "df_Boston.FTime_hour.fillna(0,inplace=True)\n",
    "df_Boston.FTime_sec.replace('-',0,inplace=True)\n",
    "df_Boston.FTime_hour.replace('-',0,inplace=True)\n",
    "final1=df_Boston['FTime_hour'].astype(int) *3600\n",
    "final2=(df_Boston['FTime_min'].astype(int)) * 60 \n",
    "final3=(df_Boston['FTime_sec'].astype(int))\n",
    "df_Boston['FinishTime_sec'] = final1 + final2 + final3\n",
    "df_Boston.drop(columns =['FTime_hour','FTime_min','FTime_sec'],inplace =True)\n"
   ]
  },
  {
   "cell_type": "code",
   "execution_count": 123,
   "metadata": {},
   "outputs": [],
   "source": [
    "df_Boston.drop(columns=['5K','15K','20K','25K','30K','35K'],inplace=True)"
   ]
  },
  {
   "cell_type": "code",
   "execution_count": 124,
   "metadata": {},
   "outputs": [
    {
     "data": {
      "text/html": [
       "<div>\n",
       "<style scoped>\n",
       "    .dataframe tbody tr th:only-of-type {\n",
       "        vertical-align: middle;\n",
       "    }\n",
       "\n",
       "    .dataframe tbody tr th {\n",
       "        vertical-align: top;\n",
       "    }\n",
       "\n",
       "    .dataframe thead th {\n",
       "        text-align: right;\n",
       "    }\n",
       "</style>\n",
       "<table border=\"1\" class=\"dataframe\">\n",
       "  <thead>\n",
       "    <tr style=\"text-align: right;\">\n",
       "      <th></th>\n",
       "      <th>BibNo</th>\n",
       "      <th>Name</th>\n",
       "      <th>Age</th>\n",
       "      <th>Gender</th>\n",
       "      <th>City</th>\n",
       "      <th>State</th>\n",
       "      <th>Country</th>\n",
       "      <th>10K</th>\n",
       "      <th>Half</th>\n",
       "      <th>40K</th>\n",
       "      <th>Pace_minpermile</th>\n",
       "      <th>Finish_Time</th>\n",
       "      <th>Overall_ranking</th>\n",
       "      <th>Gender_ranking</th>\n",
       "      <th>Division_ranking</th>\n",
       "      <th>Final_10k_sec</th>\n",
       "      <th>Final_Half_sec</th>\n",
       "      <th>Final_40k_sec</th>\n",
       "      <th>FinishTime_sec</th>\n",
       "    </tr>\n",
       "  </thead>\n",
       "  <tbody>\n",
       "    <tr>\n",
       "      <th>0</th>\n",
       "      <td>11</td>\n",
       "      <td>Kirui, Geoffrey</td>\n",
       "      <td>24</td>\n",
       "      <td>1.0</td>\n",
       "      <td>Keringet</td>\n",
       "      <td>NaN</td>\n",
       "      <td>KEN</td>\n",
       "      <td>0:30:28</td>\n",
       "      <td>1:04:35</td>\n",
       "      <td>2:02:53</td>\n",
       "      <td>0:04:57</td>\n",
       "      <td>2:09:37</td>\n",
       "      <td>1</td>\n",
       "      <td>1</td>\n",
       "      <td>1</td>\n",
       "      <td>1828</td>\n",
       "      <td>3875</td>\n",
       "      <td>7373</td>\n",
       "      <td>7777</td>\n",
       "    </tr>\n",
       "    <tr>\n",
       "      <th>1</th>\n",
       "      <td>17</td>\n",
       "      <td>Rupp, Galen</td>\n",
       "      <td>30</td>\n",
       "      <td>1.0</td>\n",
       "      <td>Portland</td>\n",
       "      <td>OR</td>\n",
       "      <td>USA</td>\n",
       "      <td>0:30:27</td>\n",
       "      <td>1:04:35</td>\n",
       "      <td>2:03:14</td>\n",
       "      <td>0:04:58</td>\n",
       "      <td>2:09:58</td>\n",
       "      <td>2</td>\n",
       "      <td>2</td>\n",
       "      <td>2</td>\n",
       "      <td>1827</td>\n",
       "      <td>3875</td>\n",
       "      <td>7394</td>\n",
       "      <td>7798</td>\n",
       "    </tr>\n",
       "    <tr>\n",
       "      <th>2</th>\n",
       "      <td>23</td>\n",
       "      <td>Osako, Suguru</td>\n",
       "      <td>25</td>\n",
       "      <td>1.0</td>\n",
       "      <td>Machida-City</td>\n",
       "      <td>NaN</td>\n",
       "      <td>JPN</td>\n",
       "      <td>0:30:29</td>\n",
       "      <td>1:04:36</td>\n",
       "      <td>2:03:38</td>\n",
       "      <td>0:04:59</td>\n",
       "      <td>2:10:28</td>\n",
       "      <td>3</td>\n",
       "      <td>3</td>\n",
       "      <td>3</td>\n",
       "      <td>1829</td>\n",
       "      <td>3876</td>\n",
       "      <td>7418</td>\n",
       "      <td>7828</td>\n",
       "    </tr>\n",
       "    <tr>\n",
       "      <th>3</th>\n",
       "      <td>21</td>\n",
       "      <td>Biwott, Shadrack</td>\n",
       "      <td>32</td>\n",
       "      <td>1.0</td>\n",
       "      <td>Mammoth Lakes</td>\n",
       "      <td>CA</td>\n",
       "      <td>USA</td>\n",
       "      <td>0:30:29</td>\n",
       "      <td>1:04:45</td>\n",
       "      <td>2:04:35</td>\n",
       "      <td>0:05:03</td>\n",
       "      <td>2:12:08</td>\n",
       "      <td>4</td>\n",
       "      <td>4</td>\n",
       "      <td>4</td>\n",
       "      <td>1829</td>\n",
       "      <td>3885</td>\n",
       "      <td>7475</td>\n",
       "      <td>7928</td>\n",
       "    </tr>\n",
       "    <tr>\n",
       "      <th>4</th>\n",
       "      <td>9</td>\n",
       "      <td>Chebet, Wilson</td>\n",
       "      <td>31</td>\n",
       "      <td>1.0</td>\n",
       "      <td>Marakwet</td>\n",
       "      <td>NaN</td>\n",
       "      <td>KEN</td>\n",
       "      <td>0:30:28</td>\n",
       "      <td>1:04:35</td>\n",
       "      <td>2:05:00</td>\n",
       "      <td>0:05:04</td>\n",
       "      <td>2:12:35</td>\n",
       "      <td>5</td>\n",
       "      <td>5</td>\n",
       "      <td>5</td>\n",
       "      <td>1828</td>\n",
       "      <td>3875</td>\n",
       "      <td>7500</td>\n",
       "      <td>7955</td>\n",
       "    </tr>\n",
       "  </tbody>\n",
       "</table>\n",
       "</div>"
      ],
      "text/plain": [
       "  BibNo              Name  Age  Gender           City State Country      10K  \\\n",
       "0    11   Kirui, Geoffrey   24     1.0       Keringet   NaN     KEN  0:30:28   \n",
       "1    17       Rupp, Galen   30     1.0       Portland    OR     USA  0:30:27   \n",
       "2    23     Osako, Suguru   25     1.0   Machida-City   NaN     JPN  0:30:29   \n",
       "3    21  Biwott, Shadrack   32     1.0  Mammoth Lakes    CA     USA  0:30:29   \n",
       "4     9    Chebet, Wilson   31     1.0       Marakwet   NaN     KEN  0:30:28   \n",
       "\n",
       "      Half      40K Pace_minpermile Finish_Time  Overall_ranking  \\\n",
       "0  1:04:35  2:02:53         0:04:57     2:09:37                1   \n",
       "1  1:04:35  2:03:14         0:04:58     2:09:58                2   \n",
       "2  1:04:36  2:03:38         0:04:59     2:10:28                3   \n",
       "3  1:04:45  2:04:35         0:05:03     2:12:08                4   \n",
       "4  1:04:35  2:05:00         0:05:04     2:12:35                5   \n",
       "\n",
       "   Gender_ranking  Division_ranking  Final_10k_sec  Final_Half_sec  \\\n",
       "0               1                 1           1828            3875   \n",
       "1               2                 2           1827            3875   \n",
       "2               3                 3           1829            3876   \n",
       "3               4                 4           1829            3885   \n",
       "4               5                 5           1828            3875   \n",
       "\n",
       "   Final_40k_sec  FinishTime_sec  \n",
       "0           7373            7777  \n",
       "1           7394            7798  \n",
       "2           7418            7828  \n",
       "3           7475            7928  \n",
       "4           7500            7955  "
      ]
     },
     "execution_count": 124,
     "metadata": {},
     "output_type": "execute_result"
    }
   ],
   "source": [
    "df_Boston.head()"
   ]
  },
  {
   "cell_type": "code",
   "execution_count": 125,
   "metadata": {},
   "outputs": [
    {
     "data": {
      "text/plain": [
       "BibNo                  0\n",
       "Name                   0\n",
       "Age                    0\n",
       "Gender                 0\n",
       "City                   0\n",
       "State               3595\n",
       "Country                0\n",
       "10K                    0\n",
       "Half                   0\n",
       "40K                    0\n",
       "Pace_minpermile        0\n",
       "Finish_Time            0\n",
       "Overall_ranking        0\n",
       "Gender_ranking         0\n",
       "Division_ranking       0\n",
       "Final_10k_sec          0\n",
       "Final_Half_sec         0\n",
       "Final_40k_sec          0\n",
       "FinishTime_sec         0\n",
       "dtype: int64"
      ]
     },
     "execution_count": 125,
     "metadata": {},
     "output_type": "execute_result"
    }
   ],
   "source": [
    "df_Boston.isna().sum()"
   ]
  },
  {
   "cell_type": "code",
   "execution_count": 126,
   "metadata": {},
   "outputs": [
    {
     "data": {
      "text/plain": [
       "(26410, 19)"
      ]
     },
     "execution_count": 126,
     "metadata": {},
     "output_type": "execute_result"
    }
   ],
   "source": [
    "df_Boston.shape"
   ]
  },
  {
   "cell_type": "code",
   "execution_count": 127,
   "metadata": {},
   "outputs": [
    {
     "data": {
      "text/plain": [
       "26410"
      ]
     },
     "execution_count": 127,
     "metadata": {},
     "output_type": "execute_result"
    }
   ],
   "source": [
    "len(df_Boston.State)"
   ]
  },
  {
   "cell_type": "markdown",
   "metadata": {},
   "source": [
    "#### Creating merged dataset for Boston and Moscow, keeping only relevant columns and sorting them by overall ranking."
   ]
  },
  {
   "cell_type": "code",
   "execution_count": 128,
   "metadata": {},
   "outputs": [],
   "source": [
    "df_Boston_merge=df_Boston.copy()"
   ]
  },
  {
   "cell_type": "code",
   "execution_count": 129,
   "metadata": {},
   "outputs": [],
   "source": [
    "df_Moscow_merge=df_new_Moscow.copy()"
   ]
  },
  {
   "cell_type": "markdown",
   "metadata": {},
   "source": [
    "#### Created isBoston column in Boston dataframe assigned value 1 which means after merging data row with value 1.0 are from Boston Marathon"
   ]
  },
  {
   "cell_type": "code",
   "execution_count": 130,
   "metadata": {},
   "outputs": [],
   "source": [
    "df_Boston_merge['isBoston'] = '1.0'"
   ]
  },
  {
   "cell_type": "code",
   "execution_count": 131,
   "metadata": {},
   "outputs": [],
   "source": [
    "df_Moscow_merge.drop(columns=['Finish_Time_Sec'],inplace=True)"
   ]
  },
  {
   "cell_type": "code",
   "execution_count": 132,
   "metadata": {},
   "outputs": [],
   "source": [
    "df_Moscow_merge.drop(columns=['BibNo'],axis=1,inplace=True)"
   ]
  },
  {
   "cell_type": "code",
   "execution_count": 133,
   "metadata": {},
   "outputs": [],
   "source": [
    "df_Boston_merge.drop(columns=['BibNo'],axis=1,inplace=True)"
   ]
  },
  {
   "cell_type": "code",
   "execution_count": 134,
   "metadata": {},
   "outputs": [],
   "source": [
    "df_Moscow_merge.rename(columns={'10 km':'Final_10k_sec', 'Half marathon':'Final_Half_sec', \\\n",
    "                                'Marathon':'FinishTime_sec','Overall_Ranking':'Overall_ranking'}, inplace=True)"
   ]
  },
  {
   "cell_type": "code",
   "execution_count": 135,
   "metadata": {},
   "outputs": [],
   "source": [
    "df_Moscow_merge.replace(to_replace='Male', value=1.0, inplace=True)"
   ]
  },
  {
   "cell_type": "code",
   "execution_count": 136,
   "metadata": {},
   "outputs": [],
   "source": [
    "df_Moscow_merge.replace(to_replace='Female', value=0.0, inplace=True)"
   ]
  },
  {
   "cell_type": "markdown",
   "metadata": {},
   "source": [
    "#### Created isBoston column in Moscow dataframe assigned value 0 which means after merging data row with value 0.0 are from Moscow Marathon"
   ]
  },
  {
   "cell_type": "code",
   "execution_count": 137,
   "metadata": {},
   "outputs": [],
   "source": [
    "df_Moscow_merge['isBoston'] = '0.0'"
   ]
  },
  {
   "cell_type": "markdown",
   "metadata": {},
   "source": [
    "#### Drop the unused columns from Boston and Moscow "
   ]
  },
  {
   "cell_type": "code",
   "execution_count": 138,
   "metadata": {},
   "outputs": [],
   "source": [
    "df_Moscow_merge.drop(columns=['Pace_Sec', 'Pace_Minpkm', 'Half_Pace_Sec', 'Half_Pace_Minpkm'], axis=1, inplace=True)"
   ]
  },
  {
   "cell_type": "code",
   "execution_count": 139,
   "metadata": {},
   "outputs": [
    {
     "data": {
      "text/html": [
       "<div>\n",
       "<style scoped>\n",
       "    .dataframe tbody tr th:only-of-type {\n",
       "        vertical-align: middle;\n",
       "    }\n",
       "\n",
       "    .dataframe tbody tr th {\n",
       "        vertical-align: top;\n",
       "    }\n",
       "\n",
       "    .dataframe thead th {\n",
       "        text-align: right;\n",
       "    }\n",
       "</style>\n",
       "<table border=\"1\" class=\"dataframe\">\n",
       "  <thead>\n",
       "    <tr style=\"text-align: right;\">\n",
       "      <th></th>\n",
       "      <th>Gender</th>\n",
       "      <th>Age</th>\n",
       "      <th>Name</th>\n",
       "      <th>City</th>\n",
       "      <th>Country</th>\n",
       "      <th>Final_10k_sec</th>\n",
       "      <th>Final_Half_sec</th>\n",
       "      <th>FinishTime_sec</th>\n",
       "      <th>Overall_ranking</th>\n",
       "      <th>isBoston</th>\n",
       "    </tr>\n",
       "  </thead>\n",
       "  <tbody>\n",
       "    <tr>\n",
       "      <th>0</th>\n",
       "      <td>1.0</td>\n",
       "      <td>31</td>\n",
       "      <td>Stepan Kiselev</td>\n",
       "      <td>Kazan'</td>\n",
       "      <td>RUS</td>\n",
       "      <td>1899.0</td>\n",
       "      <td>4006.0</td>\n",
       "      <td>8122.0</td>\n",
       "      <td>1</td>\n",
       "      <td>0.0</td>\n",
       "    </tr>\n",
       "  </tbody>\n",
       "</table>\n",
       "</div>"
      ],
      "text/plain": [
       "   Gender  Age            Name    City Country  Final_10k_sec  Final_Half_sec  \\\n",
       "0     1.0   31  Stepan Kiselev  Kazan'     RUS         1899.0          4006.0   \n",
       "\n",
       "   FinishTime_sec  Overall_ranking isBoston  \n",
       "0          8122.0                1      0.0  "
      ]
     },
     "execution_count": 139,
     "metadata": {},
     "output_type": "execute_result"
    }
   ],
   "source": [
    "df_Moscow_merge.head(1)"
   ]
  },
  {
   "cell_type": "code",
   "execution_count": 140,
   "metadata": {},
   "outputs": [],
   "source": [
    "df_Boston_merge.drop(columns=['Final_40k_sec', 'State', '10K', 'Half', '40K','Pace_minpermile','Finish_Time','Gender_ranking','Division_ranking'], axis=1, inplace=True)"
   ]
  },
  {
   "cell_type": "code",
   "execution_count": 141,
   "metadata": {},
   "outputs": [
    {
     "data": {
      "text/html": [
       "<div>\n",
       "<style scoped>\n",
       "    .dataframe tbody tr th:only-of-type {\n",
       "        vertical-align: middle;\n",
       "    }\n",
       "\n",
       "    .dataframe tbody tr th {\n",
       "        vertical-align: top;\n",
       "    }\n",
       "\n",
       "    .dataframe thead th {\n",
       "        text-align: right;\n",
       "    }\n",
       "</style>\n",
       "<table border=\"1\" class=\"dataframe\">\n",
       "  <thead>\n",
       "    <tr style=\"text-align: right;\">\n",
       "      <th></th>\n",
       "      <th>Name</th>\n",
       "      <th>Age</th>\n",
       "      <th>Gender</th>\n",
       "      <th>City</th>\n",
       "      <th>Country</th>\n",
       "      <th>Overall_ranking</th>\n",
       "      <th>Final_10k_sec</th>\n",
       "      <th>Final_Half_sec</th>\n",
       "      <th>FinishTime_sec</th>\n",
       "      <th>isBoston</th>\n",
       "    </tr>\n",
       "  </thead>\n",
       "  <tbody>\n",
       "    <tr>\n",
       "      <th>0</th>\n",
       "      <td>Kirui, Geoffrey</td>\n",
       "      <td>24</td>\n",
       "      <td>1.0</td>\n",
       "      <td>Keringet</td>\n",
       "      <td>KEN</td>\n",
       "      <td>1</td>\n",
       "      <td>1828</td>\n",
       "      <td>3875</td>\n",
       "      <td>7777</td>\n",
       "      <td>1.0</td>\n",
       "    </tr>\n",
       "  </tbody>\n",
       "</table>\n",
       "</div>"
      ],
      "text/plain": [
       "              Name  Age  Gender      City Country  Overall_ranking  \\\n",
       "0  Kirui, Geoffrey   24     1.0  Keringet     KEN                1   \n",
       "\n",
       "   Final_10k_sec  Final_Half_sec  FinishTime_sec isBoston  \n",
       "0           1828            3875            7777      1.0  "
      ]
     },
     "execution_count": 141,
     "metadata": {},
     "output_type": "execute_result"
    }
   ],
   "source": [
    "df_Boston_merge.head(1)"
   ]
  },
  {
   "cell_type": "markdown",
   "metadata": {},
   "source": [
    "#### Merge Boston and Moscow dataframe to get the insite about each athlete and sort them based on overall ranking "
   ]
  },
  {
   "cell_type": "code",
   "execution_count": 142,
   "metadata": {},
   "outputs": [],
   "source": [
    "df_merged_bm = df_Boston_merge.merge(df_Moscow_merge,how='outer', left_on=['Name', 'City', 'Overall_ranking', 'FinishTime_sec', 'Final_Half_sec', 'Final_10k_sec', 'Country', 'Gender', 'Age', 'isBoston'],\\\n",
    "                                     right_on=['Name', 'City', 'Overall_ranking', 'FinishTime_sec', 'Final_Half_sec', 'Final_10k_sec', 'Country', 'Gender', 'Age', 'isBoston'])"
   ]
  },
  {
   "cell_type": "code",
   "execution_count": 143,
   "metadata": {},
   "outputs": [
    {
     "data": {
      "text/html": [
       "<div>\n",
       "<style scoped>\n",
       "    .dataframe tbody tr th:only-of-type {\n",
       "        vertical-align: middle;\n",
       "    }\n",
       "\n",
       "    .dataframe tbody tr th {\n",
       "        vertical-align: top;\n",
       "    }\n",
       "\n",
       "    .dataframe thead th {\n",
       "        text-align: right;\n",
       "    }\n",
       "</style>\n",
       "<table border=\"1\" class=\"dataframe\">\n",
       "  <thead>\n",
       "    <tr style=\"text-align: right;\">\n",
       "      <th></th>\n",
       "      <th>Name</th>\n",
       "      <th>Age</th>\n",
       "      <th>Gender</th>\n",
       "      <th>City</th>\n",
       "      <th>Country</th>\n",
       "      <th>Overall_ranking</th>\n",
       "      <th>Final_10k_sec</th>\n",
       "      <th>Final_Half_sec</th>\n",
       "      <th>FinishTime_sec</th>\n",
       "      <th>isBoston</th>\n",
       "    </tr>\n",
       "  </thead>\n",
       "  <tbody>\n",
       "    <tr>\n",
       "      <th>0</th>\n",
       "      <td>Kirui, Geoffrey</td>\n",
       "      <td>24</td>\n",
       "      <td>1.0</td>\n",
       "      <td>Keringet</td>\n",
       "      <td>KEN</td>\n",
       "      <td>1</td>\n",
       "      <td>1828.0</td>\n",
       "      <td>3875</td>\n",
       "      <td>7777</td>\n",
       "      <td>1.0</td>\n",
       "    </tr>\n",
       "  </tbody>\n",
       "</table>\n",
       "</div>"
      ],
      "text/plain": [
       "              Name  Age  Gender      City Country  Overall_ranking  \\\n",
       "0  Kirui, Geoffrey   24     1.0  Keringet     KEN                1   \n",
       "\n",
       "   Final_10k_sec  Final_Half_sec  FinishTime_sec isBoston  \n",
       "0         1828.0            3875            7777      1.0  "
      ]
     },
     "execution_count": 143,
     "metadata": {},
     "output_type": "execute_result"
    }
   ],
   "source": [
    "df_merged_bm = df_merged_bm.sort_values(by='Overall_ranking')\n",
    "df_merged_bm.head(1)"
   ]
  },
  {
   "cell_type": "markdown",
   "metadata": {},
   "source": [
    "# <u>  Interesting Finding 1 Summary </u>"
   ]
  },
  {
   "cell_type": "markdown",
   "metadata": {},
   "source": [
    "<ul> \n",
    "<li> Success rate of a country - ratio of number of participants of a country in top 100 / total number of participants of that country. </li>\n",
    "<li> Summary - Amongst 91 participating countries, Kenya has a success ratio of 100% in top 100 runners in Boston Marathon.</li>\n",
    "<li> Summary - Amongst 53 participating countries, Thailand has a success ratio of 70% in top 1000 runners in Moscow Marathon.</li>\n",
    "</ul>"
   ]
  },
  {
   "cell_type": "markdown",
   "metadata": {},
   "source": [
    "Get the total number of countries participating in the run."
   ]
  },
  {
   "cell_type": "code",
   "execution_count": 144,
   "metadata": {
    "scrolled": true
   },
   "outputs": [
    {
     "data": {
      "text/plain": [
       "91"
      ]
     },
     "execution_count": 144,
     "metadata": {},
     "output_type": "execute_result"
    }
   ],
   "source": [
    "df_country = df_Boston.groupby('Country').size()\n",
    "len(df_country)"
   ]
  },
  {
   "cell_type": "markdown",
   "metadata": {},
   "source": [
    "Find the countries of the runners who have finished in top 100."
   ]
  },
  {
   "cell_type": "code",
   "execution_count": 146,
   "metadata": {},
   "outputs": [
    {
     "data": {
      "text/plain": [
       "14"
      ]
     },
     "execution_count": 146,
     "metadata": {},
     "output_type": "execute_result"
    }
   ],
   "source": [
    "df_top100_country=df_Boston[:100].groupby('Country').size()\n",
    "len(df_top100_country)"
   ]
  },
  {
   "cell_type": "markdown",
   "metadata": {},
   "source": [
    "Calculate the success ratio which is the number of runners in top 100 divide by the total number of runners from that country."
   ]
  },
  {
   "cell_type": "code",
   "execution_count": 147,
   "metadata": {},
   "outputs": [
    {
     "data": {
      "text/plain": [
       "Country\n",
       "BDI    100.000000\n",
       "BRN    100.000000\n",
       "KEN    100.000000\n",
       "ZIM    100.000000\n",
       "ETH     80.000000\n",
       "JPN      1.764706\n",
       "NED      1.282051\n",
       "IRL      1.149425\n",
       "MEX      0.701754\n",
       "ITA      0.606061\n",
       "BRA      0.487805\n",
       "USA      0.338983\n",
       "GBR      0.235294\n",
       "CAN      0.213904\n",
       "dtype: float64"
      ]
     },
     "execution_count": 147,
     "metadata": {},
     "output_type": "execute_result"
    }
   ],
   "source": [
    "df_Boston_countries_success_rate = ((df_top100_country/df_country)* 100).nlargest(14)  # 14 different countries in the top 100 as shown above.\n",
    "df_Boston_countries_success_rate"
   ]
  },
  {
   "cell_type": "code",
   "execution_count": 148,
   "metadata": {},
   "outputs": [
    {
     "data": {
      "text/plain": [
       "1"
      ]
     },
     "execution_count": 148,
     "metadata": {},
     "output_type": "execute_result"
    }
   ],
   "source": [
    "df_country['BDI'] "
   ]
  },
  {
   "cell_type": "code",
   "execution_count": 149,
   "metadata": {},
   "outputs": [
    {
     "data": {
      "text/plain": [
       "1"
      ]
     },
     "execution_count": 149,
     "metadata": {},
     "output_type": "execute_result"
    }
   ],
   "source": [
    "df_country['BRN'] "
   ]
  },
  {
   "cell_type": "code",
   "execution_count": 150,
   "metadata": {},
   "outputs": [
    {
     "data": {
      "text/plain": [
       "8"
      ]
     },
     "execution_count": 150,
     "metadata": {},
     "output_type": "execute_result"
    }
   ],
   "source": [
    "df_country['KEN']  "
   ]
  },
  {
   "cell_type": "code",
   "execution_count": 151,
   "metadata": {},
   "outputs": [
    {
     "data": {
      "text/plain": [
       "1"
      ]
     },
     "execution_count": 151,
     "metadata": {},
     "output_type": "execute_result"
    }
   ],
   "source": [
    "df_country['ZIM']  "
   ]
  },
  {
   "cell_type": "code",
   "execution_count": 152,
   "metadata": {},
   "outputs": [
    {
     "data": {
      "text/plain": [
       "5"
      ]
     },
     "execution_count": 152,
     "metadata": {},
     "output_type": "execute_result"
    }
   ],
   "source": [
    "df_country['ETH']"
   ]
  },
  {
   "cell_type": "markdown",
   "metadata": {},
   "source": [
    " Plot of top 100 finishers countries."
   ]
  },
  {
   "cell_type": "code",
   "execution_count": 153,
   "metadata": {},
   "outputs": [
    {
     "data": {
      "text/plain": [
       "<matplotlib.axes._subplots.AxesSubplot at 0xfef4b00>"
      ]
     },
     "execution_count": 153,
     "metadata": {},
     "output_type": "execute_result"
    },
    {
     "data": {
      "image/png": "[encoded data removed]",
      "text/plain": [
       "<Figure size 432x288 with 1 Axes>"
      ]
     },
     "metadata": {
      "needs_background": "light"
     },
     "output_type": "display_data"
    }
   ],
   "source": [
    "sns.countplot(y='Country',data =df_Boston[:100])   "
   ]
  },
  {
   "cell_type": "code",
   "execution_count": 154,
   "metadata": {},
   "outputs": [],
   "source": [
    "Boston_success_df = df_Boston_countries_success_rate.to_frame().reset_index()\n",
    "Boston_success_df.rename(columns={0:'success_rate'}, inplace=True)"
   ]
  },
  {
   "cell_type": "code",
   "execution_count": 155,
   "metadata": {},
   "outputs": [
    {
     "data": {
      "text/plain": [
       "<seaborn.axisgrid.FacetGrid at 0x10158080>"
      ]
     },
     "execution_count": 155,
     "metadata": {},
     "output_type": "execute_result"
    },
    {
     "data": {
      "image/png": "[encoded data removed]",
      "text/plain": [
       "<Figure size 1080x360 with 1 Axes>"
      ]
     },
     "metadata": {
      "needs_background": "light"
     },
     "output_type": "display_data"
    }
   ],
   "source": [
    "sns.catplot(x='success_rate',y='Country', data=Boston_success_df,aspect=3,kind='bar')"
   ]
  },
  {
   "cell_type": "markdown",
   "metadata": {},
   "source": [
    "#### Eliminate the 3 countries - BDI, BRN and ZIM since they have only 1 participant. Plot for ETH and KEN. Show the success ratio plot as well. Show values of each bar in the graph."
   ]
  },
  {
   "cell_type": "markdown",
   "metadata": {},
   "source": [
    "Doing the same analysis for Moscow and get the total number of countries participating in the run"
   ]
  },
  {
   "cell_type": "code",
   "execution_count": 252,
   "metadata": {},
   "outputs": [],
   "source": [
    "df_country_moscow=df_Moscow.groupby('Country').size()"
   ]
  },
  {
   "cell_type": "code",
   "execution_count": 159,
   "metadata": {},
   "outputs": [
    {
     "data": {
      "text/plain": [
       "Country\n",
       "CHN      1\n",
       "HKG     10\n",
       "RUS    903\n",
       "THA     86\n",
       "dtype: int64"
      ]
     },
     "execution_count": 159,
     "metadata": {},
     "output_type": "execute_result"
    }
   ],
   "source": [
    "df_top1000_country_moscow=df_Moscow[:1000].groupby('Country').size()\n",
    "df_top1000_country_moscow"
   ]
  },
  {
   "cell_type": "code",
   "execution_count": 160,
   "metadata": {},
   "outputs": [
    {
     "data": {
      "text/plain": [
       "Country\n",
       "THA    69.354839\n",
       "HKG    34.482759\n",
       "RUS    11.134402\n",
       "CHN     1.960784\n",
       "dtype: float64"
      ]
     },
     "execution_count": 160,
     "metadata": {},
     "output_type": "execute_result"
    }
   ],
   "source": [
    "success_rate_by_country_moscow =((df_top1000_country_moscow/df_country_moscow)* 100).nlargest(4)\n",
    "success_rate_by_country_moscow"
   ]
  },
  {
   "cell_type": "markdown",
   "metadata": {},
   "source": [
    "Plot of top 1000 finishers by countries"
   ]
  },
  {
   "cell_type": "code",
   "execution_count": 161,
   "metadata": {},
   "outputs": [
    {
     "data": {
      "text/plain": [
       "<matplotlib.axes._subplots.AxesSubplot at 0xf2aa160>"
      ]
     },
     "execution_count": 161,
     "metadata": {},
     "output_type": "execute_result"
    },
    {
     "data": {
      "image/png": "[encoded data removed]",
      "text/plain": [
       "<Figure size 432x288 with 1 Axes>"
      ]
     },
     "metadata": {
      "needs_background": "light"
     },
     "output_type": "display_data"
    }
   ],
   "source": [
    "sns.countplot(y='Country',data =df_Moscow[:1000])   "
   ]
  },
  {
   "cell_type": "code",
   "execution_count": 253,
   "metadata": {},
   "outputs": [],
   "source": [
    "Moscow_success_df = success_rate_by_country_moscow.to_frame().reset_index()\n",
    "Moscow_success_df.rename(columns={0:'success_rate'}, inplace=True)"
   ]
  },
  {
   "cell_type": "code",
   "execution_count": 163,
   "metadata": {},
   "outputs": [
    {
     "data": {
      "text/plain": [
       "<seaborn.axisgrid.FacetGrid at 0x10196320>"
      ]
     },
     "execution_count": 163,
     "metadata": {},
     "output_type": "execute_result"
    },
    {
     "data": {
      "image/png": "[encoded data removed]",
      "text/plain": [
       "<Figure size 1080x360 with 1 Axes>"
      ]
     },
     "metadata": {
      "needs_background": "light"
     },
     "output_type": "display_data"
    }
   ],
   "source": [
    "sns.catplot(x='success_rate',y='Country', data=Moscow_success_df,aspect=3,kind='bar')"
   ]
  },
  {
   "cell_type": "markdown",
   "metadata": {},
   "source": [
    "Doing the same analysis for merged data. This will show success rate for the combined two runs."
   ]
  },
  {
   "cell_type": "code",
   "execution_count": 1,
   "metadata": {},
   "outputs": [
    {
     "ename": "NameError",
     "evalue": "name 'df_merged_bm' is not defined",
     "output_type": "error",
     "traceback": [
      "\u001b[1;31m---------------------------------------------------------------------------\u001b[0m",
      "\u001b[1;31mNameError\u001b[0m                                 Traceback (most recent call last)",
      "\u001b[1;32m<ipython-input-1-b3695a4b09ad>\u001b[0m in \u001b[0;36m<module>\u001b[1;34m\u001b[0m\n\u001b[1;32m----> 1\u001b[1;33m \u001b[0mdf_merged_bm_country\u001b[0m\u001b[1;33m=\u001b[0m\u001b[0mdf_merged_bm\u001b[0m\u001b[1;33m.\u001b[0m\u001b[0mgroupby\u001b[0m\u001b[1;33m(\u001b[0m\u001b[1;34m'Country'\u001b[0m\u001b[1;33m)\u001b[0m\u001b[1;33m.\u001b[0m\u001b[0msize\u001b[0m\u001b[1;33m(\u001b[0m\u001b[1;33m)\u001b[0m\u001b[1;33m\u001b[0m\u001b[1;33m\u001b[0m\u001b[0m\n\u001b[0m",
      "\u001b[1;31mNameError\u001b[0m: name 'df_merged_bm' is not defined"
     ]
    }
   ],
   "source": [
    "df_merged_bm_country=df_merged_bm.groupby('Country').size()"
   ]
  },
  {
   "cell_type": "code",
   "execution_count": 167,
   "metadata": {},
   "outputs": [],
   "source": [
    "df_merged_bm_country_500=df_merged_bm[:5000].groupby('Country').size()"
   ]
  },
  {
   "cell_type": "code",
   "execution_count": 168,
   "metadata": {},
   "outputs": [
    {
     "data": {
      "text/plain": [
       "Country\n",
       "BDI    100.000000\n",
       "BRN    100.000000\n",
       "ETH    100.000000\n",
       "IRN    100.000000\n",
       "KEN    100.000000\n",
       "MKD    100.000000\n",
       "ZIM    100.000000\n",
       "CHE     60.000000\n",
       "LVA     60.000000\n",
       "EGY     50.000000\n",
       "PAN     50.000000\n",
       "UZB     50.000000\n",
       "DNK     42.857143\n",
       "UKR     37.500000\n",
       "BLR     35.555556\n",
       "BER     33.333333\n",
       "CAY     33.333333\n",
       "CRC     33.333333\n",
       "DOM     33.333333\n",
       "GUA     33.333333\n",
       "dtype: float64"
      ]
     },
     "execution_count": 168,
     "metadata": {},
     "output_type": "execute_result"
    }
   ],
   "source": [
    "df_merged_bm_success_rate =((df_merged_bm_country_500/df_merged_bm_country)* 100).nlargest(20) #expected finding Kenya has highest success rate\n",
    "df_merged_bm_success_rate"
   ]
  },
  {
   "cell_type": "code",
   "execution_count": 169,
   "metadata": {},
   "outputs": [],
   "source": [
    "df_merged_bm_success_rate_df = df_merged_bm_success_rate.to_frame().reset_index()\n",
    "df_merged_bm_success_rate_df.rename(columns={0:'success_rate'}, inplace=True)\n",
    "#df_merged_bm_success_rate_df.head()"
   ]
  },
  {
   "cell_type": "code",
   "execution_count": 170,
   "metadata": {},
   "outputs": [
    {
     "data": {
      "text/plain": [
       "<seaborn.axisgrid.FacetGrid at 0x10184a20>"
      ]
     },
     "execution_count": 170,
     "metadata": {},
     "output_type": "execute_result"
    },
    {
     "data": {
      "image/png": "[encoded data removed]",
      "text/plain": [
       "<Figure size 720x360 with 1 Axes>"
      ]
     },
     "metadata": {
      "needs_background": "light"
     },
     "output_type": "display_data"
    }
   ],
   "source": [
    "sns.catplot(x='success_rate',y='Country', data=df_merged_bm_success_rate_df,aspect=2,kind='bar')"
   ]
  },
  {
   "cell_type": "code",
   "execution_count": 171,
   "metadata": {},
   "outputs": [
    {
     "data": {
      "text/html": [
       "<div>\n",
       "<style scoped>\n",
       "    .dataframe tbody tr th:only-of-type {\n",
       "        vertical-align: middle;\n",
       "    }\n",
       "\n",
       "    .dataframe tbody tr th {\n",
       "        vertical-align: top;\n",
       "    }\n",
       "\n",
       "    .dataframe thead th {\n",
       "        text-align: right;\n",
       "    }\n",
       "</style>\n",
       "<table border=\"1\" class=\"dataframe\">\n",
       "  <thead>\n",
       "    <tr style=\"text-align: right;\">\n",
       "      <th></th>\n",
       "      <th>Name</th>\n",
       "      <th>Age</th>\n",
       "      <th>Gender</th>\n",
       "      <th>City</th>\n",
       "      <th>Overall_ranking</th>\n",
       "      <th>Final_10k_sec</th>\n",
       "      <th>Final_Half_sec</th>\n",
       "      <th>FinishTime_sec</th>\n",
       "      <th>isBoston</th>\n",
       "    </tr>\n",
       "    <tr>\n",
       "      <th>Country</th>\n",
       "      <th></th>\n",
       "      <th></th>\n",
       "      <th></th>\n",
       "      <th></th>\n",
       "      <th></th>\n",
       "      <th></th>\n",
       "      <th></th>\n",
       "      <th></th>\n",
       "      <th></th>\n",
       "    </tr>\n",
       "  </thead>\n",
       "  <tbody>\n",
       "    <tr>\n",
       "      <th>-</th>\n",
       "      <td>NaN</td>\n",
       "      <td>NaN</td>\n",
       "      <td>NaN</td>\n",
       "      <td>NaN</td>\n",
       "      <td>NaN</td>\n",
       "      <td>NaN</td>\n",
       "      <td>NaN</td>\n",
       "      <td>NaN</td>\n",
       "      <td>NaN</td>\n",
       "    </tr>\n",
       "    <tr>\n",
       "      <th>ALG</th>\n",
       "      <td>NaN</td>\n",
       "      <td>NaN</td>\n",
       "      <td>NaN</td>\n",
       "      <td>NaN</td>\n",
       "      <td>NaN</td>\n",
       "      <td>NaN</td>\n",
       "      <td>NaN</td>\n",
       "      <td>NaN</td>\n",
       "      <td>NaN</td>\n",
       "    </tr>\n",
       "    <tr>\n",
       "      <th>AND</th>\n",
       "      <td>NaN</td>\n",
       "      <td>NaN</td>\n",
       "      <td>NaN</td>\n",
       "      <td>NaN</td>\n",
       "      <td>NaN</td>\n",
       "      <td>NaN</td>\n",
       "      <td>NaN</td>\n",
       "      <td>NaN</td>\n",
       "      <td>NaN</td>\n",
       "    </tr>\n",
       "    <tr>\n",
       "      <th>ARE</th>\n",
       "      <td>NaN</td>\n",
       "      <td>NaN</td>\n",
       "      <td>NaN</td>\n",
       "      <td>NaN</td>\n",
       "      <td>NaN</td>\n",
       "      <td>NaN</td>\n",
       "      <td>NaN</td>\n",
       "      <td>NaN</td>\n",
       "      <td>NaN</td>\n",
       "    </tr>\n",
       "    <tr>\n",
       "      <th>ARG</th>\n",
       "      <td>NaN</td>\n",
       "      <td>NaN</td>\n",
       "      <td>NaN</td>\n",
       "      <td>NaN</td>\n",
       "      <td>NaN</td>\n",
       "      <td>NaN</td>\n",
       "      <td>NaN</td>\n",
       "      <td>NaN</td>\n",
       "      <td>NaN</td>\n",
       "    </tr>\n",
       "    <tr>\n",
       "      <th>AUS</th>\n",
       "      <td>195.0</td>\n",
       "      <td>195.0</td>\n",
       "      <td>195.0</td>\n",
       "      <td>195.0</td>\n",
       "      <td>195.0</td>\n",
       "      <td>195.0</td>\n",
       "      <td>195.0</td>\n",
       "      <td>195.0</td>\n",
       "      <td>195.0</td>\n",
       "    </tr>\n",
       "    <tr>\n",
       "      <th>AUT</th>\n",
       "      <td>NaN</td>\n",
       "      <td>NaN</td>\n",
       "      <td>NaN</td>\n",
       "      <td>NaN</td>\n",
       "      <td>NaN</td>\n",
       "      <td>NaN</td>\n",
       "      <td>NaN</td>\n",
       "      <td>NaN</td>\n",
       "      <td>NaN</td>\n",
       "    </tr>\n",
       "    <tr>\n",
       "      <th>AZE</th>\n",
       "      <td>NaN</td>\n",
       "      <td>NaN</td>\n",
       "      <td>NaN</td>\n",
       "      <td>NaN</td>\n",
       "      <td>NaN</td>\n",
       "      <td>NaN</td>\n",
       "      <td>NaN</td>\n",
       "      <td>NaN</td>\n",
       "      <td>NaN</td>\n",
       "    </tr>\n",
       "    <tr>\n",
       "      <th>BAR</th>\n",
       "      <td>NaN</td>\n",
       "      <td>NaN</td>\n",
       "      <td>NaN</td>\n",
       "      <td>NaN</td>\n",
       "      <td>NaN</td>\n",
       "      <td>NaN</td>\n",
       "      <td>NaN</td>\n",
       "      <td>NaN</td>\n",
       "      <td>NaN</td>\n",
       "    </tr>\n",
       "    <tr>\n",
       "      <th>BDI</th>\n",
       "      <td>NaN</td>\n",
       "      <td>NaN</td>\n",
       "      <td>NaN</td>\n",
       "      <td>NaN</td>\n",
       "      <td>NaN</td>\n",
       "      <td>NaN</td>\n",
       "      <td>NaN</td>\n",
       "      <td>NaN</td>\n",
       "      <td>NaN</td>\n",
       "    </tr>\n",
       "    <tr>\n",
       "      <th>BEL</th>\n",
       "      <td>NaN</td>\n",
       "      <td>NaN</td>\n",
       "      <td>NaN</td>\n",
       "      <td>NaN</td>\n",
       "      <td>NaN</td>\n",
       "      <td>NaN</td>\n",
       "      <td>NaN</td>\n",
       "      <td>NaN</td>\n",
       "      <td>NaN</td>\n",
       "    </tr>\n",
       "    <tr>\n",
       "      <th>BER</th>\n",
       "      <td>NaN</td>\n",
       "      <td>NaN</td>\n",
       "      <td>NaN</td>\n",
       "      <td>NaN</td>\n",
       "      <td>NaN</td>\n",
       "      <td>NaN</td>\n",
       "      <td>NaN</td>\n",
       "      <td>NaN</td>\n",
       "      <td>NaN</td>\n",
       "    </tr>\n",
       "    <tr>\n",
       "      <th>BIH</th>\n",
       "      <td>NaN</td>\n",
       "      <td>NaN</td>\n",
       "      <td>NaN</td>\n",
       "      <td>NaN</td>\n",
       "      <td>NaN</td>\n",
       "      <td>NaN</td>\n",
       "      <td>NaN</td>\n",
       "      <td>NaN</td>\n",
       "      <td>NaN</td>\n",
       "    </tr>\n",
       "    <tr>\n",
       "      <th>BLR</th>\n",
       "      <td>NaN</td>\n",
       "      <td>NaN</td>\n",
       "      <td>NaN</td>\n",
       "      <td>NaN</td>\n",
       "      <td>NaN</td>\n",
       "      <td>NaN</td>\n",
       "      <td>NaN</td>\n",
       "      <td>NaN</td>\n",
       "      <td>NaN</td>\n",
       "    </tr>\n",
       "    <tr>\n",
       "      <th>BRA</th>\n",
       "      <td>206.0</td>\n",
       "      <td>206.0</td>\n",
       "      <td>206.0</td>\n",
       "      <td>206.0</td>\n",
       "      <td>206.0</td>\n",
       "      <td>206.0</td>\n",
       "      <td>206.0</td>\n",
       "      <td>206.0</td>\n",
       "      <td>206.0</td>\n",
       "    </tr>\n",
       "    <tr>\n",
       "      <th>BRN</th>\n",
       "      <td>NaN</td>\n",
       "      <td>NaN</td>\n",
       "      <td>NaN</td>\n",
       "      <td>NaN</td>\n",
       "      <td>NaN</td>\n",
       "      <td>NaN</td>\n",
       "      <td>NaN</td>\n",
       "      <td>NaN</td>\n",
       "      <td>NaN</td>\n",
       "    </tr>\n",
       "    <tr>\n",
       "      <th>BUL</th>\n",
       "      <td>NaN</td>\n",
       "      <td>NaN</td>\n",
       "      <td>NaN</td>\n",
       "      <td>NaN</td>\n",
       "      <td>NaN</td>\n",
       "      <td>NaN</td>\n",
       "      <td>NaN</td>\n",
       "      <td>NaN</td>\n",
       "      <td>NaN</td>\n",
       "    </tr>\n",
       "    <tr>\n",
       "      <th>CAN</th>\n",
       "      <td>1871.0</td>\n",
       "      <td>1871.0</td>\n",
       "      <td>1871.0</td>\n",
       "      <td>1871.0</td>\n",
       "      <td>1871.0</td>\n",
       "      <td>1871.0</td>\n",
       "      <td>1871.0</td>\n",
       "      <td>1871.0</td>\n",
       "      <td>1871.0</td>\n",
       "    </tr>\n",
       "    <tr>\n",
       "      <th>CAY</th>\n",
       "      <td>NaN</td>\n",
       "      <td>NaN</td>\n",
       "      <td>NaN</td>\n",
       "      <td>NaN</td>\n",
       "      <td>NaN</td>\n",
       "      <td>NaN</td>\n",
       "      <td>NaN</td>\n",
       "      <td>NaN</td>\n",
       "      <td>NaN</td>\n",
       "    </tr>\n",
       "    <tr>\n",
       "      <th>CHE</th>\n",
       "      <td>NaN</td>\n",
       "      <td>NaN</td>\n",
       "      <td>NaN</td>\n",
       "      <td>NaN</td>\n",
       "      <td>NaN</td>\n",
       "      <td>NaN</td>\n",
       "      <td>NaN</td>\n",
       "      <td>NaN</td>\n",
       "      <td>NaN</td>\n",
       "    </tr>\n",
       "    <tr>\n",
       "      <th>CHI</th>\n",
       "      <td>NaN</td>\n",
       "      <td>NaN</td>\n",
       "      <td>NaN</td>\n",
       "      <td>NaN</td>\n",
       "      <td>NaN</td>\n",
       "      <td>NaN</td>\n",
       "      <td>NaN</td>\n",
       "      <td>NaN</td>\n",
       "      <td>NaN</td>\n",
       "    </tr>\n",
       "    <tr>\n",
       "      <th>CHN</th>\n",
       "      <td>293.0</td>\n",
       "      <td>293.0</td>\n",
       "      <td>293.0</td>\n",
       "      <td>293.0</td>\n",
       "      <td>293.0</td>\n",
       "      <td>293.0</td>\n",
       "      <td>293.0</td>\n",
       "      <td>293.0</td>\n",
       "      <td>293.0</td>\n",
       "    </tr>\n",
       "    <tr>\n",
       "      <th>COL</th>\n",
       "      <td>NaN</td>\n",
       "      <td>NaN</td>\n",
       "      <td>NaN</td>\n",
       "      <td>NaN</td>\n",
       "      <td>NaN</td>\n",
       "      <td>NaN</td>\n",
       "      <td>NaN</td>\n",
       "      <td>NaN</td>\n",
       "      <td>NaN</td>\n",
       "    </tr>\n",
       "    <tr>\n",
       "      <th>CRC</th>\n",
       "      <td>NaN</td>\n",
       "      <td>NaN</td>\n",
       "      <td>NaN</td>\n",
       "      <td>NaN</td>\n",
       "      <td>NaN</td>\n",
       "      <td>NaN</td>\n",
       "      <td>NaN</td>\n",
       "      <td>NaN</td>\n",
       "      <td>NaN</td>\n",
       "    </tr>\n",
       "    <tr>\n",
       "      <th>CRO</th>\n",
       "      <td>NaN</td>\n",
       "      <td>NaN</td>\n",
       "      <td>NaN</td>\n",
       "      <td>NaN</td>\n",
       "      <td>NaN</td>\n",
       "      <td>NaN</td>\n",
       "      <td>NaN</td>\n",
       "      <td>NaN</td>\n",
       "      <td>NaN</td>\n",
       "    </tr>\n",
       "    <tr>\n",
       "      <th>CZE</th>\n",
       "      <td>NaN</td>\n",
       "      <td>NaN</td>\n",
       "      <td>NaN</td>\n",
       "      <td>NaN</td>\n",
       "      <td>NaN</td>\n",
       "      <td>NaN</td>\n",
       "      <td>NaN</td>\n",
       "      <td>NaN</td>\n",
       "      <td>NaN</td>\n",
       "    </tr>\n",
       "    <tr>\n",
       "      <th>DEN</th>\n",
       "      <td>NaN</td>\n",
       "      <td>NaN</td>\n",
       "      <td>NaN</td>\n",
       "      <td>NaN</td>\n",
       "      <td>NaN</td>\n",
       "      <td>NaN</td>\n",
       "      <td>NaN</td>\n",
       "      <td>NaN</td>\n",
       "      <td>NaN</td>\n",
       "    </tr>\n",
       "    <tr>\n",
       "      <th>DEU</th>\n",
       "      <td>NaN</td>\n",
       "      <td>NaN</td>\n",
       "      <td>NaN</td>\n",
       "      <td>NaN</td>\n",
       "      <td>NaN</td>\n",
       "      <td>NaN</td>\n",
       "      <td>NaN</td>\n",
       "      <td>NaN</td>\n",
       "      <td>NaN</td>\n",
       "    </tr>\n",
       "    <tr>\n",
       "      <th>DNK</th>\n",
       "      <td>NaN</td>\n",
       "      <td>NaN</td>\n",
       "      <td>NaN</td>\n",
       "      <td>NaN</td>\n",
       "      <td>NaN</td>\n",
       "      <td>NaN</td>\n",
       "      <td>NaN</td>\n",
       "      <td>NaN</td>\n",
       "      <td>NaN</td>\n",
       "    </tr>\n",
       "    <tr>\n",
       "      <th>DOM</th>\n",
       "      <td>NaN</td>\n",
       "      <td>NaN</td>\n",
       "      <td>NaN</td>\n",
       "      <td>NaN</td>\n",
       "      <td>NaN</td>\n",
       "      <td>NaN</td>\n",
       "      <td>NaN</td>\n",
       "      <td>NaN</td>\n",
       "      <td>NaN</td>\n",
       "    </tr>\n",
       "    <tr>\n",
       "      <th>...</th>\n",
       "      <td>...</td>\n",
       "      <td>...</td>\n",
       "      <td>...</td>\n",
       "      <td>...</td>\n",
       "      <td>...</td>\n",
       "      <td>...</td>\n",
       "      <td>...</td>\n",
       "      <td>...</td>\n",
       "      <td>...</td>\n",
       "    </tr>\n",
       "    <tr>\n",
       "      <th>PER</th>\n",
       "      <td>NaN</td>\n",
       "      <td>NaN</td>\n",
       "      <td>NaN</td>\n",
       "      <td>NaN</td>\n",
       "      <td>NaN</td>\n",
       "      <td>NaN</td>\n",
       "      <td>NaN</td>\n",
       "      <td>NaN</td>\n",
       "      <td>NaN</td>\n",
       "    </tr>\n",
       "    <tr>\n",
       "      <th>PHI</th>\n",
       "      <td>NaN</td>\n",
       "      <td>NaN</td>\n",
       "      <td>NaN</td>\n",
       "      <td>NaN</td>\n",
       "      <td>NaN</td>\n",
       "      <td>NaN</td>\n",
       "      <td>NaN</td>\n",
       "      <td>NaN</td>\n",
       "      <td>NaN</td>\n",
       "    </tr>\n",
       "    <tr>\n",
       "      <th>POL</th>\n",
       "      <td>NaN</td>\n",
       "      <td>NaN</td>\n",
       "      <td>NaN</td>\n",
       "      <td>NaN</td>\n",
       "      <td>NaN</td>\n",
       "      <td>NaN</td>\n",
       "      <td>NaN</td>\n",
       "      <td>NaN</td>\n",
       "      <td>NaN</td>\n",
       "    </tr>\n",
       "    <tr>\n",
       "      <th>POR</th>\n",
       "      <td>NaN</td>\n",
       "      <td>NaN</td>\n",
       "      <td>NaN</td>\n",
       "      <td>NaN</td>\n",
       "      <td>NaN</td>\n",
       "      <td>NaN</td>\n",
       "      <td>NaN</td>\n",
       "      <td>NaN</td>\n",
       "      <td>NaN</td>\n",
       "    </tr>\n",
       "    <tr>\n",
       "      <th>PRT</th>\n",
       "      <td>NaN</td>\n",
       "      <td>NaN</td>\n",
       "      <td>NaN</td>\n",
       "      <td>NaN</td>\n",
       "      <td>NaN</td>\n",
       "      <td>NaN</td>\n",
       "      <td>NaN</td>\n",
       "      <td>NaN</td>\n",
       "      <td>NaN</td>\n",
       "    </tr>\n",
       "    <tr>\n",
       "      <th>ROU</th>\n",
       "      <td>NaN</td>\n",
       "      <td>NaN</td>\n",
       "      <td>NaN</td>\n",
       "      <td>NaN</td>\n",
       "      <td>NaN</td>\n",
       "      <td>NaN</td>\n",
       "      <td>NaN</td>\n",
       "      <td>NaN</td>\n",
       "      <td>NaN</td>\n",
       "    </tr>\n",
       "    <tr>\n",
       "      <th>RSA</th>\n",
       "      <td>NaN</td>\n",
       "      <td>NaN</td>\n",
       "      <td>NaN</td>\n",
       "      <td>NaN</td>\n",
       "      <td>NaN</td>\n",
       "      <td>NaN</td>\n",
       "      <td>NaN</td>\n",
       "      <td>NaN</td>\n",
       "      <td>NaN</td>\n",
       "    </tr>\n",
       "    <tr>\n",
       "      <th>RUS</th>\n",
       "      <td>8139.0</td>\n",
       "      <td>8139.0</td>\n",
       "      <td>8139.0</td>\n",
       "      <td>8139.0</td>\n",
       "      <td>8139.0</td>\n",
       "      <td>8138.0</td>\n",
       "      <td>8139.0</td>\n",
       "      <td>8139.0</td>\n",
       "      <td>8139.0</td>\n",
       "    </tr>\n",
       "    <tr>\n",
       "      <th>SEN</th>\n",
       "      <td>NaN</td>\n",
       "      <td>NaN</td>\n",
       "      <td>NaN</td>\n",
       "      <td>NaN</td>\n",
       "      <td>NaN</td>\n",
       "      <td>NaN</td>\n",
       "      <td>NaN</td>\n",
       "      <td>NaN</td>\n",
       "      <td>NaN</td>\n",
       "    </tr>\n",
       "    <tr>\n",
       "      <th>SIN</th>\n",
       "      <td>NaN</td>\n",
       "      <td>NaN</td>\n",
       "      <td>NaN</td>\n",
       "      <td>NaN</td>\n",
       "      <td>NaN</td>\n",
       "      <td>NaN</td>\n",
       "      <td>NaN</td>\n",
       "      <td>NaN</td>\n",
       "      <td>NaN</td>\n",
       "    </tr>\n",
       "    <tr>\n",
       "      <th>SLO</th>\n",
       "      <td>NaN</td>\n",
       "      <td>NaN</td>\n",
       "      <td>NaN</td>\n",
       "      <td>NaN</td>\n",
       "      <td>NaN</td>\n",
       "      <td>NaN</td>\n",
       "      <td>NaN</td>\n",
       "      <td>NaN</td>\n",
       "      <td>NaN</td>\n",
       "    </tr>\n",
       "    <tr>\n",
       "      <th>SMR</th>\n",
       "      <td>NaN</td>\n",
       "      <td>NaN</td>\n",
       "      <td>NaN</td>\n",
       "      <td>NaN</td>\n",
       "      <td>NaN</td>\n",
       "      <td>NaN</td>\n",
       "      <td>NaN</td>\n",
       "      <td>NaN</td>\n",
       "      <td>NaN</td>\n",
       "    </tr>\n",
       "    <tr>\n",
       "      <th>SRB</th>\n",
       "      <td>NaN</td>\n",
       "      <td>NaN</td>\n",
       "      <td>NaN</td>\n",
       "      <td>NaN</td>\n",
       "      <td>NaN</td>\n",
       "      <td>NaN</td>\n",
       "      <td>NaN</td>\n",
       "      <td>NaN</td>\n",
       "      <td>NaN</td>\n",
       "    </tr>\n",
       "    <tr>\n",
       "      <th>SUI</th>\n",
       "      <td>NaN</td>\n",
       "      <td>NaN</td>\n",
       "      <td>NaN</td>\n",
       "      <td>NaN</td>\n",
       "      <td>NaN</td>\n",
       "      <td>NaN</td>\n",
       "      <td>NaN</td>\n",
       "      <td>NaN</td>\n",
       "      <td>NaN</td>\n",
       "    </tr>\n",
       "    <tr>\n",
       "      <th>SVK</th>\n",
       "      <td>NaN</td>\n",
       "      <td>NaN</td>\n",
       "      <td>NaN</td>\n",
       "      <td>NaN</td>\n",
       "      <td>NaN</td>\n",
       "      <td>NaN</td>\n",
       "      <td>NaN</td>\n",
       "      <td>NaN</td>\n",
       "      <td>NaN</td>\n",
       "    </tr>\n",
       "    <tr>\n",
       "      <th>SVN</th>\n",
       "      <td>NaN</td>\n",
       "      <td>NaN</td>\n",
       "      <td>NaN</td>\n",
       "      <td>NaN</td>\n",
       "      <td>NaN</td>\n",
       "      <td>NaN</td>\n",
       "      <td>NaN</td>\n",
       "      <td>NaN</td>\n",
       "      <td>NaN</td>\n",
       "    </tr>\n",
       "    <tr>\n",
       "      <th>SWE</th>\n",
       "      <td>NaN</td>\n",
       "      <td>NaN</td>\n",
       "      <td>NaN</td>\n",
       "      <td>NaN</td>\n",
       "      <td>NaN</td>\n",
       "      <td>NaN</td>\n",
       "      <td>NaN</td>\n",
       "      <td>NaN</td>\n",
       "      <td>NaN</td>\n",
       "    </tr>\n",
       "    <tr>\n",
       "      <th>TCA</th>\n",
       "      <td>NaN</td>\n",
       "      <td>NaN</td>\n",
       "      <td>NaN</td>\n",
       "      <td>NaN</td>\n",
       "      <td>NaN</td>\n",
       "      <td>NaN</td>\n",
       "      <td>NaN</td>\n",
       "      <td>NaN</td>\n",
       "      <td>NaN</td>\n",
       "    </tr>\n",
       "    <tr>\n",
       "      <th>THA</th>\n",
       "      <td>129.0</td>\n",
       "      <td>129.0</td>\n",
       "      <td>129.0</td>\n",
       "      <td>129.0</td>\n",
       "      <td>129.0</td>\n",
       "      <td>129.0</td>\n",
       "      <td>129.0</td>\n",
       "      <td>129.0</td>\n",
       "      <td>129.0</td>\n",
       "    </tr>\n",
       "    <tr>\n",
       "      <th>TRI</th>\n",
       "      <td>NaN</td>\n",
       "      <td>NaN</td>\n",
       "      <td>NaN</td>\n",
       "      <td>NaN</td>\n",
       "      <td>NaN</td>\n",
       "      <td>NaN</td>\n",
       "      <td>NaN</td>\n",
       "      <td>NaN</td>\n",
       "      <td>NaN</td>\n",
       "    </tr>\n",
       "    <tr>\n",
       "      <th>TUR</th>\n",
       "      <td>NaN</td>\n",
       "      <td>NaN</td>\n",
       "      <td>NaN</td>\n",
       "      <td>NaN</td>\n",
       "      <td>NaN</td>\n",
       "      <td>NaN</td>\n",
       "      <td>NaN</td>\n",
       "      <td>NaN</td>\n",
       "      <td>NaN</td>\n",
       "    </tr>\n",
       "    <tr>\n",
       "      <th>TWN</th>\n",
       "      <td>NaN</td>\n",
       "      <td>NaN</td>\n",
       "      <td>NaN</td>\n",
       "      <td>NaN</td>\n",
       "      <td>NaN</td>\n",
       "      <td>NaN</td>\n",
       "      <td>NaN</td>\n",
       "      <td>NaN</td>\n",
       "      <td>NaN</td>\n",
       "    </tr>\n",
       "    <tr>\n",
       "      <th>UAE</th>\n",
       "      <td>NaN</td>\n",
       "      <td>NaN</td>\n",
       "      <td>NaN</td>\n",
       "      <td>NaN</td>\n",
       "      <td>NaN</td>\n",
       "      <td>NaN</td>\n",
       "      <td>NaN</td>\n",
       "      <td>NaN</td>\n",
       "      <td>NaN</td>\n",
       "    </tr>\n",
       "    <tr>\n",
       "      <th>UKR</th>\n",
       "      <td>NaN</td>\n",
       "      <td>NaN</td>\n",
       "      <td>NaN</td>\n",
       "      <td>NaN</td>\n",
       "      <td>NaN</td>\n",
       "      <td>NaN</td>\n",
       "      <td>NaN</td>\n",
       "      <td>NaN</td>\n",
       "      <td>NaN</td>\n",
       "    </tr>\n",
       "    <tr>\n",
       "      <th>URU</th>\n",
       "      <td>NaN</td>\n",
       "      <td>NaN</td>\n",
       "      <td>NaN</td>\n",
       "      <td>NaN</td>\n",
       "      <td>NaN</td>\n",
       "      <td>NaN</td>\n",
       "      <td>NaN</td>\n",
       "      <td>NaN</td>\n",
       "      <td>NaN</td>\n",
       "    </tr>\n",
       "    <tr>\n",
       "      <th>USA</th>\n",
       "      <td>20945.0</td>\n",
       "      <td>20945.0</td>\n",
       "      <td>20945.0</td>\n",
       "      <td>20945.0</td>\n",
       "      <td>20945.0</td>\n",
       "      <td>20945.0</td>\n",
       "      <td>20945.0</td>\n",
       "      <td>20945.0</td>\n",
       "      <td>20945.0</td>\n",
       "    </tr>\n",
       "    <tr>\n",
       "      <th>UZB</th>\n",
       "      <td>NaN</td>\n",
       "      <td>NaN</td>\n",
       "      <td>NaN</td>\n",
       "      <td>NaN</td>\n",
       "      <td>NaN</td>\n",
       "      <td>NaN</td>\n",
       "      <td>NaN</td>\n",
       "      <td>NaN</td>\n",
       "      <td>NaN</td>\n",
       "    </tr>\n",
       "    <tr>\n",
       "      <th>VEN</th>\n",
       "      <td>NaN</td>\n",
       "      <td>NaN</td>\n",
       "      <td>NaN</td>\n",
       "      <td>NaN</td>\n",
       "      <td>NaN</td>\n",
       "      <td>NaN</td>\n",
       "      <td>NaN</td>\n",
       "      <td>NaN</td>\n",
       "      <td>NaN</td>\n",
       "    </tr>\n",
       "    <tr>\n",
       "      <th>ZAF</th>\n",
       "      <td>NaN</td>\n",
       "      <td>NaN</td>\n",
       "      <td>NaN</td>\n",
       "      <td>NaN</td>\n",
       "      <td>NaN</td>\n",
       "      <td>NaN</td>\n",
       "      <td>NaN</td>\n",
       "      <td>NaN</td>\n",
       "      <td>NaN</td>\n",
       "    </tr>\n",
       "    <tr>\n",
       "      <th>ZIM</th>\n",
       "      <td>NaN</td>\n",
       "      <td>NaN</td>\n",
       "      <td>NaN</td>\n",
       "      <td>NaN</td>\n",
       "      <td>NaN</td>\n",
       "      <td>NaN</td>\n",
       "      <td>NaN</td>\n",
       "      <td>NaN</td>\n",
       "      <td>NaN</td>\n",
       "    </tr>\n",
       "  </tbody>\n",
       "</table>\n",
       "<p>113 rows × 9 columns</p>\n",
       "</div>"
      ],
      "text/plain": [
       "            Name      Age   Gender     City  Overall_ranking  Final_10k_sec  \\\n",
       "Country                                                                       \n",
       "-            NaN      NaN      NaN      NaN              NaN            NaN   \n",
       "ALG          NaN      NaN      NaN      NaN              NaN            NaN   \n",
       "AND          NaN      NaN      NaN      NaN              NaN            NaN   \n",
       "ARE          NaN      NaN      NaN      NaN              NaN            NaN   \n",
       "ARG          NaN      NaN      NaN      NaN              NaN            NaN   \n",
       "AUS        195.0    195.0    195.0    195.0            195.0          195.0   \n",
       "AUT          NaN      NaN      NaN      NaN              NaN            NaN   \n",
       "AZE          NaN      NaN      NaN      NaN              NaN            NaN   \n",
       "BAR          NaN      NaN      NaN      NaN              NaN            NaN   \n",
       "BDI          NaN      NaN      NaN      NaN              NaN            NaN   \n",
       "BEL          NaN      NaN      NaN      NaN              NaN            NaN   \n",
       "BER          NaN      NaN      NaN      NaN              NaN            NaN   \n",
       "BIH          NaN      NaN      NaN      NaN              NaN            NaN   \n",
       "BLR          NaN      NaN      NaN      NaN              NaN            NaN   \n",
       "BRA        206.0    206.0    206.0    206.0            206.0          206.0   \n",
       "BRN          NaN      NaN      NaN      NaN              NaN            NaN   \n",
       "BUL          NaN      NaN      NaN      NaN              NaN            NaN   \n",
       "CAN       1871.0   1871.0   1871.0   1871.0           1871.0         1871.0   \n",
       "CAY          NaN      NaN      NaN      NaN              NaN            NaN   \n",
       "CHE          NaN      NaN      NaN      NaN              NaN            NaN   \n",
       "CHI          NaN      NaN      NaN      NaN              NaN            NaN   \n",
       "CHN        293.0    293.0    293.0    293.0            293.0          293.0   \n",
       "COL          NaN      NaN      NaN      NaN              NaN            NaN   \n",
       "CRC          NaN      NaN      NaN      NaN              NaN            NaN   \n",
       "CRO          NaN      NaN      NaN      NaN              NaN            NaN   \n",
       "CZE          NaN      NaN      NaN      NaN              NaN            NaN   \n",
       "DEN          NaN      NaN      NaN      NaN              NaN            NaN   \n",
       "DEU          NaN      NaN      NaN      NaN              NaN            NaN   \n",
       "DNK          NaN      NaN      NaN      NaN              NaN            NaN   \n",
       "DOM          NaN      NaN      NaN      NaN              NaN            NaN   \n",
       "...          ...      ...      ...      ...              ...            ...   \n",
       "PER          NaN      NaN      NaN      NaN              NaN            NaN   \n",
       "PHI          NaN      NaN      NaN      NaN              NaN            NaN   \n",
       "POL          NaN      NaN      NaN      NaN              NaN            NaN   \n",
       "POR          NaN      NaN      NaN      NaN              NaN            NaN   \n",
       "PRT          NaN      NaN      NaN      NaN              NaN            NaN   \n",
       "ROU          NaN      NaN      NaN      NaN              NaN            NaN   \n",
       "RSA          NaN      NaN      NaN      NaN              NaN            NaN   \n",
       "RUS       8139.0   8139.0   8139.0   8139.0           8139.0         8138.0   \n",
       "SEN          NaN      NaN      NaN      NaN              NaN            NaN   \n",
       "SIN          NaN      NaN      NaN      NaN              NaN            NaN   \n",
       "SLO          NaN      NaN      NaN      NaN              NaN            NaN   \n",
       "SMR          NaN      NaN      NaN      NaN              NaN            NaN   \n",
       "SRB          NaN      NaN      NaN      NaN              NaN            NaN   \n",
       "SUI          NaN      NaN      NaN      NaN              NaN            NaN   \n",
       "SVK          NaN      NaN      NaN      NaN              NaN            NaN   \n",
       "SVN          NaN      NaN      NaN      NaN              NaN            NaN   \n",
       "SWE          NaN      NaN      NaN      NaN              NaN            NaN   \n",
       "TCA          NaN      NaN      NaN      NaN              NaN            NaN   \n",
       "THA        129.0    129.0    129.0    129.0            129.0          129.0   \n",
       "TRI          NaN      NaN      NaN      NaN              NaN            NaN   \n",
       "TUR          NaN      NaN      NaN      NaN              NaN            NaN   \n",
       "TWN          NaN      NaN      NaN      NaN              NaN            NaN   \n",
       "UAE          NaN      NaN      NaN      NaN              NaN            NaN   \n",
       "UKR          NaN      NaN      NaN      NaN              NaN            NaN   \n",
       "URU          NaN      NaN      NaN      NaN              NaN            NaN   \n",
       "USA      20945.0  20945.0  20945.0  20945.0          20945.0        20945.0   \n",
       "UZB          NaN      NaN      NaN      NaN              NaN            NaN   \n",
       "VEN          NaN      NaN      NaN      NaN              NaN            NaN   \n",
       "ZAF          NaN      NaN      NaN      NaN              NaN            NaN   \n",
       "ZIM          NaN      NaN      NaN      NaN              NaN            NaN   \n",
       "\n",
       "         Final_Half_sec  FinishTime_sec  isBoston  \n",
       "Country                                            \n",
       "-                   NaN             NaN       NaN  \n",
       "ALG                 NaN             NaN       NaN  \n",
       "AND                 NaN             NaN       NaN  \n",
       "ARE                 NaN             NaN       NaN  \n",
       "ARG                 NaN             NaN       NaN  \n",
       "AUS               195.0           195.0     195.0  \n",
       "AUT                 NaN             NaN       NaN  \n",
       "AZE                 NaN             NaN       NaN  \n",
       "BAR                 NaN             NaN       NaN  \n",
       "BDI                 NaN             NaN       NaN  \n",
       "BEL                 NaN             NaN       NaN  \n",
       "BER                 NaN             NaN       NaN  \n",
       "BIH                 NaN             NaN       NaN  \n",
       "BLR                 NaN             NaN       NaN  \n",
       "BRA               206.0           206.0     206.0  \n",
       "BRN                 NaN             NaN       NaN  \n",
       "BUL                 NaN             NaN       NaN  \n",
       "CAN              1871.0          1871.0    1871.0  \n",
       "CAY                 NaN             NaN       NaN  \n",
       "CHE                 NaN             NaN       NaN  \n",
       "CHI                 NaN             NaN       NaN  \n",
       "CHN               293.0           293.0     293.0  \n",
       "COL                 NaN             NaN       NaN  \n",
       "CRC                 NaN             NaN       NaN  \n",
       "CRO                 NaN             NaN       NaN  \n",
       "CZE                 NaN             NaN       NaN  \n",
       "DEN                 NaN             NaN       NaN  \n",
       "DEU                 NaN             NaN       NaN  \n",
       "DNK                 NaN             NaN       NaN  \n",
       "DOM                 NaN             NaN       NaN  \n",
       "...                 ...             ...       ...  \n",
       "PER                 NaN             NaN       NaN  \n",
       "PHI                 NaN             NaN       NaN  \n",
       "POL                 NaN             NaN       NaN  \n",
       "POR                 NaN             NaN       NaN  \n",
       "PRT                 NaN             NaN       NaN  \n",
       "ROU                 NaN             NaN       NaN  \n",
       "RSA                 NaN             NaN       NaN  \n",
       "RUS              8139.0          8139.0    8139.0  \n",
       "SEN                 NaN             NaN       NaN  \n",
       "SIN                 NaN             NaN       NaN  \n",
       "SLO                 NaN             NaN       NaN  \n",
       "SMR                 NaN             NaN       NaN  \n",
       "SRB                 NaN             NaN       NaN  \n",
       "SUI                 NaN             NaN       NaN  \n",
       "SVK                 NaN             NaN       NaN  \n",
       "SVN                 NaN             NaN       NaN  \n",
       "SWE                 NaN             NaN       NaN  \n",
       "TCA                 NaN             NaN       NaN  \n",
       "THA               129.0           129.0     129.0  \n",
       "TRI                 NaN             NaN       NaN  \n",
       "TUR                 NaN             NaN       NaN  \n",
       "TWN                 NaN             NaN       NaN  \n",
       "UAE                 NaN             NaN       NaN  \n",
       "UKR                 NaN             NaN       NaN  \n",
       "URU                 NaN             NaN       NaN  \n",
       "USA             20945.0         20945.0   20945.0  \n",
       "UZB                 NaN             NaN       NaN  \n",
       "VEN                 NaN             NaN       NaN  \n",
       "ZAF                 NaN             NaN       NaN  \n",
       "ZIM                 NaN             NaN       NaN  \n",
       "\n",
       "[113 rows x 9 columns]"
      ]
     },
     "execution_count": 171,
     "metadata": {},
     "output_type": "execute_result"
    }
   ],
   "source": [
    "df_merged_bm_country = df_merged_bm.groupby('Country').count()\n",
    "df_merged_bm_country[df_merged_bm_country > 100]"
   ]
  },
  {
   "cell_type": "markdown",
   "metadata": {},
   "source": [
    "Show agreegated result of boston and moscow success rate in one graph. Still on different datasets."
   ]
  },
  {
   "cell_type": "code",
   "execution_count": 2,
   "metadata": {},
   "outputs": [
    {
     "ename": "NameError",
     "evalue": "name 'df_Boston_countries_success_rate' is not defined",
     "output_type": "error",
     "traceback": [
      "\u001b[1;31m---------------------------------------------------------------------------\u001b[0m",
      "\u001b[1;31mNameError\u001b[0m                                 Traceback (most recent call last)",
      "\u001b[1;32m<ipython-input-2-706243f5f236>\u001b[0m in \u001b[0;36m<module>\u001b[1;34m\u001b[0m\n\u001b[1;32m----> 1\u001b[1;33m \u001b[0mBoston_success_df\u001b[0m \u001b[1;33m=\u001b[0m \u001b[0mdf_Boston_countries_success_rate\u001b[0m\u001b[1;33m.\u001b[0m\u001b[0mto_frame\u001b[0m\u001b[1;33m(\u001b[0m\u001b[1;33m)\u001b[0m\u001b[1;33m.\u001b[0m\u001b[0mreset_index\u001b[0m\u001b[1;33m(\u001b[0m\u001b[1;33m)\u001b[0m\u001b[1;33m\u001b[0m\u001b[1;33m\u001b[0m\u001b[0m\n\u001b[0m\u001b[0;32m      2\u001b[0m \u001b[0mBoston_success_df\u001b[0m\u001b[1;33m.\u001b[0m\u001b[0mrename\u001b[0m\u001b[1;33m(\u001b[0m\u001b[0mcolumns\u001b[0m\u001b[1;33m=\u001b[0m\u001b[1;33m{\u001b[0m\u001b[1;36m0\u001b[0m\u001b[1;33m:\u001b[0m\u001b[1;34m'success_rate'\u001b[0m\u001b[1;33m}\u001b[0m\u001b[1;33m,\u001b[0m \u001b[0minplace\u001b[0m\u001b[1;33m=\u001b[0m\u001b[1;32mTrue\u001b[0m\u001b[1;33m)\u001b[0m\u001b[1;33m\u001b[0m\u001b[1;33m\u001b[0m\u001b[0m\n\u001b[0;32m      3\u001b[0m \u001b[0mBoston_success_df\u001b[0m\u001b[1;33m[\u001b[0m\u001b[1;34m'isBoston'\u001b[0m\u001b[1;33m]\u001b[0m \u001b[1;33m=\u001b[0m \u001b[1;34m'1.0'\u001b[0m\u001b[1;33m\u001b[0m\u001b[1;33m\u001b[0m\u001b[0m\n\u001b[0;32m      4\u001b[0m \u001b[1;31m#Boston_success_df.head(1)\u001b[0m\u001b[1;33m\u001b[0m\u001b[1;33m\u001b[0m\u001b[1;33m\u001b[0m\u001b[0m\n",
      "\u001b[1;31mNameError\u001b[0m: name 'df_Boston_countries_success_rate' is not defined"
     ]
    }
   ],
   "source": [
    "Boston_success_df = df_Boston_countries_success_rate.to_frame().reset_index()\n",
    "Boston_success_df.rename(columns={0:'success_rate'}, inplace=True)\n",
    "Boston_success_df['isBoston'] = '1.0'\n",
    "#Boston_success_df.head(1)"
   ]
  },
  {
   "cell_type": "code",
   "execution_count": 174,
   "metadata": {},
   "outputs": [],
   "source": [
    "Moscow_success_df = success_rate_by_country_moscow.to_frame().reset_index()\n",
    "Moscow_success_df.rename(columns={0:'success_rate'}, inplace=True)\n",
    "Moscow_success_df['isBoston'] = '0.0'\n",
    "#Moscow_success_df.head(1)"
   ]
  },
  {
   "cell_type": "code",
   "execution_count": 175,
   "metadata": {},
   "outputs": [],
   "source": [
    "df_merge_success_rate = Boston_success_df.merge(Moscow_success_df,how='outer', left_on=['Country', 'success_rate', 'isBoston'],\\\n",
    "                                     right_on=['Country', 'success_rate', 'isBoston'])"
   ]
  },
  {
   "cell_type": "code",
   "execution_count": 176,
   "metadata": {},
   "outputs": [],
   "source": [
    "df_merge_success_rate = df_merge_success_rate.sort_values(by='success_rate', ascending=False)"
   ]
  },
  {
   "cell_type": "code",
   "execution_count": 177,
   "metadata": {},
   "outputs": [
    {
     "data": {
      "text/plain": [
       "<seaborn.axisgrid.FacetGrid at 0x536c128>"
      ]
     },
     "execution_count": 177,
     "metadata": {},
     "output_type": "execute_result"
    },
    {
     "data": {
      "image/png": "[encoded data removed]",
      "text/plain": [
       "<Figure size 1131.88x360 with 1 Axes>"
      ]
     },
     "metadata": {
      "needs_background": "light"
     },
     "output_type": "display_data"
    }
   ],
   "source": [
    "sns.catplot(x='success_rate',y='Country',hue='isBoston',data=df_merge_success_rate,aspect=3,kind='bar')"
   ]
  },
  {
   "cell_type": "markdown",
   "metadata": {},
   "source": [
    "# <u> Managerial Insights</u>"
   ]
  },
  {
   "cell_type": "markdown",
   "metadata": {},
   "source": [
    "<ul>\n",
    "    <li>To perform well in long run marathons athletes should follow the practices what Kenya and Thailand athletes have implemented. As Kenya athletes have a dominance in the olympics and most recently Thailand is  seeing the hobby jogging boom. </li>\n",
    "    <li> Kenya and Thailand athletes are used to perform in severe conditions, so they have the capacity to manage well in Boston and Moscow Marathon </li>\n",
    "    <li>Kenya as a country has the most successful representation in the run. The runners from Kenya are really fast and they are amongst the winners as well. In order to make the run more competitive and atttractive sponsors and viewers, we should make sure to have good representation from Kenya and top Kenyan players. This will drive more advertising and sponsorship money to the run. Don't just focus on local talent but rather go for the bigger talent from abroad.</li>\n",
    "</ul>"
   ]
  },
  {
   "cell_type": "markdown",
   "metadata": {},
   "source": [
    "# <u>  Interesting Finding 2 Summary </u>"
   ]
  },
  {
   "cell_type": "markdown",
   "metadata": {},
   "source": [
    "<ul>\n",
    "    <li> Summary - Negative split is not an effective nor popular strategy for Boston Marathon. </li>\n",
    "    <li> Background - Negative split is a very popular and common strategy where a runner runs the second half of a marathon </li>\n",
    "    <li> Faster than the first half. </li>"
   ]
  },
  {
   "cell_type": "code",
   "execution_count": 178,
   "metadata": {},
   "outputs": [],
   "source": [
    "import matplotlib.pyplot as plt\n",
    "df_Boston['boston_split_ratio'] = (df_Boston['FinishTime_sec'] - df_Boston['Final_Half_sec'])/(df_Boston['Final_Half_sec'])\n",
    "df_split = df_Boston[df_Boston.Final_Half_sec > 0]"
   ]
  },
  {
   "cell_type": "code",
   "execution_count": 179,
   "metadata": {},
   "outputs": [
    {
     "data": {
      "text/plain": [
       "811"
      ]
     },
     "execution_count": 179,
     "metadata": {},
     "output_type": "execute_result"
    }
   ],
   "source": [
    "len(df_split[df_split.boston_split_ratio < 1.0])"
   ]
  },
  {
   "cell_type": "code",
   "execution_count": 180,
   "metadata": {},
   "outputs": [
    {
     "data": {
      "text/plain": [
       "3.070806512684589"
      ]
     },
     "execution_count": 180,
     "metadata": {},
     "output_type": "execute_result"
    }
   ],
   "source": [
    "len(df_Boston[df_Boston.boston_split_ratio < 1.0]) / len(df_Boston) * 100"
   ]
  },
  {
   "cell_type": "markdown",
   "metadata": {},
   "source": [
    "Proves that mature people use negative split and not young."
   ]
  },
  {
   "cell_type": "code",
   "execution_count": 181,
   "metadata": {},
   "outputs": [
    {
     "data": {
      "text/plain": [
       "Gender\n",
       "0.0    377\n",
       "1.0    434\n",
       "dtype: int64"
      ]
     },
     "execution_count": 181,
     "metadata": {},
     "output_type": "execute_result"
    }
   ],
   "source": [
    "df_split[df_split.boston_split_ratio < 1.0].groupby(['Gender']).size() "
   ]
  },
  {
   "cell_type": "code",
   "execution_count": 182,
   "metadata": {},
   "outputs": [
    {
     "data": {
      "text/plain": [
       "<matplotlib.axes._subplots.AxesSubplot at 0xf291c50>"
      ]
     },
     "execution_count": 182,
     "metadata": {},
     "output_type": "execute_result"
    },
    {
     "data": {
      "text/plain": [
       "(0.7, 1.7)"
      ]
     },
     "execution_count": 182,
     "metadata": {},
     "output_type": "execute_result"
    },
    {
     "data": {
      "text/plain": [
       "Text(0.5, 0, 'Boston Split Ratio')"
      ]
     },
     "execution_count": 182,
     "metadata": {},
     "output_type": "execute_result"
    },
    {
     "data": {
      "text/plain": [
       "Text(0, 0.5, 'Runner Density')"
      ]
     },
     "execution_count": 182,
     "metadata": {},
     "output_type": "execute_result"
    },
    {
     "data": {
      "text/plain": [
       "Text(0.5, 1.0, 'Split Distribution (Negative split when < 1)')"
      ]
     },
     "execution_count": 182,
     "metadata": {},
     "output_type": "execute_result"
    },
    {
     "data": {
      "image/png": "[encoded data removed]",
      "text/plain": [
       "<Figure size 432x288 with 1 Axes>"
      ]
     },
     "metadata": {
      "needs_background": "light"
     },
     "output_type": "display_data"
    }
   ],
   "source": [
    "sns.kdeplot(df_split.boston_split_ratio)\n",
    "plt.xlim([0.7,1.7])\n",
    "plt.xlabel('Boston Split Ratio')\n",
    "plt.ylabel('Runner Density')\n",
    "plt.title('Split Distribution (Negative split when < 1)')"
   ]
  },
  {
   "cell_type": "code",
   "execution_count": 183,
   "metadata": {},
   "outputs": [
    {
     "data": {
      "text/plain": [
       "[<matplotlib.lines.Line2D at 0x100b5a58>]"
      ]
     },
     "execution_count": 183,
     "metadata": {},
     "output_type": "execute_result"
    },
    {
     "data": {
      "text/plain": [
       "(0.5, 3)"
      ]
     },
     "execution_count": 183,
     "metadata": {},
     "output_type": "execute_result"
    },
    {
     "data": {
      "text/plain": [
       "Text(0.5, 0, 'Overall Ranking')"
      ]
     },
     "execution_count": 183,
     "metadata": {},
     "output_type": "execute_result"
    },
    {
     "data": {
      "text/plain": [
       "Text(0, 0.5, 'Split Ratio')"
      ]
     },
     "execution_count": 183,
     "metadata": {},
     "output_type": "execute_result"
    },
    {
     "data": {
      "text/plain": [
       "Text(0.5, 1.0, 'Split and performance')"
      ]
     },
     "execution_count": 183,
     "metadata": {},
     "output_type": "execute_result"
    },
    {
     "data": {
      "image/png": "[encoded data removed]",
      "text/plain": [
       "<Figure size 432x288 with 1 Axes>"
      ]
     },
     "metadata": {
      "needs_background": "light"
     },
     "output_type": "display_data"
    }
   ],
   "source": [
    "plt.plot(df_split.Overall_ranking,df_split.boston_split_ratio,'o', alpha = 0.2)\n",
    "plt.ylim([0.5,3])\n",
    "plt.xlabel('Overall Ranking')\n",
    "plt.ylabel('Split Ratio')\n",
    "plt.title('Split and performance')"
   ]
  },
  {
   "cell_type": "markdown",
   "metadata": {},
   "source": [
    "Till here, we should show how many have positive split and how many have negative split. Show them by age and gender.\n",
    "Plot split ratio of each runner by finish time.\n",
    "Variance in split ratio by age? by gender?"
   ]
  },
  {
   "cell_type": "markdown",
   "metadata": {},
   "source": [
    "Derive split of top 100 from the above dataframe to optimize.\n"
   ]
  },
  {
   "cell_type": "code",
   "execution_count": 184,
   "metadata": {},
   "outputs": [],
   "source": [
    "dfBoston_100 = df_Boston[:100]\n",
    "dfBoston_100['split_ratio_100'] = (dfBoston_100['FinishTime_sec'] - dfBoston_100['Final_Half_sec'])/(dfBoston_100['Final_Half_sec'])\n",
    "df_split_100 = dfBoston_100[dfBoston_100.Final_Half_sec > 0]"
   ]
  },
  {
   "cell_type": "markdown",
   "metadata": {},
   "source": [
    "Top 10 runners have not used negative split."
   ]
  },
  {
   "cell_type": "markdown",
   "metadata": {},
   "source": [
    "The below chart shows that successful countries didn't solely use negative split strategy. "
   ]
  },
  {
   "cell_type": "code",
   "execution_count": 185,
   "metadata": {
    "scrolled": true
   },
   "outputs": [
    {
     "data": {
      "text/plain": [
       "[<matplotlib.lines.Line2D at 0x10113b38>]"
      ]
     },
     "execution_count": 185,
     "metadata": {},
     "output_type": "execute_result"
    },
    {
     "data": {
      "text/plain": [
       "(0.8, 1.4)"
      ]
     },
     "execution_count": 185,
     "metadata": {},
     "output_type": "execute_result"
    },
    {
     "data": {
      "text/plain": [
       "Text(0.5, 0, 'Overall Rank')"
      ]
     },
     "execution_count": 185,
     "metadata": {},
     "output_type": "execute_result"
    },
    {
     "data": {
      "text/plain": [
       "Text(0, 0.5, 'Split')"
      ]
     },
     "execution_count": 185,
     "metadata": {},
     "output_type": "execute_result"
    },
    {
     "data": {
      "text/plain": [
       "Text(0.5, 1.0, 'Split and performance')"
      ]
     },
     "execution_count": 185,
     "metadata": {},
     "output_type": "execute_result"
    },
    {
     "data": {
      "image/png": "[encoded data removed]",
      "text/plain": [
       "<Figure size 432x288 with 1 Axes>"
      ]
     },
     "metadata": {
      "needs_background": "light"
     },
     "output_type": "display_data"
    }
   ],
   "source": [
    "plt.plot(df_split_100.Overall_ranking,df_split_100.split_ratio_100,'o', alpha = 0.2)\n",
    "plt.ylim([0.8,1.4])\n",
    "plt.xlabel('Overall Rank')\n",
    "plt.ylabel('Split')\n",
    "plt.title('Split and performance') "
   ]
  },
  {
   "cell_type": "code",
   "execution_count": 186,
   "metadata": {},
   "outputs": [],
   "source": [
    "# Till here, we should show how many have +ve split and how many have negative split. Show them by age and gender.\n",
    "# plot split ratio of each runner by finish time.  split ratio on y axis and finish time on x.\n",
    "# variance in split ratio by age? by gender?"
   ]
  },
  {
   "cell_type": "code",
   "execution_count": 187,
   "metadata": {},
   "outputs": [
    {
     "data": {
      "text/plain": [
       "[<matplotlib.lines.Line2D at 0x13988da0>]"
      ]
     },
     "execution_count": 187,
     "metadata": {},
     "output_type": "execute_result"
    },
    {
     "data": {
      "text/plain": [
       "[<matplotlib.lines.Line2D at 0x13994438>]"
      ]
     },
     "execution_count": 187,
     "metadata": {},
     "output_type": "execute_result"
    },
    {
     "data": {
      "text/plain": [
       "Text(0.5, 0, 'Overall Rank')"
      ]
     },
     "execution_count": 187,
     "metadata": {},
     "output_type": "execute_result"
    },
    {
     "data": {
      "text/plain": [
       "Text(0, 0.5, 'Split Ratio')"
      ]
     },
     "execution_count": 187,
     "metadata": {},
     "output_type": "execute_result"
    },
    {
     "data": {
      "text/plain": [
       "<matplotlib.legend.Legend at 0x13988ef0>"
      ]
     },
     "execution_count": 187,
     "metadata": {},
     "output_type": "execute_result"
    },
    {
     "data": {
      "image/png": "[encoded data removed]",
      "text/plain": [
       "<Figure size 432x288 with 1 Axes>"
      ]
     },
     "metadata": {
      "needs_background": "light"
     },
     "output_type": "display_data"
    }
   ],
   "source": [
    "plt.plot(df_split.Overall_ranking[(df_split.Country is not 'KEN') & (df_split.Overall_ranking<100)], df_split.boston_split_ratio[(df_split.Country is not 'KEN') & (df_split.Overall_ranking<100)],'o')\n",
    "\n",
    "plt.plot(df_split.Overall_ranking[(df_split.Country == 'KEN') & (df_split.Overall_ranking<100)], df_split.boston_split_ratio[(df_split.Country == 'KEN')  & (df_split.Overall_ranking<100)],'o', color = 'r')\n",
    "plt.xlabel('Overall Rank')\n",
    "plt.ylabel('Split Ratio')\n",
    "plt.legend(['Others','Kenya'])"
   ]
  },
  {
   "cell_type": "code",
   "execution_count": 188,
   "metadata": {},
   "outputs": [],
   "source": [
    "#doing same analysis for moscow."
   ]
  },
  {
   "cell_type": "code",
   "execution_count": 189,
   "metadata": {},
   "outputs": [],
   "source": [
    "import matplotlib.pyplot as plt\n",
    "df_new_Moscow['moscow_split_ratio'] = (df_new_Moscow['Marathon'] - df_new_Moscow['Half marathon'])/(df_new_Moscow['Half marathon'])\n",
    "# count number of positive split and number of negative split. Plot it."
   ]
  },
  {
   "cell_type": "code",
   "execution_count": 190,
   "metadata": {},
   "outputs": [
    {
     "data": {
      "text/plain": [
       "<matplotlib.axes._subplots.AxesSubplot at 0x139cc588>"
      ]
     },
     "execution_count": 190,
     "metadata": {},
     "output_type": "execute_result"
    },
    {
     "data": {
      "text/plain": [
       "(0.7, 1.8)"
      ]
     },
     "execution_count": 190,
     "metadata": {},
     "output_type": "execute_result"
    },
    {
     "data": {
      "text/plain": [
       "Text(0.5, 0, 'Split Ratio')"
      ]
     },
     "execution_count": 190,
     "metadata": {},
     "output_type": "execute_result"
    },
    {
     "data": {
      "text/plain": [
       "Text(0.5, 1.0, 'Split Distribution (Negative split when < 1)')"
      ]
     },
     "execution_count": 190,
     "metadata": {},
     "output_type": "execute_result"
    },
    {
     "data": {
      "image/png": "[encoded data removed]",
      "text/plain": [
       "<Figure size 432x288 with 1 Axes>"
      ]
     },
     "metadata": {
      "needs_background": "light"
     },
     "output_type": "display_data"
    }
   ],
   "source": [
    "sns.kdeplot(df_new_Moscow.moscow_split_ratio)\n",
    "plt.xlim([0.7,1.8])\n",
    "plt.xlabel('Split Ratio')\n",
    "plt.title('Split Distribution (Negative split when < 1)')\n",
    "# what does y axis represent? is it count?"
   ]
  },
  {
   "cell_type": "code",
   "execution_count": 191,
   "metadata": {},
   "outputs": [
    {
     "data": {
      "text/plain": [
       "[<matplotlib.lines.Line2D at 0x13c8d160>]"
      ]
     },
     "execution_count": 191,
     "metadata": {},
     "output_type": "execute_result"
    },
    {
     "data": {
      "text/plain": [
       "(0.5, 2.2)"
      ]
     },
     "execution_count": 191,
     "metadata": {},
     "output_type": "execute_result"
    },
    {
     "data": {
      "text/plain": [
       "Text(0.5, 0, 'Overall_Ranking')"
      ]
     },
     "execution_count": 191,
     "metadata": {},
     "output_type": "execute_result"
    },
    {
     "data": {
      "text/plain": [
       "Text(0, 0.5, 'Split Ratio')"
      ]
     },
     "execution_count": 191,
     "metadata": {},
     "output_type": "execute_result"
    },
    {
     "data": {
      "text/plain": [
       "Text(0.5, 1.0, 'Split Ratio and performance')"
      ]
     },
     "execution_count": 191,
     "metadata": {},
     "output_type": "execute_result"
    },
    {
     "data": {
      "image/png": "[encoded data removed]",
      "text/plain": [
       "<Figure size 432x288 with 1 Axes>"
      ]
     },
     "metadata": {
      "needs_background": "light"
     },
     "output_type": "display_data"
    }
   ],
   "source": [
    "plt.plot(df_new_Moscow.Overall_Ranking,df_new_Moscow.moscow_split_ratio,'o', alpha = 0.2)\n",
    "plt.ylim([0.5,2.2])\n",
    "plt.xlabel('Overall_Ranking')\n",
    "plt.ylabel('Split Ratio')\n",
    "plt.title('Split Ratio and performance')"
   ]
  },
  {
   "cell_type": "code",
   "execution_count": 192,
   "metadata": {},
   "outputs": [
    {
     "data": {
      "text/plain": [
       "935"
      ]
     },
     "execution_count": 192,
     "metadata": {},
     "output_type": "execute_result"
    }
   ],
   "source": [
    "len(df_new_Moscow[df_new_Moscow.moscow_split_ratio < 1.0])"
   ]
  },
  {
   "cell_type": "code",
   "execution_count": 193,
   "metadata": {},
   "outputs": [
    {
     "data": {
      "text/plain": [
       "10.744656400827395"
      ]
     },
     "execution_count": 193,
     "metadata": {},
     "output_type": "execute_result"
    }
   ],
   "source": [
    "len(df_new_Moscow[df_new_Moscow.moscow_split_ratio < 1.0]) / len(df_new_Moscow) * 100"
   ]
  },
  {
   "cell_type": "markdown",
   "metadata": {},
   "source": [
    "Derive split of top 100 from the above df to optimize."
   ]
  },
  {
   "cell_type": "code",
   "execution_count": 194,
   "metadata": {},
   "outputs": [
    {
     "data": {
      "text/plain": [
       "<matplotlib.axes._subplots.AxesSubplot at 0x13c991d0>"
      ]
     },
     "execution_count": 194,
     "metadata": {},
     "output_type": "execute_result"
    },
    {
     "data": {
      "text/plain": [
       "(0.7, 1.7)"
      ]
     },
     "execution_count": 194,
     "metadata": {},
     "output_type": "execute_result"
    },
    {
     "data": {
      "text/plain": [
       "Text(0.5, 0, 'Split Ratio')"
      ]
     },
     "execution_count": 194,
     "metadata": {},
     "output_type": "execute_result"
    },
    {
     "data": {
      "text/plain": [
       "Text(0.5, 1.0, 'Split Distribution (Negative split when < 1)')"
      ]
     },
     "execution_count": 194,
     "metadata": {},
     "output_type": "execute_result"
    },
    {
     "data": {
      "image/png": "[encoded data removed]",
      "text/plain": [
       "<Figure size 432x288 with 1 Axes>"
      ]
     },
     "metadata": {
      "needs_background": "light"
     },
     "output_type": "display_data"
    }
   ],
   "source": [
    "dfMoscow_100 = df_new_Moscow[:100]\n",
    "dfMoscow_100['split_ratio_100'] = (dfMoscow_100['Marathon'] - dfMoscow_100['Half marathon'])/(dfMoscow_100['Half marathon'])\n",
    "df_split_moscow_100 = dfMoscow_100\n",
    "sns.kdeplot(df_split_moscow_100.split_ratio_100)\n",
    "plt.xlim([0.7,1.7])\n",
    "plt.xlabel('Split Ratio')\n",
    "plt.title('Split Distribution (Negative split when < 1)')"
   ]
  },
  {
   "cell_type": "code",
   "execution_count": 195,
   "metadata": {},
   "outputs": [
    {
     "data": {
      "text/plain": [
       "[<matplotlib.lines.Line2D at 0x14ed58d0>]"
      ]
     },
     "execution_count": 195,
     "metadata": {},
     "output_type": "execute_result"
    },
    {
     "data": {
      "text/plain": [
       "(0.9, 1.3)"
      ]
     },
     "execution_count": 195,
     "metadata": {},
     "output_type": "execute_result"
    },
    {
     "data": {
      "text/plain": [
       "Text(0.5, 0, 'Overall Rank')"
      ]
     },
     "execution_count": 195,
     "metadata": {},
     "output_type": "execute_result"
    },
    {
     "data": {
      "text/plain": [
       "Text(0, 0.5, 'Split')"
      ]
     },
     "execution_count": 195,
     "metadata": {},
     "output_type": "execute_result"
    },
    {
     "data": {
      "text/plain": [
       "Text(0.5, 1.0, 'Split and performance')"
      ]
     },
     "execution_count": 195,
     "metadata": {},
     "output_type": "execute_result"
    },
    {
     "data": {
      "image/png": "[encoded data removed]",
      "text/plain": [
       "<Figure size 432x288 with 1 Axes>"
      ]
     },
     "metadata": {
      "needs_background": "light"
     },
     "output_type": "display_data"
    }
   ],
   "source": [
    "plt.plot(df_split_moscow_100.Overall_Ranking,df_split_moscow_100.split_ratio_100,'o', alpha = 0.2)\n",
    "plt.ylim([0.9,1.3])\n",
    "plt.xlabel('Overall Rank')\n",
    "plt.ylabel('Split')\n",
    "plt.title('Split and performance')"
   ]
  },
  {
   "cell_type": "code",
   "execution_count": 196,
   "metadata": {},
   "outputs": [
    {
     "data": {
      "text/plain": [
       "100"
      ]
     },
     "execution_count": 196,
     "metadata": {},
     "output_type": "execute_result"
    }
   ],
   "source": [
    "len(df_split_moscow_100)"
   ]
  },
  {
   "cell_type": "markdown",
   "metadata": {},
   "source": [
    "Count number of positive split and number of negative split. Plot it."
   ]
  },
  {
   "cell_type": "code",
   "execution_count": 197,
   "metadata": {},
   "outputs": [],
   "source": [
    "import matplotlib.pyplot as plt\n",
    "df_merged_bm['split_ratio'] = (df_merged_bm['FinishTime_sec'] - df_merged_bm['Final_Half_sec'])/(df_merged_bm['Final_Half_sec'])"
   ]
  },
  {
   "cell_type": "code",
   "execution_count": 198,
   "metadata": {},
   "outputs": [
    {
     "data": {
      "text/plain": [
       "pandas.core.series.Series"
      ]
     },
     "execution_count": 198,
     "metadata": {},
     "output_type": "execute_result"
    }
   ],
   "source": [
    "type(df_split.boston_split_ratio)"
   ]
  },
  {
   "cell_type": "code",
   "execution_count": 199,
   "metadata": {},
   "outputs": [
    {
     "data": {
      "text/plain": [
       "(0.2, 2.8)"
      ]
     },
     "execution_count": 199,
     "metadata": {},
     "output_type": "execute_result"
    },
    {
     "data": {
      "text/plain": [
       "Text(0.5, 0, 'Split Ratio')"
      ]
     },
     "execution_count": 199,
     "metadata": {},
     "output_type": "execute_result"
    },
    {
     "data": {
      "text/plain": [
       "Text(0, 0.5, 'Runner Density')"
      ]
     },
     "execution_count": 199,
     "metadata": {},
     "output_type": "execute_result"
    },
    {
     "data": {
      "text/plain": [
       "Text(0.5, 1.0, 'Split Distribution (Negative split when < 1)')"
      ]
     },
     "execution_count": 199,
     "metadata": {},
     "output_type": "execute_result"
    },
    {
     "data": {
      "image/png": "[encoded data removed]",
      "text/plain": [
       "<Figure size 576x576 with 1 Axes>"
      ]
     },
     "metadata": {
      "needs_background": "light"
     },
     "output_type": "display_data"
    }
   ],
   "source": [
    "f, ax = plt.subplots(figsize=(8, 8))\n",
    "ax = sns.kdeplot(df_split.boston_split_ratio, legend=True)\n",
    "ax = sns.kdeplot(df_new_Moscow.moscow_split_ratio, legend=True)\n",
    "#sns.lineplot(x='split_ratio',y='FinishTime_sec',hue='isBoston',data=df_Boston,aspect=2,kind='point')\n",
    "plt.xlim([0.2,2.8])\n",
    "plt.xlabel('Split Ratio')\n",
    "plt.ylabel('Runner Density')\n",
    "plt.title('Split Distribution (Negative split when < 1)')\n",
    "# what does y axis represent? is it count?"
   ]
  },
  {
   "cell_type": "code",
   "execution_count": 200,
   "metadata": {},
   "outputs": [
    {
     "data": {
      "text/plain": [
       "[<matplotlib.lines.Line2D at 0x14fa7be0>]"
      ]
     },
     "execution_count": 200,
     "metadata": {},
     "output_type": "execute_result"
    },
    {
     "data": {
      "text/plain": [
       "(0.5, 2.2)"
      ]
     },
     "execution_count": 200,
     "metadata": {},
     "output_type": "execute_result"
    },
    {
     "data": {
      "text/plain": [
       "Text(0.5, 0, 'Overall_Ranking')"
      ]
     },
     "execution_count": 200,
     "metadata": {},
     "output_type": "execute_result"
    },
    {
     "data": {
      "text/plain": [
       "Text(0, 0.5, 'Split')"
      ]
     },
     "execution_count": 200,
     "metadata": {},
     "output_type": "execute_result"
    },
    {
     "data": {
      "text/plain": [
       "Text(0.5, 1.0, 'Split and performance')"
      ]
     },
     "execution_count": 200,
     "metadata": {},
     "output_type": "execute_result"
    },
    {
     "data": {
      "image/png": "[encoded data removed]",
      "text/plain": [
       "<Figure size 432x288 with 1 Axes>"
      ]
     },
     "metadata": {
      "needs_background": "light"
     },
     "output_type": "display_data"
    }
   ],
   "source": [
    "plt.plot(df_merged_bm.Overall_ranking,df_merged_bm.split_ratio,'o', alpha = 0.2)\n",
    "plt.ylim([0.5,2.2])\n",
    "plt.xlabel('Overall_Ranking')\n",
    "plt.ylabel('Split')\n",
    "plt.title('Split and performance')"
   ]
  },
  {
   "cell_type": "markdown",
   "metadata": {},
   "source": [
    "# <u> Managerial Insights </u>"
   ]
  },
  {
   "cell_type": "markdown",
   "metadata": {},
   "source": [
    "<ul>\n",
    "    <li> After doing the analysis, we observed that to perfrom well in Marathon athletes should use the even split strategy that is athlete should keep his/her pace consistent throughout the marathon instead of conserving the energy for first or second split of the marathon </li>\n",
    "    <li> It is advisable to athlete to practice their chosen strategy in training to help set the realistic expectation and to learn how their body is going to respond. </li>\n",
    "    </ul>"
   ]
  },
  {
   "cell_type": "markdown",
   "metadata": {},
   "source": [
    "# <u>  Interesting Finding 3 Summary </u>"
   ]
  },
  {
   "cell_type": "markdown",
   "metadata": {},
   "source": [
    "<ul>\n",
    "    <li> Summary - Middle aged athletes are faster as compare to younger aged athletes. </li>\n",
    "</ul>"
   ]
  },
  {
   "cell_type": "code",
   "execution_count": 201,
   "metadata": {},
   "outputs": [],
   "source": [
    "df_Boston['binned_age1']= pd.cut(df_Boston.Age,bins=[15,25,35,45,55,70])"
   ]
  },
  {
   "cell_type": "code",
   "execution_count": 202,
   "metadata": {},
   "outputs": [
    {
     "data": {
      "text/plain": [
       "count    14438.000000\n",
       "mean        44.772475\n",
       "std         11.533255\n",
       "min         18.000000\n",
       "25%         36.000000\n",
       "50%         45.000000\n",
       "75%         53.000000\n",
       "max         83.000000\n",
       "Name: Age, dtype: float64"
      ]
     },
     "execution_count": 202,
     "metadata": {},
     "output_type": "execute_result"
    }
   ],
   "source": [
    "df_Boston[df_Boston.Gender == 1.0].Age.describe()      # male dataset details.    #REMOVE!!!"
   ]
  },
  {
   "cell_type": "code",
   "execution_count": 203,
   "metadata": {},
   "outputs": [
    {
     "data": {
      "text/plain": [
       "count    11972.000000\n",
       "mean        39.952974\n",
       "std         10.703554\n",
       "min         18.000000\n",
       "25%         31.000000\n",
       "50%         40.000000\n",
       "75%         48.000000\n",
       "max         84.000000\n",
       "Name: Age, dtype: float64"
      ]
     },
     "execution_count": 203,
     "metadata": {},
     "output_type": "execute_result"
    }
   ],
   "source": [
    "df_Boston[df_Boston.Gender == 0.0].Age.describe() #REMOVE!!!"
   ]
  },
  {
   "cell_type": "markdown",
   "metadata": {},
   "source": [
    "Unexpected as middle aged person more participated as compared to young."
   ]
  },
  {
   "cell_type": "code",
   "execution_count": 204,
   "metadata": {},
   "outputs": [
    {
     "data": {
      "text/plain": [
       "Age\n",
       "45    1127\n",
       "46     976\n",
       "40     926\n",
       "47     843\n",
       "50     815\n",
       "dtype: int64"
      ]
     },
     "execution_count": 204,
     "metadata": {},
     "output_type": "execute_result"
    }
   ],
   "source": [
    "df_Boston.groupby('Age').size().nlargest(5) "
   ]
  },
  {
   "cell_type": "code",
   "execution_count": 205,
   "metadata": {},
   "outputs": [
    {
     "data": {
      "text/plain": [
       "Gender\n",
       "0.0    11972\n",
       "1.0    14438\n",
       "dtype: int64"
      ]
     },
     "execution_count": 205,
     "metadata": {},
     "output_type": "execute_result"
    }
   ],
   "source": [
    "df_Boston.groupby('Gender').size()"
   ]
  },
  {
   "cell_type": "code",
   "execution_count": 206,
   "metadata": {},
   "outputs": [
    {
     "data": {
      "text/plain": [
       "Gender  binned_age1\n",
       "0.0     (15, 25]       1067\n",
       "        (25, 35]       3350\n",
       "        (35, 45]       3780\n",
       "        (45, 55]       2823\n",
       "        (55, 70]        932\n",
       "1.0     (15, 25]        691\n",
       "        (25, 35]       2710\n",
       "        (35, 45]       3991\n",
       "        (45, 55]       4316\n",
       "        (55, 70]       2623\n",
       "dtype: int64"
      ]
     },
     "execution_count": 206,
     "metadata": {},
     "output_type": "execute_result"
    }
   ],
   "source": [
    "df_Boston.groupby(['Gender','binned_age1']).size()"
   ]
  },
  {
   "cell_type": "code",
   "execution_count": 207,
   "metadata": {},
   "outputs": [
    {
     "data": {
      "text/plain": [
       "<matplotlib.axes._subplots.AxesSubplot at 0x14fe5978>"
      ]
     },
     "execution_count": 207,
     "metadata": {},
     "output_type": "execute_result"
    },
    {
     "data": {
      "image/png": "[encoded data removed]",
      "text/plain": [
       "<Figure size 432x288 with 1 Axes>"
      ]
     },
     "metadata": {
      "needs_background": "light"
     },
     "output_type": "display_data"
    }
   ],
   "source": [
    "sns.countplot(x='binned_age1',hue='Gender',data=df_Boston)"
   ]
  },
  {
   "cell_type": "code",
   "execution_count": 208,
   "metadata": {},
   "outputs": [],
   "source": [
    "df_Boston['binned_age2']= pd.cut(df_Boston.Age,bins=[15,20,25,29,35,40,45,50,70])"
   ]
  },
  {
   "cell_type": "code",
   "execution_count": 209,
   "metadata": {},
   "outputs": [
    {
     "data": {
      "text/plain": [
       "<seaborn.axisgrid.FacetGrid at 0x14f8a240>"
      ]
     },
     "execution_count": 209,
     "metadata": {},
     "output_type": "execute_result"
    },
    {
     "data": {
      "image/png": "[encoded data removed]",
      "text/plain": [
       "<Figure size 771.875x360 with 1 Axes>"
      ]
     },
     "metadata": {
      "needs_background": "light"
     },
     "output_type": "display_data"
    }
   ],
   "source": [
    "sns.factorplot(x='binned_age2',y='FinishTime_sec',hue='Gender',data=df_Boston,aspect=2,kind='point')"
   ]
  },
  {
   "cell_type": "markdown",
   "metadata": {},
   "source": [
    "Older and mature people perform the best and are the faster marathon runner. Older and mature people also participated\n",
    "more than young people and are more health considerate."
   ]
  },
  {
   "cell_type": "code",
   "execution_count": 210,
   "metadata": {},
   "outputs": [
    {
     "data": {
      "text/html": [
       "<div>\n",
       "<style scoped>\n",
       "    .dataframe tbody tr th:only-of-type {\n",
       "        vertical-align: middle;\n",
       "    }\n",
       "\n",
       "    .dataframe tbody tr th {\n",
       "        vertical-align: top;\n",
       "    }\n",
       "\n",
       "    .dataframe thead th {\n",
       "        text-align: right;\n",
       "    }\n",
       "</style>\n",
       "<table border=\"1\" class=\"dataframe\">\n",
       "  <thead>\n",
       "    <tr style=\"text-align: right;\">\n",
       "      <th></th>\n",
       "      <th>BibNo</th>\n",
       "      <th>Finish_Time_Sec</th>\n",
       "      <th>Pace_Sec</th>\n",
       "      <th>Pace_Minpkm</th>\n",
       "      <th>Half_Pace_Sec</th>\n",
       "      <th>Half_Pace_Minpkm</th>\n",
       "      <th>Gender</th>\n",
       "      <th>Age</th>\n",
       "      <th>Name</th>\n",
       "      <th>City</th>\n",
       "      <th>Country</th>\n",
       "      <th>10 km</th>\n",
       "      <th>Half marathon</th>\n",
       "      <th>Marathon</th>\n",
       "      <th>Overall_Ranking</th>\n",
       "      <th>moscow_split_ratio</th>\n",
       "    </tr>\n",
       "  </thead>\n",
       "  <tbody>\n",
       "    <tr>\n",
       "      <th>0</th>\n",
       "      <td>3</td>\n",
       "      <td>8122.0</td>\n",
       "      <td>192.487261</td>\n",
       "      <td>3:12 min/km</td>\n",
       "      <td>189.880318</td>\n",
       "      <td>3:09 min/km</td>\n",
       "      <td>Male</td>\n",
       "      <td>31</td>\n",
       "      <td>Stepan Kiselev</td>\n",
       "      <td>Kazan'</td>\n",
       "      <td>RUS</td>\n",
       "      <td>1899.0</td>\n",
       "      <td>4006.0</td>\n",
       "      <td>8122.0</td>\n",
       "      <td>1</td>\n",
       "      <td>1.027459</td>\n",
       "    </tr>\n",
       "    <tr>\n",
       "      <th>1</th>\n",
       "      <td>12</td>\n",
       "      <td>8161.0</td>\n",
       "      <td>193.411542</td>\n",
       "      <td>3:13 min/km</td>\n",
       "      <td>189.738121</td>\n",
       "      <td>3:09 min/km</td>\n",
       "      <td>Male</td>\n",
       "      <td>32</td>\n",
       "      <td>Aleksey Troshkin</td>\n",
       "      <td>Saransk</td>\n",
       "      <td>RUS</td>\n",
       "      <td>1905.0</td>\n",
       "      <td>4003.0</td>\n",
       "      <td>8161.0</td>\n",
       "      <td>2</td>\n",
       "      <td>1.038721</td>\n",
       "    </tr>\n",
       "    <tr>\n",
       "      <th>2</th>\n",
       "      <td>10</td>\n",
       "      <td>8394.0</td>\n",
       "      <td>198.933523</td>\n",
       "      <td>3:18 min/km</td>\n",
       "      <td>188.268752</td>\n",
       "      <td>3:08 min/km</td>\n",
       "      <td>Male</td>\n",
       "      <td>27</td>\n",
       "      <td>Artem Aplachkin</td>\n",
       "      <td>Barnaul</td>\n",
       "      <td>RUS</td>\n",
       "      <td>1879.0</td>\n",
       "      <td>3972.0</td>\n",
       "      <td>8394.0</td>\n",
       "      <td>3</td>\n",
       "      <td>1.113293</td>\n",
       "    </tr>\n",
       "    <tr>\n",
       "      <th>3</th>\n",
       "      <td>15008</td>\n",
       "      <td>8416.0</td>\n",
       "      <td>199.454912</td>\n",
       "      <td>3:19 min/km</td>\n",
       "      <td>195.094205</td>\n",
       "      <td>3:15 min/km</td>\n",
       "      <td>Male</td>\n",
       "      <td>29</td>\n",
       "      <td>Sergey Popov</td>\n",
       "      <td>Voronezh</td>\n",
       "      <td>RUS</td>\n",
       "      <td>1960.0</td>\n",
       "      <td>4116.0</td>\n",
       "      <td>8416.0</td>\n",
       "      <td>4</td>\n",
       "      <td>1.044704</td>\n",
       "    </tr>\n",
       "    <tr>\n",
       "      <th>4</th>\n",
       "      <td>4</td>\n",
       "      <td>8467.0</td>\n",
       "      <td>200.663586</td>\n",
       "      <td>3:20 min/km</td>\n",
       "      <td>186.894182</td>\n",
       "      <td>3:06 min/km</td>\n",
       "      <td>Male</td>\n",
       "      <td>36</td>\n",
       "      <td>Dmitriy Safronov</td>\n",
       "      <td>Moskva</td>\n",
       "      <td>RUS</td>\n",
       "      <td>1876.0</td>\n",
       "      <td>3943.0</td>\n",
       "      <td>8467.0</td>\n",
       "      <td>5</td>\n",
       "      <td>1.147350</td>\n",
       "    </tr>\n",
       "  </tbody>\n",
       "</table>\n",
       "</div>"
      ],
      "text/plain": [
       "   BibNo  Finish_Time_Sec    Pace_Sec  Pace_Minpkm  Half_Pace_Sec  \\\n",
       "0      3           8122.0  192.487261  3:12 min/km     189.880318   \n",
       "1     12           8161.0  193.411542  3:13 min/km     189.738121   \n",
       "2     10           8394.0  198.933523  3:18 min/km     188.268752   \n",
       "3  15008           8416.0  199.454912  3:19 min/km     195.094205   \n",
       "4      4           8467.0  200.663586  3:20 min/km     186.894182   \n",
       "\n",
       "  Half_Pace_Minpkm Gender  Age              Name      City Country   10 km  \\\n",
       "0      3:09 min/km   Male   31    Stepan Kiselev    Kazan'     RUS  1899.0   \n",
       "1      3:09 min/km   Male   32  Aleksey Troshkin   Saransk     RUS  1905.0   \n",
       "2      3:08 min/km   Male   27   Artem Aplachkin   Barnaul     RUS  1879.0   \n",
       "3      3:15 min/km   Male   29      Sergey Popov  Voronezh     RUS  1960.0   \n",
       "4      3:06 min/km   Male   36  Dmitriy Safronov    Moskva     RUS  1876.0   \n",
       "\n",
       "   Half marathon  Marathon  Overall_Ranking  moscow_split_ratio  \n",
       "0         4006.0    8122.0                1            1.027459  \n",
       "1         4003.0    8161.0                2            1.038721  \n",
       "2         3972.0    8394.0                3            1.113293  \n",
       "3         4116.0    8416.0                4            1.044704  \n",
       "4         3943.0    8467.0                5            1.147350  "
      ]
     },
     "execution_count": 210,
     "metadata": {},
     "output_type": "execute_result"
    }
   ],
   "source": [
    "df_new_Moscow.head()"
   ]
  },
  {
   "cell_type": "code",
   "execution_count": 211,
   "metadata": {},
   "outputs": [],
   "source": [
    "df_new_Moscow['binned_age1']= pd.cut(df_new_Moscow.Age,bins=[15,25,30,35,40,50,70])"
   ]
  },
  {
   "cell_type": "code",
   "execution_count": 212,
   "metadata": {},
   "outputs": [
    {
     "data": {
      "text/plain": [
       "Age\n",
       "31    485\n",
       "30    482\n",
       "33    468\n",
       "32    457\n",
       "34    450\n",
       "35    434\n",
       "29    408\n",
       "28    372\n",
       "36    360\n",
       "37    340\n",
       "dtype: int64"
      ]
     },
     "execution_count": 212,
     "metadata": {},
     "output_type": "execute_result"
    }
   ],
   "source": [
    "df_new_Moscow.groupby('Age').size().nlargest(10)"
   ]
  },
  {
   "cell_type": "code",
   "execution_count": 213,
   "metadata": {},
   "outputs": [
    {
     "data": {
      "text/plain": [
       "Gender\n",
       "Female    1491\n",
       "Male      7211\n",
       "dtype: int64"
      ]
     },
     "execution_count": 213,
     "metadata": {},
     "output_type": "execute_result"
    }
   ],
   "source": [
    "df_new_Moscow.groupby(['Gender']).size()"
   ]
  },
  {
   "cell_type": "code",
   "execution_count": 214,
   "metadata": {},
   "outputs": [
    {
     "data": {
      "text/plain": [
       "Gender  binned_age1\n",
       "Female  (15, 25]        183\n",
       "        (25, 30]        403\n",
       "        (30, 35]        395\n",
       "        (35, 40]        238\n",
       "        (40, 50]        207\n",
       "        (50, 70]         63\n",
       "Male    (15, 25]        530\n",
       "        (25, 30]       1401\n",
       "        (30, 35]       1899\n",
       "        (35, 40]       1335\n",
       "        (40, 50]       1409\n",
       "        (50, 70]        616\n",
       "dtype: int64"
      ]
     },
     "execution_count": 214,
     "metadata": {},
     "output_type": "execute_result"
    }
   ],
   "source": [
    "df_new_Moscow.groupby(['Gender','binned_age1']).size()"
   ]
  },
  {
   "cell_type": "code",
   "execution_count": 215,
   "metadata": {},
   "outputs": [
    {
     "data": {
      "text/plain": [
       "<matplotlib.axes._subplots.AxesSubplot at 0x16cc04a8>"
      ]
     },
     "execution_count": 215,
     "metadata": {},
     "output_type": "execute_result"
    },
    {
     "data": {
      "image/png": "[encoded data removed]",
      "text/plain": [
       "<Figure size 432x288 with 1 Axes>"
      ]
     },
     "metadata": {
      "needs_background": "light"
     },
     "output_type": "display_data"
    }
   ],
   "source": [
    "sns.countplot(x='binned_age1',hue='Gender',data=df_new_Moscow)  # color is opposite for male/female as compared to other graphs."
   ]
  },
  {
   "cell_type": "code",
   "execution_count": 216,
   "metadata": {},
   "outputs": [],
   "source": [
    "df_new_Moscow['binned_age2']= pd.cut(df_new_Moscow.Age,bins=[20,25,30,35,40,45,50,70])"
   ]
  },
  {
   "cell_type": "code",
   "execution_count": 217,
   "metadata": {},
   "outputs": [
    {
     "data": {
      "text/plain": [
       "<seaborn.axisgrid.FacetGrid at 0x16cc0908>"
      ]
     },
     "execution_count": 217,
     "metadata": {},
     "output_type": "execute_result"
    },
    {
     "data": {
      "image/png": "[encoded data removed]",
      "text/plain": [
       "<Figure size 1152.62x360 with 1 Axes>"
      ]
     },
     "metadata": {
      "needs_background": "light"
     },
     "output_type": "display_data"
    }
   ],
   "source": [
    "sns.factorplot(x='binned_age2',y='Marathon',hue='Gender',data=df_new_Moscow,aspect=3,kind='point')"
   ]
  },
  {
   "cell_type": "markdown",
   "metadata": {},
   "source": [
    "Analysis on combined dataset."
   ]
  },
  {
   "cell_type": "code",
   "execution_count": 218,
   "metadata": {},
   "outputs": [],
   "source": [
    "df_merged_bm['binned_age1']= pd.cut(df_merged_bm.Age,bins=[15,25,30,35,40,45,50,60,70])"
   ]
  },
  {
   "cell_type": "code",
   "execution_count": 219,
   "metadata": {},
   "outputs": [
    {
     "data": {
      "text/plain": [
       "Age\n",
       "45    1275\n",
       "35    1234\n",
       "40    1193\n",
       "46    1150\n",
       "30    1111\n",
       "36    1093\n",
       "31    1068\n",
       "33    1059\n",
       "29    1044\n",
       "41    1034\n",
       "dtype: int64"
      ]
     },
     "execution_count": 219,
     "metadata": {},
     "output_type": "execute_result"
    }
   ],
   "source": [
    "df_merged_bm.groupby('Age').size().nlargest(10)"
   ]
  },
  {
   "cell_type": "code",
   "execution_count": 220,
   "metadata": {},
   "outputs": [
    {
     "data": {
      "text/plain": [
       "Gender\n",
       "0.0    13463\n",
       "1.0    21649\n",
       "dtype: int64"
      ]
     },
     "execution_count": 220,
     "metadata": {},
     "output_type": "execute_result"
    }
   ],
   "source": [
    "df_merged_bm.groupby(['Gender']).size()"
   ]
  },
  {
   "cell_type": "code",
   "execution_count": 221,
   "metadata": {},
   "outputs": [
    {
     "data": {
      "text/plain": [
       "Gender  binned_age1\n",
       "0.0     (15, 25]       1250\n",
       "        (25, 30]       2187\n",
       "        (30, 35]       1961\n",
       "        (35, 40]       2126\n",
       "        (40, 45]       2026\n",
       "        (45, 50]       1774\n",
       "        (50, 60]       1763\n",
       "        (60, 70]        354\n",
       "1.0     (15, 25]       1221\n",
       "        (25, 30]       2600\n",
       "        (30, 35]       3410\n",
       "        (35, 40]       3175\n",
       "        (40, 45]       3000\n",
       "        (45, 50]       2963\n",
       "        (50, 60]       3834\n",
       "        (60, 70]       1318\n",
       "dtype: int64"
      ]
     },
     "execution_count": 221,
     "metadata": {},
     "output_type": "execute_result"
    }
   ],
   "source": [
    "df_merged_bm.groupby(['Gender','binned_age1']).size()"
   ]
  },
  {
   "cell_type": "markdown",
   "metadata": {},
   "source": [
    "Age wise participation across boston and moscow"
   ]
  },
  {
   "cell_type": "code",
   "execution_count": 222,
   "metadata": {},
   "outputs": [
    {
     "data": {
      "text/plain": [
       "<matplotlib.axes._subplots.AxesSubplot at 0x13c5cf28>"
      ]
     },
     "execution_count": 222,
     "metadata": {},
     "output_type": "execute_result"
    },
    {
     "data": {
      "image/png": "[encoded data removed]",
      "text/plain": [
       "<Figure size 432x288 with 1 Axes>"
      ]
     },
     "metadata": {
      "needs_background": "light"
     },
     "output_type": "display_data"
    }
   ],
   "source": [
    "sns.countplot(x='binned_age1',hue='isBoston',data=df_merged_bm)"
   ]
  },
  {
   "cell_type": "code",
   "execution_count": 223,
   "metadata": {},
   "outputs": [
    {
     "data": {
      "text/plain": [
       "<matplotlib.axes._subplots.AxesSubplot at 0x15239f60>"
      ]
     },
     "execution_count": 223,
     "metadata": {},
     "output_type": "execute_result"
    },
    {
     "data": {
      "image/png": "[encoded data removed]",
      "text/plain": [
       "<Figure size 432x288 with 1 Axes>"
      ]
     },
     "metadata": {
      "needs_background": "light"
     },
     "output_type": "display_data"
    }
   ],
   "source": [
    "sns.countplot(x='binned_age1',hue='isBoston',data=df_merged_bm[df_merged_bm.Gender == 1.0])"
   ]
  },
  {
   "cell_type": "markdown",
   "metadata": {},
   "source": [
    "Age across boston and moscow for binned ages BUT only for females"
   ]
  },
  {
   "cell_type": "code",
   "execution_count": 224,
   "metadata": {},
   "outputs": [
    {
     "data": {
      "text/plain": [
       "<matplotlib.axes._subplots.AxesSubplot at 0x16344cf8>"
      ]
     },
     "execution_count": 224,
     "metadata": {},
     "output_type": "execute_result"
    },
    {
     "data": {
      "image/png": "[encoded data removed]",
      "text/plain": [
       "<Figure size 432x288 with 1 Axes>"
      ]
     },
     "metadata": {
      "needs_background": "light"
     },
     "output_type": "display_data"
    }
   ],
   "source": [
    "sns.countplot(x='binned_age1',hue='isBoston',data=df_merged_bm[df_merged_bm.Gender == 0.0])"
   ]
  },
  {
   "cell_type": "code",
   "execution_count": 225,
   "metadata": {},
   "outputs": [],
   "source": [
    "#df_new_Moscow[(df_new_Moscow.Age > 45) & (df_new_Moscowdd.Gender == 'Female')][['Age', 'Marathon']]"
   ]
  },
  {
   "cell_type": "markdown",
   "metadata": {},
   "source": [
    "Binned age for combined df"
   ]
  },
  {
   "cell_type": "code",
   "execution_count": 226,
   "metadata": {},
   "outputs": [],
   "source": [
    "df_merged_bm['binned_age']=pd.cut(df_merged_bm.Age,bins=[20,25,30,35,40,45,50,70])"
   ]
  },
  {
   "cell_type": "markdown",
   "metadata": {},
   "source": [
    "Plot to show finish time across both marathons for binned ages."
   ]
  },
  {
   "cell_type": "code",
   "execution_count": 227,
   "metadata": {},
   "outputs": [
    {
     "data": {
      "text/plain": [
       "<seaborn.axisgrid.FacetGrid at 0x1525f668>"
      ]
     },
     "execution_count": 227,
     "metadata": {},
     "output_type": "execute_result"
    },
    {
     "data": {
      "image/png": "[encoded data removed]",
      "text/plain": [
       "<Figure size 771.875x360 with 1 Axes>"
      ]
     },
     "metadata": {
      "needs_background": "light"
     },
     "output_type": "display_data"
    }
   ],
   "source": [
    "sns.factorplot(x='binned_age',y='FinishTime_sec',hue='isBoston',data=df_merged_bm,aspect=2,kind='point')"
   ]
  },
  {
   "cell_type": "markdown",
   "metadata": {},
   "source": [
    "Finish time across boston and moscow for binned ages BUT only for males."
   ]
  },
  {
   "cell_type": "code",
   "execution_count": null,
   "metadata": {},
   "outputs": [],
   "source": []
  },
  {
   "cell_type": "code",
   "execution_count": 228,
   "metadata": {},
   "outputs": [
    {
     "data": {
      "text/plain": [
       "<seaborn.axisgrid.FacetGrid at 0x16761da0>"
      ]
     },
     "execution_count": 228,
     "metadata": {},
     "output_type": "execute_result"
    },
    {
     "data": {
      "image/png": "[encoded data removed]",
      "text/plain": [
       "<Figure size 771.875x360 with 1 Axes>"
      ]
     },
     "metadata": {
      "needs_background": "light"
     },
     "output_type": "display_data"
    }
   ],
   "source": [
    "sns.factorplot(x='binned_age',y='FinishTime_sec',hue='isBoston',data=df_merged_bm[df_merged_bm.Gender == 1.0],aspect=2,kind='point')"
   ]
  },
  {
   "cell_type": "markdown",
   "metadata": {},
   "source": [
    "Finish time across boston and moscow for binned ages BUT only for females."
   ]
  },
  {
   "cell_type": "code",
   "execution_count": 229,
   "metadata": {},
   "outputs": [
    {
     "data": {
      "text/plain": [
       "<seaborn.axisgrid.FacetGrid at 0x16e1efd0>"
      ]
     },
     "execution_count": 229,
     "metadata": {},
     "output_type": "execute_result"
    },
    {
     "data": {
      "image/png": "[encoded data removed]",
      "text/plain": [
       "<Figure size 771.875x360 with 1 Axes>"
      ]
     },
     "metadata": {
      "needs_background": "light"
     },
     "output_type": "display_data"
    }
   ],
   "source": [
    "sns.factorplot(x='binned_age',y='FinishTime_sec',hue='isBoston',data=df_merged_bm[df_merged_bm.Gender == 0.0],aspect=2,kind='point')"
   ]
  },
  {
   "cell_type": "markdown",
   "metadata": {},
   "source": [
    "# <u> Managerial Insights</u>"
   ]
  },
  {
   "cell_type": "markdown",
   "metadata": {},
   "source": [
    "<ul>\n",
    "    <li> It is advisible to younger age athletes to focus on improving the endurance </li>\n",
    "</ul>"
   ]
  },
  {
   "cell_type": "markdown",
   "metadata": {},
   "source": [
    "## Decision Tree"
   ]
  },
  {
   "cell_type": "code",
   "execution_count": 230,
   "metadata": {
    "scrolled": true
   },
   "outputs": [
    {
     "data": {
      "text/html": [
       "<div>\n",
       "<style scoped>\n",
       "    .dataframe tbody tr th:only-of-type {\n",
       "        vertical-align: middle;\n",
       "    }\n",
       "\n",
       "    .dataframe tbody tr th {\n",
       "        vertical-align: top;\n",
       "    }\n",
       "\n",
       "    .dataframe thead th {\n",
       "        text-align: right;\n",
       "    }\n",
       "</style>\n",
       "<table border=\"1\" class=\"dataframe\">\n",
       "  <thead>\n",
       "    <tr style=\"text-align: right;\">\n",
       "      <th></th>\n",
       "      <th>BibNo</th>\n",
       "      <th>Name</th>\n",
       "      <th>Age</th>\n",
       "      <th>Gender</th>\n",
       "      <th>City</th>\n",
       "      <th>State</th>\n",
       "      <th>Country</th>\n",
       "      <th>10K</th>\n",
       "      <th>Half</th>\n",
       "      <th>40K</th>\n",
       "      <th>Pace_minpermile</th>\n",
       "      <th>Finish_Time</th>\n",
       "      <th>Overall_ranking</th>\n",
       "      <th>Gender_ranking</th>\n",
       "      <th>Division_ranking</th>\n",
       "      <th>Final_10k_sec</th>\n",
       "      <th>Final_Half_sec</th>\n",
       "      <th>Final_40k_sec</th>\n",
       "      <th>FinishTime_sec</th>\n",
       "      <th>boston_split_ratio</th>\n",
       "      <th>binned_age1</th>\n",
       "      <th>binned_age2</th>\n",
       "    </tr>\n",
       "  </thead>\n",
       "  <tbody>\n",
       "    <tr>\n",
       "      <th>0</th>\n",
       "      <td>11</td>\n",
       "      <td>Kirui, Geoffrey</td>\n",
       "      <td>24</td>\n",
       "      <td>1.0</td>\n",
       "      <td>Keringet</td>\n",
       "      <td>NaN</td>\n",
       "      <td>KEN</td>\n",
       "      <td>0:30:28</td>\n",
       "      <td>1:04:35</td>\n",
       "      <td>2:02:53</td>\n",
       "      <td>0:04:57</td>\n",
       "      <td>2:09:37</td>\n",
       "      <td>1</td>\n",
       "      <td>1</td>\n",
       "      <td>1</td>\n",
       "      <td>1828</td>\n",
       "      <td>3875</td>\n",
       "      <td>7373</td>\n",
       "      <td>7777</td>\n",
       "      <td>1.006968</td>\n",
       "      <td>(15, 25]</td>\n",
       "      <td>(20, 25]</td>\n",
       "    </tr>\n",
       "    <tr>\n",
       "      <th>1</th>\n",
       "      <td>17</td>\n",
       "      <td>Rupp, Galen</td>\n",
       "      <td>30</td>\n",
       "      <td>1.0</td>\n",
       "      <td>Portland</td>\n",
       "      <td>OR</td>\n",
       "      <td>USA</td>\n",
       "      <td>0:30:27</td>\n",
       "      <td>1:04:35</td>\n",
       "      <td>2:03:14</td>\n",
       "      <td>0:04:58</td>\n",
       "      <td>2:09:58</td>\n",
       "      <td>2</td>\n",
       "      <td>2</td>\n",
       "      <td>2</td>\n",
       "      <td>1827</td>\n",
       "      <td>3875</td>\n",
       "      <td>7394</td>\n",
       "      <td>7798</td>\n",
       "      <td>1.012387</td>\n",
       "      <td>(25, 35]</td>\n",
       "      <td>(29, 35]</td>\n",
       "    </tr>\n",
       "    <tr>\n",
       "      <th>2</th>\n",
       "      <td>23</td>\n",
       "      <td>Osako, Suguru</td>\n",
       "      <td>25</td>\n",
       "      <td>1.0</td>\n",
       "      <td>Machida-City</td>\n",
       "      <td>NaN</td>\n",
       "      <td>JPN</td>\n",
       "      <td>0:30:29</td>\n",
       "      <td>1:04:36</td>\n",
       "      <td>2:03:38</td>\n",
       "      <td>0:04:59</td>\n",
       "      <td>2:10:28</td>\n",
       "      <td>3</td>\n",
       "      <td>3</td>\n",
       "      <td>3</td>\n",
       "      <td>1829</td>\n",
       "      <td>3876</td>\n",
       "      <td>7418</td>\n",
       "      <td>7828</td>\n",
       "      <td>1.019608</td>\n",
       "      <td>(15, 25]</td>\n",
       "      <td>(20, 25]</td>\n",
       "    </tr>\n",
       "    <tr>\n",
       "      <th>3</th>\n",
       "      <td>21</td>\n",
       "      <td>Biwott, Shadrack</td>\n",
       "      <td>32</td>\n",
       "      <td>1.0</td>\n",
       "      <td>Mammoth Lakes</td>\n",
       "      <td>CA</td>\n",
       "      <td>USA</td>\n",
       "      <td>0:30:29</td>\n",
       "      <td>1:04:45</td>\n",
       "      <td>2:04:35</td>\n",
       "      <td>0:05:03</td>\n",
       "      <td>2:12:08</td>\n",
       "      <td>4</td>\n",
       "      <td>4</td>\n",
       "      <td>4</td>\n",
       "      <td>1829</td>\n",
       "      <td>3885</td>\n",
       "      <td>7475</td>\n",
       "      <td>7928</td>\n",
       "      <td>1.040669</td>\n",
       "      <td>(25, 35]</td>\n",
       "      <td>(29, 35]</td>\n",
       "    </tr>\n",
       "    <tr>\n",
       "      <th>4</th>\n",
       "      <td>9</td>\n",
       "      <td>Chebet, Wilson</td>\n",
       "      <td>31</td>\n",
       "      <td>1.0</td>\n",
       "      <td>Marakwet</td>\n",
       "      <td>NaN</td>\n",
       "      <td>KEN</td>\n",
       "      <td>0:30:28</td>\n",
       "      <td>1:04:35</td>\n",
       "      <td>2:05:00</td>\n",
       "      <td>0:05:04</td>\n",
       "      <td>2:12:35</td>\n",
       "      <td>5</td>\n",
       "      <td>5</td>\n",
       "      <td>5</td>\n",
       "      <td>1828</td>\n",
       "      <td>3875</td>\n",
       "      <td>7500</td>\n",
       "      <td>7955</td>\n",
       "      <td>1.052903</td>\n",
       "      <td>(25, 35]</td>\n",
       "      <td>(29, 35]</td>\n",
       "    </tr>\n",
       "  </tbody>\n",
       "</table>\n",
       "</div>"
      ],
      "text/plain": [
       "  BibNo              Name  Age  Gender           City State Country      10K  \\\n",
       "0    11   Kirui, Geoffrey   24     1.0       Keringet   NaN     KEN  0:30:28   \n",
       "1    17       Rupp, Galen   30     1.0       Portland    OR     USA  0:30:27   \n",
       "2    23     Osako, Suguru   25     1.0   Machida-City   NaN     JPN  0:30:29   \n",
       "3    21  Biwott, Shadrack   32     1.0  Mammoth Lakes    CA     USA  0:30:29   \n",
       "4     9    Chebet, Wilson   31     1.0       Marakwet   NaN     KEN  0:30:28   \n",
       "\n",
       "      Half      40K Pace_minpermile Finish_Time  Overall_ranking  \\\n",
       "0  1:04:35  2:02:53         0:04:57     2:09:37                1   \n",
       "1  1:04:35  2:03:14         0:04:58     2:09:58                2   \n",
       "2  1:04:36  2:03:38         0:04:59     2:10:28                3   \n",
       "3  1:04:45  2:04:35         0:05:03     2:12:08                4   \n",
       "4  1:04:35  2:05:00         0:05:04     2:12:35                5   \n",
       "\n",
       "   Gender_ranking  Division_ranking  Final_10k_sec  Final_Half_sec  \\\n",
       "0               1                 1           1828            3875   \n",
       "1               2                 2           1827            3875   \n",
       "2               3                 3           1829            3876   \n",
       "3               4                 4           1829            3885   \n",
       "4               5                 5           1828            3875   \n",
       "\n",
       "   Final_40k_sec  FinishTime_sec  boston_split_ratio binned_age1 binned_age2  \n",
       "0           7373            7777            1.006968    (15, 25]    (20, 25]  \n",
       "1           7394            7798            1.012387    (25, 35]    (29, 35]  \n",
       "2           7418            7828            1.019608    (15, 25]    (20, 25]  \n",
       "3           7475            7928            1.040669    (25, 35]    (29, 35]  \n",
       "4           7500            7955            1.052903    (25, 35]    (29, 35]  "
      ]
     },
     "execution_count": 230,
     "metadata": {},
     "output_type": "execute_result"
    }
   ],
   "source": [
    "df_Boston.head()"
   ]
  },
  {
   "cell_type": "code",
   "execution_count": 231,
   "metadata": {},
   "outputs": [],
   "source": [
    "dt = tree.DecisionTreeRegressor(max_depth=2)"
   ]
  },
  {
   "cell_type": "code",
   "execution_count": 232,
   "metadata": {},
   "outputs": [],
   "source": [
    "df_bos_dec_tree = df_Boston.copy()"
   ]
  },
  {
   "cell_type": "code",
   "execution_count": 233,
   "metadata": {},
   "outputs": [],
   "source": [
    "df_bos_dec_tree = pd.get_dummies(data=df_bos_dec_tree,columns=['Country'])"
   ]
  },
  {
   "cell_type": "code",
   "execution_count": 234,
   "metadata": {},
   "outputs": [
    {
     "data": {
      "text/html": [
       "<div>\n",
       "<style scoped>\n",
       "    .dataframe tbody tr th:only-of-type {\n",
       "        vertical-align: middle;\n",
       "    }\n",
       "\n",
       "    .dataframe tbody tr th {\n",
       "        vertical-align: top;\n",
       "    }\n",
       "\n",
       "    .dataframe thead th {\n",
       "        text-align: right;\n",
       "    }\n",
       "</style>\n",
       "<table border=\"1\" class=\"dataframe\">\n",
       "  <thead>\n",
       "    <tr style=\"text-align: right;\">\n",
       "      <th></th>\n",
       "      <th>Gender</th>\n",
       "      <th>Final_10k_sec</th>\n",
       "      <th>Final_Half_sec</th>\n",
       "      <th>FinishTime_sec</th>\n",
       "      <th>Country_ALG</th>\n",
       "      <th>Country_AND</th>\n",
       "      <th>Country_ARG</th>\n",
       "      <th>Country_AUS</th>\n",
       "      <th>Country_AUT</th>\n",
       "      <th>Country_BAR</th>\n",
       "      <th>Country_BDI</th>\n",
       "      <th>Country_BEL</th>\n",
       "      <th>Country_BER</th>\n",
       "      <th>Country_BRA</th>\n",
       "      <th>Country_BRN</th>\n",
       "      <th>...</th>\n",
       "      <th>Country_SRB</th>\n",
       "      <th>Country_SUI</th>\n",
       "      <th>Country_SVK</th>\n",
       "      <th>Country_SWE</th>\n",
       "      <th>Country_TCA</th>\n",
       "      <th>Country_THA</th>\n",
       "      <th>Country_TRI</th>\n",
       "      <th>Country_TUR</th>\n",
       "      <th>Country_TWN</th>\n",
       "      <th>Country_UAE</th>\n",
       "      <th>Country_UKR</th>\n",
       "      <th>Country_URU</th>\n",
       "      <th>Country_USA</th>\n",
       "      <th>Country_VEN</th>\n",
       "      <th>Country_ZIM</th>\n",
       "    </tr>\n",
       "  </thead>\n",
       "  <tbody>\n",
       "    <tr>\n",
       "      <th>0</th>\n",
       "      <td>1.0</td>\n",
       "      <td>1828</td>\n",
       "      <td>3875</td>\n",
       "      <td>7777</td>\n",
       "      <td>0</td>\n",
       "      <td>0</td>\n",
       "      <td>0</td>\n",
       "      <td>0</td>\n",
       "      <td>0</td>\n",
       "      <td>0</td>\n",
       "      <td>0</td>\n",
       "      <td>0</td>\n",
       "      <td>0</td>\n",
       "      <td>0</td>\n",
       "      <td>0</td>\n",
       "      <td>...</td>\n",
       "      <td>0</td>\n",
       "      <td>0</td>\n",
       "      <td>0</td>\n",
       "      <td>0</td>\n",
       "      <td>0</td>\n",
       "      <td>0</td>\n",
       "      <td>0</td>\n",
       "      <td>0</td>\n",
       "      <td>0</td>\n",
       "      <td>0</td>\n",
       "      <td>0</td>\n",
       "      <td>0</td>\n",
       "      <td>0</td>\n",
       "      <td>0</td>\n",
       "      <td>0</td>\n",
       "    </tr>\n",
       "    <tr>\n",
       "      <th>1</th>\n",
       "      <td>1.0</td>\n",
       "      <td>1827</td>\n",
       "      <td>3875</td>\n",
       "      <td>7798</td>\n",
       "      <td>0</td>\n",
       "      <td>0</td>\n",
       "      <td>0</td>\n",
       "      <td>0</td>\n",
       "      <td>0</td>\n",
       "      <td>0</td>\n",
       "      <td>0</td>\n",
       "      <td>0</td>\n",
       "      <td>0</td>\n",
       "      <td>0</td>\n",
       "      <td>0</td>\n",
       "      <td>...</td>\n",
       "      <td>0</td>\n",
       "      <td>0</td>\n",
       "      <td>0</td>\n",
       "      <td>0</td>\n",
       "      <td>0</td>\n",
       "      <td>0</td>\n",
       "      <td>0</td>\n",
       "      <td>0</td>\n",
       "      <td>0</td>\n",
       "      <td>0</td>\n",
       "      <td>0</td>\n",
       "      <td>0</td>\n",
       "      <td>1</td>\n",
       "      <td>0</td>\n",
       "      <td>0</td>\n",
       "    </tr>\n",
       "    <tr>\n",
       "      <th>2</th>\n",
       "      <td>1.0</td>\n",
       "      <td>1829</td>\n",
       "      <td>3876</td>\n",
       "      <td>7828</td>\n",
       "      <td>0</td>\n",
       "      <td>0</td>\n",
       "      <td>0</td>\n",
       "      <td>0</td>\n",
       "      <td>0</td>\n",
       "      <td>0</td>\n",
       "      <td>0</td>\n",
       "      <td>0</td>\n",
       "      <td>0</td>\n",
       "      <td>0</td>\n",
       "      <td>0</td>\n",
       "      <td>...</td>\n",
       "      <td>0</td>\n",
       "      <td>0</td>\n",
       "      <td>0</td>\n",
       "      <td>0</td>\n",
       "      <td>0</td>\n",
       "      <td>0</td>\n",
       "      <td>0</td>\n",
       "      <td>0</td>\n",
       "      <td>0</td>\n",
       "      <td>0</td>\n",
       "      <td>0</td>\n",
       "      <td>0</td>\n",
       "      <td>0</td>\n",
       "      <td>0</td>\n",
       "      <td>0</td>\n",
       "    </tr>\n",
       "    <tr>\n",
       "      <th>3</th>\n",
       "      <td>1.0</td>\n",
       "      <td>1829</td>\n",
       "      <td>3885</td>\n",
       "      <td>7928</td>\n",
       "      <td>0</td>\n",
       "      <td>0</td>\n",
       "      <td>0</td>\n",
       "      <td>0</td>\n",
       "      <td>0</td>\n",
       "      <td>0</td>\n",
       "      <td>0</td>\n",
       "      <td>0</td>\n",
       "      <td>0</td>\n",
       "      <td>0</td>\n",
       "      <td>0</td>\n",
       "      <td>...</td>\n",
       "      <td>0</td>\n",
       "      <td>0</td>\n",
       "      <td>0</td>\n",
       "      <td>0</td>\n",
       "      <td>0</td>\n",
       "      <td>0</td>\n",
       "      <td>0</td>\n",
       "      <td>0</td>\n",
       "      <td>0</td>\n",
       "      <td>0</td>\n",
       "      <td>0</td>\n",
       "      <td>0</td>\n",
       "      <td>1</td>\n",
       "      <td>0</td>\n",
       "      <td>0</td>\n",
       "    </tr>\n",
       "    <tr>\n",
       "      <th>4</th>\n",
       "      <td>1.0</td>\n",
       "      <td>1828</td>\n",
       "      <td>3875</td>\n",
       "      <td>7955</td>\n",
       "      <td>0</td>\n",
       "      <td>0</td>\n",
       "      <td>0</td>\n",
       "      <td>0</td>\n",
       "      <td>0</td>\n",
       "      <td>0</td>\n",
       "      <td>0</td>\n",
       "      <td>0</td>\n",
       "      <td>0</td>\n",
       "      <td>0</td>\n",
       "      <td>0</td>\n",
       "      <td>...</td>\n",
       "      <td>0</td>\n",
       "      <td>0</td>\n",
       "      <td>0</td>\n",
       "      <td>0</td>\n",
       "      <td>0</td>\n",
       "      <td>0</td>\n",
       "      <td>0</td>\n",
       "      <td>0</td>\n",
       "      <td>0</td>\n",
       "      <td>0</td>\n",
       "      <td>0</td>\n",
       "      <td>0</td>\n",
       "      <td>0</td>\n",
       "      <td>0</td>\n",
       "      <td>0</td>\n",
       "    </tr>\n",
       "  </tbody>\n",
       "</table>\n",
       "<p>5 rows × 95 columns</p>\n",
       "</div>"
      ],
      "text/plain": [
       "   Gender  Final_10k_sec  Final_Half_sec  FinishTime_sec  Country_ALG  \\\n",
       "0     1.0           1828            3875            7777            0   \n",
       "1     1.0           1827            3875            7798            0   \n",
       "2     1.0           1829            3876            7828            0   \n",
       "3     1.0           1829            3885            7928            0   \n",
       "4     1.0           1828            3875            7955            0   \n",
       "\n",
       "   Country_AND  Country_ARG  Country_AUS  Country_AUT  Country_BAR  \\\n",
       "0            0            0            0            0            0   \n",
       "1            0            0            0            0            0   \n",
       "2            0            0            0            0            0   \n",
       "3            0            0            0            0            0   \n",
       "4            0            0            0            0            0   \n",
       "\n",
       "   Country_BDI  Country_BEL  Country_BER  Country_BRA  Country_BRN  ...  \\\n",
       "0            0            0            0            0            0  ...   \n",
       "1            0            0            0            0            0  ...   \n",
       "2            0            0            0            0            0  ...   \n",
       "3            0            0            0            0            0  ...   \n",
       "4            0            0            0            0            0  ...   \n",
       "\n",
       "   Country_SRB  Country_SUI  Country_SVK  Country_SWE  Country_TCA  \\\n",
       "0            0            0            0            0            0   \n",
       "1            0            0            0            0            0   \n",
       "2            0            0            0            0            0   \n",
       "3            0            0            0            0            0   \n",
       "4            0            0            0            0            0   \n",
       "\n",
       "   Country_THA  Country_TRI  Country_TUR  Country_TWN  Country_UAE  \\\n",
       "0            0            0            0            0            0   \n",
       "1            0            0            0            0            0   \n",
       "2            0            0            0            0            0   \n",
       "3            0            0            0            0            0   \n",
       "4            0            0            0            0            0   \n",
       "\n",
       "   Country_UKR  Country_URU  Country_USA  Country_VEN  Country_ZIM  \n",
       "0            0            0            0            0            0  \n",
       "1            0            0            1            0            0  \n",
       "2            0            0            0            0            0  \n",
       "3            0            0            1            0            0  \n",
       "4            0            0            0            0            0  \n",
       "\n",
       "[5 rows x 95 columns]"
      ]
     },
     "execution_count": 234,
     "metadata": {},
     "output_type": "execute_result"
    },
    {
     "data": {
      "text/plain": [
       "Index(['Gender', 'Final_10k_sec', 'Final_Half_sec', 'FinishTime_sec',\n",
       "       'Country_ALG', 'Country_AND', 'Country_ARG', 'Country_AUS',\n",
       "       'Country_AUT', 'Country_BAR', 'Country_BDI', 'Country_BEL',\n",
       "       'Country_BER', 'Country_BRA', 'Country_BRN', 'Country_BUL',\n",
       "       'Country_CAN', 'Country_CAY', 'Country_CHI', 'Country_CHN',\n",
       "       'Country_COL', 'Country_CRC', 'Country_CRO', 'Country_CZE',\n",
       "       'Country_DEN', 'Country_DOM', 'Country_ECU', 'Country_EGY',\n",
       "       'Country_ESA', 'Country_ESP', 'Country_EST', 'Country_ETH',\n",
       "       'Country_FIN', 'Country_FLK', 'Country_FRA', 'Country_GBR',\n",
       "       'Country_GER', 'Country_GRE', 'Country_GRN', 'Country_GUA',\n",
       "       'Country_HKG', 'Country_HON', 'Country_HUN', 'Country_INA',\n",
       "       'Country_IND', 'Country_IRL', 'Country_ISL', 'Country_ISR',\n",
       "       'Country_ITA', 'Country_JAM', 'Country_JPN', 'Country_KEN',\n",
       "       'Country_KOR', 'Country_KSA', 'Country_KUW', 'Country_LAT',\n",
       "       'Country_LTU', 'Country_LUX', 'Country_MAR', 'Country_MAS',\n",
       "       'Country_MEX', 'Country_MGL', 'Country_MLT', 'Country_NCA',\n",
       "       'Country_NED', 'Country_NGR', 'Country_NOR', 'Country_NZL',\n",
       "       'Country_PAN', 'Country_PAR', 'Country_PER', 'Country_PHI',\n",
       "       'Country_POL', 'Country_POR', 'Country_ROU', 'Country_RSA',\n",
       "       'Country_RUS', 'Country_SIN', 'Country_SLO', 'Country_SMR',\n",
       "       'Country_SRB', 'Country_SUI', 'Country_SVK', 'Country_SWE',\n",
       "       'Country_TCA', 'Country_THA', 'Country_TRI', 'Country_TUR',\n",
       "       'Country_TWN', 'Country_UAE', 'Country_UKR', 'Country_URU',\n",
       "       'Country_USA', 'Country_VEN', 'Country_ZIM'],\n",
       "      dtype='object')"
      ]
     },
     "execution_count": 234,
     "metadata": {},
     "output_type": "execute_result"
    }
   ],
   "source": [
    "X= df_bos_dec_tree.drop(columns=['BibNo','Age','City','State','10K','40K','Pace_minpermile','Name',\\\n",
    "                              'Finish_Time','Overall_ranking','Gender_ranking','boston_split_ratio',\\\n",
    "                                 'Division_ranking','Half','Final_40k_sec','binned_age2',\\\n",
    "                                'binned_age1'],axis=1)\n",
    "X.head()\n",
    "X.columns"
   ]
  },
  {
   "cell_type": "code",
   "execution_count": 235,
   "metadata": {},
   "outputs": [],
   "source": [
    "Y=df_bos_dec_tree.Age"
   ]
  },
  {
   "cell_type": "code",
   "execution_count": 236,
   "metadata": {},
   "outputs": [
    {
     "data": {
      "text/plain": [
       "DecisionTreeRegressor(criterion='mse', max_depth=2, max_features=None,\n",
       "                      max_leaf_nodes=None, min_impurity_decrease=0.0,\n",
       "                      min_impurity_split=None, min_samples_leaf=1,\n",
       "                      min_samples_split=2, min_weight_fraction_leaf=0.0,\n",
       "                      presort=False, random_state=None, splitter='best')"
      ]
     },
     "execution_count": 236,
     "metadata": {},
     "output_type": "execute_result"
    }
   ],
   "source": [
    "dt.fit(X,Y)"
   ]
  },
  {
   "cell_type": "code",
   "execution_count": 239,
   "metadata": {},
   "outputs": [],
   "source": [
    "import os\n",
    "os.environ[\"PATH\"] += os.pathsep + r'C:\\Users\\MIH\\Anaconda3\\Library\\bin\\graphviz'\n"
   ]
  },
  {
   "cell_type": "code",
   "execution_count": 240,
   "metadata": {},
   "outputs": [
    {
     "data": {
      "image/png": "[encoded data removed]",
      "text/plain": [
       "<IPython.core.display.Image object>"
      ]
     },
     "execution_count": 240,
     "metadata": {},
     "output_type": "execute_result"
    }
   ],
   "source": [
    "# This code will visualize a decision tree dt, trained with the attributes in X and the class labels in Y\n",
    "dt_feature_names = list(X.columns)\n",
    "dt_target_names = [str(s) for s in Y.unique()]\n",
    "tree.export_graphviz(dt, out_file='tree.dot', \n",
    "    feature_names=dt_feature_names, class_names=dt_target_names,\n",
    "    filled=True)  \n",
    "graph = pydotplus.graph_from_dot_file('tree.dot')\n",
    "Image(graph.create_png())"
   ]
  },
  {
   "cell_type": "markdown",
   "metadata": {},
   "source": [
    "## LassoRegressor"
   ]
  },
  {
   "cell_type": "code",
   "execution_count": 241,
   "metadata": {},
   "outputs": [],
   "source": [
    "from sklearn import linear_model\n",
    "regLasso = linear_model.Lasso()"
   ]
  },
  {
   "cell_type": "code",
   "execution_count": 242,
   "metadata": {},
   "outputs": [
    {
     "data": {
      "text/plain": [
       "Lasso(alpha=1.0, copy_X=True, fit_intercept=True, max_iter=1000,\n",
       "      normalize=False, positive=False, precompute=False, random_state=None,\n",
       "      selection='cyclic', tol=0.0001, warm_start=False)"
      ]
     },
     "execution_count": 242,
     "metadata": {},
     "output_type": "execute_result"
    }
   ],
   "source": [
    "regLasso.fit(X,Y)"
   ]
  },
  {
   "cell_type": "code",
   "execution_count": 243,
   "metadata": {},
   "outputs": [
    {
     "data": {
      "text/plain": [
       "array([ 2.45946604e+00,  1.54926501e-03,  6.73233896e-04,  5.91283677e-04,\n",
       "        0.00000000e+00,  0.00000000e+00,  0.00000000e+00,  0.00000000e+00,\n",
       "        0.00000000e+00,  0.00000000e+00, -0.00000000e+00,  0.00000000e+00,\n",
       "        0.00000000e+00,  0.00000000e+00, -0.00000000e+00,  0.00000000e+00,\n",
       "        0.00000000e+00, -0.00000000e+00,  0.00000000e+00,  0.00000000e+00,\n",
       "        0.00000000e+00, -0.00000000e+00,  0.00000000e+00,  0.00000000e+00,\n",
       "        0.00000000e+00,  0.00000000e+00,  0.00000000e+00, -0.00000000e+00,\n",
       "        0.00000000e+00,  0.00000000e+00,  0.00000000e+00, -0.00000000e+00,\n",
       "        0.00000000e+00, -0.00000000e+00,  0.00000000e+00,  0.00000000e+00,\n",
       "        0.00000000e+00,  0.00000000e+00,  0.00000000e+00,  0.00000000e+00,\n",
       "        0.00000000e+00, -0.00000000e+00,  0.00000000e+00, -0.00000000e+00,\n",
       "        0.00000000e+00, -0.00000000e+00,  0.00000000e+00,  0.00000000e+00,\n",
       "        0.00000000e+00,  0.00000000e+00,  0.00000000e+00, -0.00000000e+00,\n",
       "        0.00000000e+00,  0.00000000e+00, -0.00000000e+00, -0.00000000e+00,\n",
       "       -0.00000000e+00,  0.00000000e+00,  0.00000000e+00,  0.00000000e+00,\n",
       "        0.00000000e+00,  0.00000000e+00, -0.00000000e+00, -0.00000000e+00,\n",
       "        0.00000000e+00, -0.00000000e+00,  0.00000000e+00,  0.00000000e+00,\n",
       "        0.00000000e+00,  0.00000000e+00,  0.00000000e+00,  0.00000000e+00,\n",
       "        0.00000000e+00,  0.00000000e+00,  0.00000000e+00,  0.00000000e+00,\n",
       "       -0.00000000e+00,  0.00000000e+00,  0.00000000e+00, -0.00000000e+00,\n",
       "       -0.00000000e+00,  0.00000000e+00,  0.00000000e+00,  0.00000000e+00,\n",
       "        0.00000000e+00,  0.00000000e+00,  0.00000000e+00,  0.00000000e+00,\n",
       "        0.00000000e+00,  0.00000000e+00, -0.00000000e+00,  0.00000000e+00,\n",
       "       -0.00000000e+00,  0.00000000e+00, -0.00000000e+00])"
      ]
     },
     "execution_count": 243,
     "metadata": {},
     "output_type": "execute_result"
    }
   ],
   "source": [
    "regLasso.coef_"
   ]
  },
  {
   "cell_type": "markdown",
   "metadata": {},
   "source": [
    "## KMeans Clustering"
   ]
  },
  {
   "cell_type": "code",
   "execution_count": 244,
   "metadata": {},
   "outputs": [],
   "source": [
    "from sklearn.cluster import KMeans"
   ]
  },
  {
   "cell_type": "code",
   "execution_count": 245,
   "metadata": {},
   "outputs": [],
   "source": [
    "clu = KMeans(n_clusters=2, random_state=0)"
   ]
  },
  {
   "cell_type": "code",
   "execution_count": 246,
   "metadata": {},
   "outputs": [
    {
     "data": {
      "text/plain": [
       "KMeans(algorithm='auto', copy_x=True, init='k-means++', max_iter=300,\n",
       "       n_clusters=2, n_init=10, n_jobs=None, precompute_distances='auto',\n",
       "       random_state=0, tol=0.0001, verbose=0)"
      ]
     },
     "execution_count": 246,
     "metadata": {},
     "output_type": "execute_result"
    }
   ],
   "source": [
    "clu"
   ]
  },
  {
   "cell_type": "code",
   "execution_count": 247,
   "metadata": {},
   "outputs": [
    {
     "data": {
      "text/plain": [
       "KMeans(algorithm='auto', copy_x=True, init='k-means++', max_iter=300,\n",
       "       n_clusters=2, n_init=10, n_jobs=None, precompute_distances='auto',\n",
       "       random_state=0, tol=0.0001, verbose=0)"
      ]
     },
     "execution_count": 247,
     "metadata": {},
     "output_type": "execute_result"
    }
   ],
   "source": [
    "clu.fit(X)"
   ]
  },
  {
   "cell_type": "code",
   "execution_count": 248,
   "metadata": {},
   "outputs": [
    {
     "data": {
      "text/plain": [
       "array([1, 1, 1, ..., 0, 0, 0])"
      ]
     },
     "execution_count": 248,
     "metadata": {},
     "output_type": "execute_result"
    }
   ],
   "source": [
    "clu.labels_"
   ]
  },
  {
   "cell_type": "code",
   "execution_count": 249,
   "metadata": {},
   "outputs": [],
   "source": [
    "df2 = X.copy()"
   ]
  },
  {
   "cell_type": "code",
   "execution_count": 250,
   "metadata": {},
   "outputs": [],
   "source": [
    "df2['cluster']=clu.labels_"
   ]
  },
  {
   "cell_type": "code",
   "execution_count": 251,
   "metadata": {},
   "outputs": [
    {
     "data": {
      "text/html": [
       "<div>\n",
       "<style scoped>\n",
       "    .dataframe tbody tr th:only-of-type {\n",
       "        vertical-align: middle;\n",
       "    }\n",
       "\n",
       "    .dataframe tbody tr th {\n",
       "        vertical-align: top;\n",
       "    }\n",
       "\n",
       "    .dataframe thead th {\n",
       "        text-align: right;\n",
       "    }\n",
       "</style>\n",
       "<table border=\"1\" class=\"dataframe\">\n",
       "  <thead>\n",
       "    <tr style=\"text-align: right;\">\n",
       "      <th></th>\n",
       "      <th>Gender</th>\n",
       "      <th>Final_10k_sec</th>\n",
       "      <th>Final_Half_sec</th>\n",
       "      <th>FinishTime_sec</th>\n",
       "      <th>Country_ALG</th>\n",
       "      <th>Country_AND</th>\n",
       "      <th>Country_ARG</th>\n",
       "      <th>Country_AUS</th>\n",
       "      <th>Country_AUT</th>\n",
       "      <th>Country_BAR</th>\n",
       "      <th>Country_BDI</th>\n",
       "      <th>Country_BEL</th>\n",
       "      <th>Country_BER</th>\n",
       "      <th>Country_BRA</th>\n",
       "      <th>Country_BRN</th>\n",
       "      <th>...</th>\n",
       "      <th>Country_SRB</th>\n",
       "      <th>Country_SUI</th>\n",
       "      <th>Country_SVK</th>\n",
       "      <th>Country_SWE</th>\n",
       "      <th>Country_TCA</th>\n",
       "      <th>Country_THA</th>\n",
       "      <th>Country_TRI</th>\n",
       "      <th>Country_TUR</th>\n",
       "      <th>Country_TWN</th>\n",
       "      <th>Country_UAE</th>\n",
       "      <th>Country_UKR</th>\n",
       "      <th>Country_URU</th>\n",
       "      <th>Country_USA</th>\n",
       "      <th>Country_VEN</th>\n",
       "      <th>Country_ZIM</th>\n",
       "    </tr>\n",
       "    <tr>\n",
       "      <th>cluster</th>\n",
       "      <th></th>\n",
       "      <th></th>\n",
       "      <th></th>\n",
       "      <th></th>\n",
       "      <th></th>\n",
       "      <th></th>\n",
       "      <th></th>\n",
       "      <th></th>\n",
       "      <th></th>\n",
       "      <th></th>\n",
       "      <th></th>\n",
       "      <th></th>\n",
       "      <th></th>\n",
       "      <th></th>\n",
       "      <th></th>\n",
       "      <th></th>\n",
       "      <th></th>\n",
       "      <th></th>\n",
       "      <th></th>\n",
       "      <th></th>\n",
       "      <th></th>\n",
       "      <th></th>\n",
       "      <th></th>\n",
       "      <th></th>\n",
       "      <th></th>\n",
       "      <th></th>\n",
       "      <th></th>\n",
       "      <th></th>\n",
       "      <th></th>\n",
       "      <th></th>\n",
       "      <th></th>\n",
       "    </tr>\n",
       "  </thead>\n",
       "  <tbody>\n",
       "    <tr>\n",
       "      <th>0</th>\n",
       "      <td>0.432154</td>\n",
       "      <td>3581.235880</td>\n",
       "      <td>7843.994727</td>\n",
       "      <td>17233.904031</td>\n",
       "      <td>0.000000</td>\n",
       "      <td>0.000000</td>\n",
       "      <td>0.000586</td>\n",
       "      <td>0.004921</td>\n",
       "      <td>0.001055</td>\n",
       "      <td>0.000000</td>\n",
       "      <td>0.000000</td>\n",
       "      <td>0.001758</td>\n",
       "      <td>0.000117</td>\n",
       "      <td>0.004570</td>\n",
       "      <td>0.000000</td>\n",
       "      <td>...</td>\n",
       "      <td>0.000000</td>\n",
       "      <td>0.003984</td>\n",
       "      <td>0.000234</td>\n",
       "      <td>0.001875</td>\n",
       "      <td>0.000000</td>\n",
       "      <td>0.000234</td>\n",
       "      <td>0.000000</td>\n",
       "      <td>0.000117</td>\n",
       "      <td>0.000937</td>\n",
       "      <td>0.000234</td>\n",
       "      <td>0.000234</td>\n",
       "      <td>0.000469</td>\n",
       "      <td>0.825521</td>\n",
       "      <td>0.000000</td>\n",
       "      <td>0.000000</td>\n",
       "    </tr>\n",
       "    <tr>\n",
       "      <th>1</th>\n",
       "      <td>0.601365</td>\n",
       "      <td>2821.851253</td>\n",
       "      <td>6044.298221</td>\n",
       "      <td>12875.059297</td>\n",
       "      <td>0.000112</td>\n",
       "      <td>0.000056</td>\n",
       "      <td>0.001734</td>\n",
       "      <td>0.008335</td>\n",
       "      <td>0.000727</td>\n",
       "      <td>0.000224</td>\n",
       "      <td>0.000056</td>\n",
       "      <td>0.001510</td>\n",
       "      <td>0.000112</td>\n",
       "      <td>0.009286</td>\n",
       "      <td>0.000056</td>\n",
       "      <td>...</td>\n",
       "      <td>0.000056</td>\n",
       "      <td>0.003524</td>\n",
       "      <td>0.000224</td>\n",
       "      <td>0.002517</td>\n",
       "      <td>0.000056</td>\n",
       "      <td>0.000168</td>\n",
       "      <td>0.000056</td>\n",
       "      <td>0.000224</td>\n",
       "      <td>0.002573</td>\n",
       "      <td>0.000280</td>\n",
       "      <td>0.000112</td>\n",
       "      <td>0.000056</td>\n",
       "      <td>0.777579</td>\n",
       "      <td>0.000336</td>\n",
       "      <td>0.000056</td>\n",
       "    </tr>\n",
       "  </tbody>\n",
       "</table>\n",
       "<p>2 rows × 95 columns</p>\n",
       "</div>"
      ],
      "text/plain": [
       "           Gender  Final_10k_sec  Final_Half_sec  FinishTime_sec  Country_ALG  \\\n",
       "cluster                                                                         \n",
       "0        0.432154    3581.235880     7843.994727    17233.904031     0.000000   \n",
       "1        0.601365    2821.851253     6044.298221    12875.059297     0.000112   \n",
       "\n",
       "         Country_AND  Country_ARG  Country_AUS  Country_AUT  Country_BAR  \\\n",
       "cluster                                                                    \n",
       "0           0.000000     0.000586     0.004921     0.001055     0.000000   \n",
       "1           0.000056     0.001734     0.008335     0.000727     0.000224   \n",
       "\n",
       "         Country_BDI  Country_BEL  Country_BER  Country_BRA  Country_BRN  ...  \\\n",
       "cluster                                                                   ...   \n",
       "0           0.000000     0.001758     0.000117     0.004570     0.000000  ...   \n",
       "1           0.000056     0.001510     0.000112     0.009286     0.000056  ...   \n",
       "\n",
       "         Country_SRB  Country_SUI  Country_SVK  Country_SWE  Country_TCA  \\\n",
       "cluster                                                                    \n",
       "0           0.000000     0.003984     0.000234     0.001875     0.000000   \n",
       "1           0.000056     0.003524     0.000224     0.002517     0.000056   \n",
       "\n",
       "         Country_THA  Country_TRI  Country_TUR  Country_TWN  Country_UAE  \\\n",
       "cluster                                                                    \n",
       "0           0.000234     0.000000     0.000117     0.000937     0.000234   \n",
       "1           0.000168     0.000056     0.000224     0.002573     0.000280   \n",
       "\n",
       "         Country_UKR  Country_URU  Country_USA  Country_VEN  Country_ZIM  \n",
       "cluster                                                                   \n",
       "0           0.000234     0.000469     0.825521     0.000000     0.000000  \n",
       "1           0.000112     0.000056     0.777579     0.000336     0.000056  \n",
       "\n",
       "[2 rows x 95 columns]"
      ]
     },
     "execution_count": 251,
     "metadata": {},
     "output_type": "execute_result"
    }
   ],
   "source": [
    "df2.groupby('cluster').mean()"
   ]
  },
  {
   "cell_type": "code",
   "execution_count": null,
   "metadata": {},
   "outputs": [],
   "source": []
  }
 ],
 "metadata": {
  "kernelspec": {
   "display_name": "Python 3",
   "language": "python",
   "name": "python3"
  },
  "language_info": {
   "codemirror_mode": {
    "name": "ipython",
    "version": 3
   },
   "file_extension": ".py",
   "mimetype": "text/x-python",
   "name": "python",
   "nbconvert_exporter": "python",
   "pygments_lexer": "ipython3",
   "version": "3.9.1"
  }
 },
 "nbformat": 4,
 "nbformat_minor": 2
}
